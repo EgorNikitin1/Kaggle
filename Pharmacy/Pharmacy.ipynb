{
 "cells": [
  {
   "cell_type": "code",
   "execution_count": 1,
   "metadata": {
    "collapsed": true,
    "ExecuteTime": {
     "end_time": "2024-02-29T16:29:14.580921300Z",
     "start_time": "2024-02-29T16:29:14.036897600Z"
    }
   },
   "outputs": [],
   "source": [
    "import pandas as pd"
   ]
  },
  {
   "cell_type": "code",
   "execution_count": 9,
   "outputs": [
    {
     "data": {
      "text/plain": "                      datetime       shop           card  bonus_earned  \\\n0      2021-07-13 12:56:09.000   Аптека 2  2000200195023            51   \n1      2021-07-30 10:42:00.000   Аптека 2  2000200193494            57   \n2      2021-10-11 12:55:23.000   Аптека 2  2000200199106            92   \n3      2021-10-14 14:48:56.000   Аптека 2  2000200168768             1   \n4      2021-10-20 11:09:39.000   Аптека 2  2000200226314           101   \n...                        ...        ...            ...           ...   \n37352  2022-06-09 20:45:32.000  Аптека 11  2000200244974            32   \n37353  2022-06-09 20:55:32.000  Аптека 11  2000200239246            38   \n37354  2022-06-09 20:59:41.000  Аптека 11  2000200238867            57   \n37355  2022-06-09 21:07:59.000  Аптека 11  2000200165811             2   \n37356  2022-06-09 21:49:45.000  Аптека 11  2000200241331             2   \n\n       bonus_spent  summ  summ_with_disc                    doc_id  \n0                0  3400            3400     15#2002741#65938#2_29  \n1                0   747             747      15#2002972#65955#2_5  \n2              253  3077            3077     15#2004060#66028#2_29  \n3                0    54              54     15#2004107#66031#2_57  \n4                0  1733            1733     15#2004192#66037#2_16  \n...            ...   ...             ...                       ...  \n37352            0  1341            1341  15#18001790#66269#18_120  \n37353            0  1445            1445  15#18001790#66269#18_123  \n37354            0  1912            1912  15#18001790#66269#18_126  \n37355            0   278             278  15#18001790#66269#18_129  \n37356            0   290             290  15#18001790#66269#18_137  \n\n[37357 rows x 8 columns]",
      "text/html": "<div>\n<style scoped>\n    .dataframe tbody tr th:only-of-type {\n        vertical-align: middle;\n    }\n\n    .dataframe tbody tr th {\n        vertical-align: top;\n    }\n\n    .dataframe thead th {\n        text-align: right;\n    }\n</style>\n<table border=\"1\" class=\"dataframe\">\n  <thead>\n    <tr style=\"text-align: right;\">\n      <th></th>\n      <th>datetime</th>\n      <th>shop</th>\n      <th>card</th>\n      <th>bonus_earned</th>\n      <th>bonus_spent</th>\n      <th>summ</th>\n      <th>summ_with_disc</th>\n      <th>doc_id</th>\n    </tr>\n  </thead>\n  <tbody>\n    <tr>\n      <th>0</th>\n      <td>2021-07-13 12:56:09.000</td>\n      <td>Аптека 2</td>\n      <td>2000200195023</td>\n      <td>51</td>\n      <td>0</td>\n      <td>3400</td>\n      <td>3400</td>\n      <td>15#2002741#65938#2_29</td>\n    </tr>\n    <tr>\n      <th>1</th>\n      <td>2021-07-30 10:42:00.000</td>\n      <td>Аптека 2</td>\n      <td>2000200193494</td>\n      <td>57</td>\n      <td>0</td>\n      <td>747</td>\n      <td>747</td>\n      <td>15#2002972#65955#2_5</td>\n    </tr>\n    <tr>\n      <th>2</th>\n      <td>2021-10-11 12:55:23.000</td>\n      <td>Аптека 2</td>\n      <td>2000200199106</td>\n      <td>92</td>\n      <td>253</td>\n      <td>3077</td>\n      <td>3077</td>\n      <td>15#2004060#66028#2_29</td>\n    </tr>\n    <tr>\n      <th>3</th>\n      <td>2021-10-14 14:48:56.000</td>\n      <td>Аптека 2</td>\n      <td>2000200168768</td>\n      <td>1</td>\n      <td>0</td>\n      <td>54</td>\n      <td>54</td>\n      <td>15#2004107#66031#2_57</td>\n    </tr>\n    <tr>\n      <th>4</th>\n      <td>2021-10-20 11:09:39.000</td>\n      <td>Аптека 2</td>\n      <td>2000200226314</td>\n      <td>101</td>\n      <td>0</td>\n      <td>1733</td>\n      <td>1733</td>\n      <td>15#2004192#66037#2_16</td>\n    </tr>\n    <tr>\n      <th>...</th>\n      <td>...</td>\n      <td>...</td>\n      <td>...</td>\n      <td>...</td>\n      <td>...</td>\n      <td>...</td>\n      <td>...</td>\n      <td>...</td>\n    </tr>\n    <tr>\n      <th>37352</th>\n      <td>2022-06-09 20:45:32.000</td>\n      <td>Аптека 11</td>\n      <td>2000200244974</td>\n      <td>32</td>\n      <td>0</td>\n      <td>1341</td>\n      <td>1341</td>\n      <td>15#18001790#66269#18_120</td>\n    </tr>\n    <tr>\n      <th>37353</th>\n      <td>2022-06-09 20:55:32.000</td>\n      <td>Аптека 11</td>\n      <td>2000200239246</td>\n      <td>38</td>\n      <td>0</td>\n      <td>1445</td>\n      <td>1445</td>\n      <td>15#18001790#66269#18_123</td>\n    </tr>\n    <tr>\n      <th>37354</th>\n      <td>2022-06-09 20:59:41.000</td>\n      <td>Аптека 11</td>\n      <td>2000200238867</td>\n      <td>57</td>\n      <td>0</td>\n      <td>1912</td>\n      <td>1912</td>\n      <td>15#18001790#66269#18_126</td>\n    </tr>\n    <tr>\n      <th>37355</th>\n      <td>2022-06-09 21:07:59.000</td>\n      <td>Аптека 11</td>\n      <td>2000200165811</td>\n      <td>2</td>\n      <td>0</td>\n      <td>278</td>\n      <td>278</td>\n      <td>15#18001790#66269#18_129</td>\n    </tr>\n    <tr>\n      <th>37356</th>\n      <td>2022-06-09 21:49:45.000</td>\n      <td>Аптека 11</td>\n      <td>2000200241331</td>\n      <td>2</td>\n      <td>0</td>\n      <td>290</td>\n      <td>290</td>\n      <td>15#18001790#66269#18_137</td>\n    </tr>\n  </tbody>\n</table>\n<p>37357 rows × 8 columns</p>\n</div>"
     },
     "execution_count": 9,
     "metadata": {},
     "output_type": "execute_result"
    }
   ],
   "source": [
    "df = pd.read_csv('pharmacy.csv', sep=';')\n",
    "df"
   ],
   "metadata": {
    "collapsed": false,
    "ExecuteTime": {
     "end_time": "2024-02-29T16:34:06.110394700Z",
     "start_time": "2024-02-29T16:34:05.981894600Z"
    }
   }
  },
  {
   "cell_type": "code",
   "execution_count": 5,
   "outputs": [
    {
     "data": {
      "text/plain": "(37357, 8)"
     },
     "execution_count": 5,
     "metadata": {},
     "output_type": "execute_result"
    }
   ],
   "source": [
    "df.shape"
   ],
   "metadata": {
    "collapsed": false,
    "ExecuteTime": {
     "end_time": "2024-02-29T16:32:53.101924100Z",
     "start_time": "2024-02-29T16:32:53.089898100Z"
    }
   }
  },
  {
   "cell_type": "code",
   "execution_count": 10,
   "outputs": [
    {
     "data": {
      "text/plain": "                 datetime       shop           card  bonus_earned  \\\n0     2021-07-13 12:56:09   Аптека 2  2000200195023            51   \n1     2021-07-30 10:42:00   Аптека 2  2000200193494            57   \n2     2021-10-11 12:55:23   Аптека 2  2000200199106            92   \n3     2021-10-14 14:48:56   Аптека 2  2000200168768             1   \n4     2021-10-20 11:09:39   Аптека 2  2000200226314           101   \n...                   ...        ...            ...           ...   \n37352 2022-06-09 20:45:32  Аптека 11  2000200244974            32   \n37353 2022-06-09 20:55:32  Аптека 11  2000200239246            38   \n37354 2022-06-09 20:59:41  Аптека 11  2000200238867            57   \n37355 2022-06-09 21:07:59  Аптека 11  2000200165811             2   \n37356 2022-06-09 21:49:45  Аптека 11  2000200241331             2   \n\n       bonus_spent  summ  summ_with_disc                    doc_id  \n0                0  3400            3400     15#2002741#65938#2_29  \n1                0   747             747      15#2002972#65955#2_5  \n2              253  3077            3077     15#2004060#66028#2_29  \n3                0    54              54     15#2004107#66031#2_57  \n4                0  1733            1733     15#2004192#66037#2_16  \n...            ...   ...             ...                       ...  \n37352            0  1341            1341  15#18001790#66269#18_120  \n37353            0  1445            1445  15#18001790#66269#18_123  \n37354            0  1912            1912  15#18001790#66269#18_126  \n37355            0   278             278  15#18001790#66269#18_129  \n37356            0   290             290  15#18001790#66269#18_137  \n\n[37357 rows x 8 columns]",
      "text/html": "<div>\n<style scoped>\n    .dataframe tbody tr th:only-of-type {\n        vertical-align: middle;\n    }\n\n    .dataframe tbody tr th {\n        vertical-align: top;\n    }\n\n    .dataframe thead th {\n        text-align: right;\n    }\n</style>\n<table border=\"1\" class=\"dataframe\">\n  <thead>\n    <tr style=\"text-align: right;\">\n      <th></th>\n      <th>datetime</th>\n      <th>shop</th>\n      <th>card</th>\n      <th>bonus_earned</th>\n      <th>bonus_spent</th>\n      <th>summ</th>\n      <th>summ_with_disc</th>\n      <th>doc_id</th>\n    </tr>\n  </thead>\n  <tbody>\n    <tr>\n      <th>0</th>\n      <td>2021-07-13 12:56:09</td>\n      <td>Аптека 2</td>\n      <td>2000200195023</td>\n      <td>51</td>\n      <td>0</td>\n      <td>3400</td>\n      <td>3400</td>\n      <td>15#2002741#65938#2_29</td>\n    </tr>\n    <tr>\n      <th>1</th>\n      <td>2021-07-30 10:42:00</td>\n      <td>Аптека 2</td>\n      <td>2000200193494</td>\n      <td>57</td>\n      <td>0</td>\n      <td>747</td>\n      <td>747</td>\n      <td>15#2002972#65955#2_5</td>\n    </tr>\n    <tr>\n      <th>2</th>\n      <td>2021-10-11 12:55:23</td>\n      <td>Аптека 2</td>\n      <td>2000200199106</td>\n      <td>92</td>\n      <td>253</td>\n      <td>3077</td>\n      <td>3077</td>\n      <td>15#2004060#66028#2_29</td>\n    </tr>\n    <tr>\n      <th>3</th>\n      <td>2021-10-14 14:48:56</td>\n      <td>Аптека 2</td>\n      <td>2000200168768</td>\n      <td>1</td>\n      <td>0</td>\n      <td>54</td>\n      <td>54</td>\n      <td>15#2004107#66031#2_57</td>\n    </tr>\n    <tr>\n      <th>4</th>\n      <td>2021-10-20 11:09:39</td>\n      <td>Аптека 2</td>\n      <td>2000200226314</td>\n      <td>101</td>\n      <td>0</td>\n      <td>1733</td>\n      <td>1733</td>\n      <td>15#2004192#66037#2_16</td>\n    </tr>\n    <tr>\n      <th>...</th>\n      <td>...</td>\n      <td>...</td>\n      <td>...</td>\n      <td>...</td>\n      <td>...</td>\n      <td>...</td>\n      <td>...</td>\n      <td>...</td>\n    </tr>\n    <tr>\n      <th>37352</th>\n      <td>2022-06-09 20:45:32</td>\n      <td>Аптека 11</td>\n      <td>2000200244974</td>\n      <td>32</td>\n      <td>0</td>\n      <td>1341</td>\n      <td>1341</td>\n      <td>15#18001790#66269#18_120</td>\n    </tr>\n    <tr>\n      <th>37353</th>\n      <td>2022-06-09 20:55:32</td>\n      <td>Аптека 11</td>\n      <td>2000200239246</td>\n      <td>38</td>\n      <td>0</td>\n      <td>1445</td>\n      <td>1445</td>\n      <td>15#18001790#66269#18_123</td>\n    </tr>\n    <tr>\n      <th>37354</th>\n      <td>2022-06-09 20:59:41</td>\n      <td>Аптека 11</td>\n      <td>2000200238867</td>\n      <td>57</td>\n      <td>0</td>\n      <td>1912</td>\n      <td>1912</td>\n      <td>15#18001790#66269#18_126</td>\n    </tr>\n    <tr>\n      <th>37355</th>\n      <td>2022-06-09 21:07:59</td>\n      <td>Аптека 11</td>\n      <td>2000200165811</td>\n      <td>2</td>\n      <td>0</td>\n      <td>278</td>\n      <td>278</td>\n      <td>15#18001790#66269#18_129</td>\n    </tr>\n    <tr>\n      <th>37356</th>\n      <td>2022-06-09 21:49:45</td>\n      <td>Аптека 11</td>\n      <td>2000200241331</td>\n      <td>2</td>\n      <td>0</td>\n      <td>290</td>\n      <td>290</td>\n      <td>15#18001790#66269#18_137</td>\n    </tr>\n  </tbody>\n</table>\n<p>37357 rows × 8 columns</p>\n</div>"
     },
     "execution_count": 10,
     "metadata": {},
     "output_type": "execute_result"
    }
   ],
   "source": [
    "df['datetime'] = pd.to_datetime(df['datetime'])\n",
    "df"
   ],
   "metadata": {
    "collapsed": false,
    "ExecuteTime": {
     "end_time": "2024-02-29T16:34:07.918897500Z",
     "start_time": "2024-02-29T16:34:07.872895600Z"
    }
   }
  },
  {
   "cell_type": "code",
   "execution_count": 11,
   "outputs": [
    {
     "data": {
      "text/plain": "                 datetime      shop                                  card  \\\n319   2021-07-21 17:45:28  Аптека 2  001848d0-e56a-412e-be0a-423dfa0e564f   \n998   2021-07-28 18:15:11  Аптека 2  001848d0-e56a-412e-be0a-423dfa0e564f   \n1017  2021-07-28 20:56:24  Аптека 2  001848d0-e56a-412e-be0a-423dfa0e564f   \n8492  2021-10-08 12:16:55  Аптека 2  001848d0-e56a-412e-be0a-423dfa0e564f   \n33907 2022-05-12 18:09:42  Аптека 2  001848d0-e56a-412e-be0a-423dfa0e564f   \n...                   ...       ...                                   ...   \n23140 2022-02-08 10:06:37  Аптека 2  ffd93478-ad6d-494f-a6ab-f7f0c8058488   \n25803 2022-03-02 16:19:43  Аптека 2  ffd93478-ad6d-494f-a6ab-f7f0c8058488   \n352   2021-07-22 09:28:01  Аптека 1  ffe736c6-bba4-4578-99df-e1d9846c44c4   \n22470 2022-02-03 15:36:20  Аптека 1  ffe736c6-bba4-4578-99df-e1d9846c44c4   \n29036 2022-03-30 18:51:21  Аптека 1  ffe736c6-bba4-4578-99df-e1d9846c44c4   \n\n       bonus_earned  bonus_spent  summ  summ_with_disc  \\\n319              17           54   586             586   \n998               2            0    96              96   \n1017             42            0  1410            1410   \n8492             31           10  1035            1035   \n33907            14            0   489             489   \n...             ...          ...   ...             ...   \n23140             0           12    66              66   \n25803             6            0   619             619   \n352               3           82  1522            1522   \n22470            10            0   344             344   \n29036            47            0  1563            1563   \n\n                         doc_id  \n319       15#2002856#65946#2_89  \n998       15#2002946#65953#2_79  \n1017     15#2002946#65953#2_114  \n8492      15#2004031#66025#2_29  \n33907     15#2003017#66241#2_80  \n...                         ...  \n23140      15#2000658#66148#2_6  \n25803     15#2001150#66170#2_76  \n352     15#13002389#65947#13_12  \n22470   15#13000399#66143#13_94  \n29036  15#13001230#66198#13_133  \n\n[37357 rows x 8 columns]",
      "text/html": "<div>\n<style scoped>\n    .dataframe tbody tr th:only-of-type {\n        vertical-align: middle;\n    }\n\n    .dataframe tbody tr th {\n        vertical-align: top;\n    }\n\n    .dataframe thead th {\n        text-align: right;\n    }\n</style>\n<table border=\"1\" class=\"dataframe\">\n  <thead>\n    <tr style=\"text-align: right;\">\n      <th></th>\n      <th>datetime</th>\n      <th>shop</th>\n      <th>card</th>\n      <th>bonus_earned</th>\n      <th>bonus_spent</th>\n      <th>summ</th>\n      <th>summ_with_disc</th>\n      <th>doc_id</th>\n    </tr>\n  </thead>\n  <tbody>\n    <tr>\n      <th>319</th>\n      <td>2021-07-21 17:45:28</td>\n      <td>Аптека 2</td>\n      <td>001848d0-e56a-412e-be0a-423dfa0e564f</td>\n      <td>17</td>\n      <td>54</td>\n      <td>586</td>\n      <td>586</td>\n      <td>15#2002856#65946#2_89</td>\n    </tr>\n    <tr>\n      <th>998</th>\n      <td>2021-07-28 18:15:11</td>\n      <td>Аптека 2</td>\n      <td>001848d0-e56a-412e-be0a-423dfa0e564f</td>\n      <td>2</td>\n      <td>0</td>\n      <td>96</td>\n      <td>96</td>\n      <td>15#2002946#65953#2_79</td>\n    </tr>\n    <tr>\n      <th>1017</th>\n      <td>2021-07-28 20:56:24</td>\n      <td>Аптека 2</td>\n      <td>001848d0-e56a-412e-be0a-423dfa0e564f</td>\n      <td>42</td>\n      <td>0</td>\n      <td>1410</td>\n      <td>1410</td>\n      <td>15#2002946#65953#2_114</td>\n    </tr>\n    <tr>\n      <th>8492</th>\n      <td>2021-10-08 12:16:55</td>\n      <td>Аптека 2</td>\n      <td>001848d0-e56a-412e-be0a-423dfa0e564f</td>\n      <td>31</td>\n      <td>10</td>\n      <td>1035</td>\n      <td>1035</td>\n      <td>15#2004031#66025#2_29</td>\n    </tr>\n    <tr>\n      <th>33907</th>\n      <td>2022-05-12 18:09:42</td>\n      <td>Аптека 2</td>\n      <td>001848d0-e56a-412e-be0a-423dfa0e564f</td>\n      <td>14</td>\n      <td>0</td>\n      <td>489</td>\n      <td>489</td>\n      <td>15#2003017#66241#2_80</td>\n    </tr>\n    <tr>\n      <th>...</th>\n      <td>...</td>\n      <td>...</td>\n      <td>...</td>\n      <td>...</td>\n      <td>...</td>\n      <td>...</td>\n      <td>...</td>\n      <td>...</td>\n    </tr>\n    <tr>\n      <th>23140</th>\n      <td>2022-02-08 10:06:37</td>\n      <td>Аптека 2</td>\n      <td>ffd93478-ad6d-494f-a6ab-f7f0c8058488</td>\n      <td>0</td>\n      <td>12</td>\n      <td>66</td>\n      <td>66</td>\n      <td>15#2000658#66148#2_6</td>\n    </tr>\n    <tr>\n      <th>25803</th>\n      <td>2022-03-02 16:19:43</td>\n      <td>Аптека 2</td>\n      <td>ffd93478-ad6d-494f-a6ab-f7f0c8058488</td>\n      <td>6</td>\n      <td>0</td>\n      <td>619</td>\n      <td>619</td>\n      <td>15#2001150#66170#2_76</td>\n    </tr>\n    <tr>\n      <th>352</th>\n      <td>2021-07-22 09:28:01</td>\n      <td>Аптека 1</td>\n      <td>ffe736c6-bba4-4578-99df-e1d9846c44c4</td>\n      <td>3</td>\n      <td>82</td>\n      <td>1522</td>\n      <td>1522</td>\n      <td>15#13002389#65947#13_12</td>\n    </tr>\n    <tr>\n      <th>22470</th>\n      <td>2022-02-03 15:36:20</td>\n      <td>Аптека 1</td>\n      <td>ffe736c6-bba4-4578-99df-e1d9846c44c4</td>\n      <td>10</td>\n      <td>0</td>\n      <td>344</td>\n      <td>344</td>\n      <td>15#13000399#66143#13_94</td>\n    </tr>\n    <tr>\n      <th>29036</th>\n      <td>2022-03-30 18:51:21</td>\n      <td>Аптека 1</td>\n      <td>ffe736c6-bba4-4578-99df-e1d9846c44c4</td>\n      <td>47</td>\n      <td>0</td>\n      <td>1563</td>\n      <td>1563</td>\n      <td>15#13001230#66198#13_133</td>\n    </tr>\n  </tbody>\n</table>\n<p>37357 rows × 8 columns</p>\n</div>"
     },
     "execution_count": 11,
     "metadata": {},
     "output_type": "execute_result"
    }
   ],
   "source": [
    "df = df.sort_values(['card', 'datetime'])\n",
    "df"
   ],
   "metadata": {
    "collapsed": false,
    "ExecuteTime": {
     "end_time": "2024-02-29T16:34:09.084395700Z",
     "start_time": "2024-02-29T16:34:09.048895400Z"
    }
   }
  },
  {
   "cell_type": "code",
   "execution_count": 12,
   "outputs": [
    {
     "data": {
      "text/plain": "Timestamp('2022-06-09 21:49:45')"
     },
     "execution_count": 12,
     "metadata": {},
     "output_type": "execute_result"
    }
   ],
   "source": [
    "max(df['datetime'])"
   ],
   "metadata": {
    "collapsed": false,
    "ExecuteTime": {
     "end_time": "2024-02-29T16:35:12.042396Z",
     "start_time": "2024-02-29T16:35:11.997395400Z"
    }
   }
  },
  {
   "cell_type": "code",
   "execution_count": 15,
   "outputs": [
    {
     "data": {
      "text/plain": "                                      card  purchase_sum  purchase_amount  \\\n0     001848d0-e56a-412e-be0a-423dfa0e564f          4027                6   \n1     001cb0a0-e62e-47a9-995e-599bdc7f8750          5516               11   \n2     00572591-c154-4b9f-83e4-3ce5b00bf9c8           557                1   \n3     00625996-f49f-4863-8132-40d08e99b2da          4755                4   \n4     00703805-f16d-4b83-b7ad-affb2736aa0d          1555                1   \n...                                    ...           ...              ...   \n9265  ff9695c5-6e8c-4446-adc6-944b2731b8f7           559                1   \n9266  ffbf9d44-679e-412a-9927-ac6ce80c49a2           539                1   \n9267  ffd22196-662c-4266-b3be-024a42cad78b          2052                3   \n9268  ffd93478-ad6d-494f-a6ab-f7f0c8058488          2294                7   \n9269  ffe736c6-bba4-4578-99df-e1d9846c44c4          3429                3   \n\n           last_purchase  \n0    2022-05-14 17:24:09  \n1    2022-05-13 10:22:40  \n2    2021-10-08 13:07:02  \n3    2022-04-14 19:48:14  \n4    2022-05-25 17:34:07  \n...                  ...  \n9265 2021-12-19 16:21:55  \n9266 2021-08-27 14:26:45  \n9267 2022-06-05 18:23:01  \n9268 2022-03-02 16:19:43  \n9269 2022-03-30 18:51:21  \n\n[9270 rows x 4 columns]",
      "text/html": "<div>\n<style scoped>\n    .dataframe tbody tr th:only-of-type {\n        vertical-align: middle;\n    }\n\n    .dataframe tbody tr th {\n        vertical-align: top;\n    }\n\n    .dataframe thead th {\n        text-align: right;\n    }\n</style>\n<table border=\"1\" class=\"dataframe\">\n  <thead>\n    <tr style=\"text-align: right;\">\n      <th></th>\n      <th>card</th>\n      <th>purchase_sum</th>\n      <th>purchase_amount</th>\n      <th>last_purchase</th>\n    </tr>\n  </thead>\n  <tbody>\n    <tr>\n      <th>0</th>\n      <td>001848d0-e56a-412e-be0a-423dfa0e564f</td>\n      <td>4027</td>\n      <td>6</td>\n      <td>2022-05-14 17:24:09</td>\n    </tr>\n    <tr>\n      <th>1</th>\n      <td>001cb0a0-e62e-47a9-995e-599bdc7f8750</td>\n      <td>5516</td>\n      <td>11</td>\n      <td>2022-05-13 10:22:40</td>\n    </tr>\n    <tr>\n      <th>2</th>\n      <td>00572591-c154-4b9f-83e4-3ce5b00bf9c8</td>\n      <td>557</td>\n      <td>1</td>\n      <td>2021-10-08 13:07:02</td>\n    </tr>\n    <tr>\n      <th>3</th>\n      <td>00625996-f49f-4863-8132-40d08e99b2da</td>\n      <td>4755</td>\n      <td>4</td>\n      <td>2022-04-14 19:48:14</td>\n    </tr>\n    <tr>\n      <th>4</th>\n      <td>00703805-f16d-4b83-b7ad-affb2736aa0d</td>\n      <td>1555</td>\n      <td>1</td>\n      <td>2022-05-25 17:34:07</td>\n    </tr>\n    <tr>\n      <th>...</th>\n      <td>...</td>\n      <td>...</td>\n      <td>...</td>\n      <td>...</td>\n    </tr>\n    <tr>\n      <th>9265</th>\n      <td>ff9695c5-6e8c-4446-adc6-944b2731b8f7</td>\n      <td>559</td>\n      <td>1</td>\n      <td>2021-12-19 16:21:55</td>\n    </tr>\n    <tr>\n      <th>9266</th>\n      <td>ffbf9d44-679e-412a-9927-ac6ce80c49a2</td>\n      <td>539</td>\n      <td>1</td>\n      <td>2021-08-27 14:26:45</td>\n    </tr>\n    <tr>\n      <th>9267</th>\n      <td>ffd22196-662c-4266-b3be-024a42cad78b</td>\n      <td>2052</td>\n      <td>3</td>\n      <td>2022-06-05 18:23:01</td>\n    </tr>\n    <tr>\n      <th>9268</th>\n      <td>ffd93478-ad6d-494f-a6ab-f7f0c8058488</td>\n      <td>2294</td>\n      <td>7</td>\n      <td>2022-03-02 16:19:43</td>\n    </tr>\n    <tr>\n      <th>9269</th>\n      <td>ffe736c6-bba4-4578-99df-e1d9846c44c4</td>\n      <td>3429</td>\n      <td>3</td>\n      <td>2022-03-30 18:51:21</td>\n    </tr>\n  </tbody>\n</table>\n<p>9270 rows × 4 columns</p>\n</div>"
     },
     "execution_count": 15,
     "metadata": {},
     "output_type": "execute_result"
    }
   ],
   "source": [
    "df2 = df.groupby('card').agg(\n",
    "    purchase_sum = ('summ_with_disc', 'sum'),\n",
    "    purchase_amount = ('summ_with_disc', 'count'),\n",
    "    last_purchase = ('datetime', 'last')\n",
    ").reset_index()\n",
    "df2"
   ],
   "metadata": {
    "collapsed": false,
    "ExecuteTime": {
     "end_time": "2024-02-29T16:38:09.693395700Z",
     "start_time": "2024-02-29T16:38:09.666896300Z"
    }
   }
  },
  {
   "cell_type": "code",
   "execution_count": 16,
   "outputs": [
    {
     "data": {
      "text/plain": "                                      card  purchase_sum  purchase_amount  \\\n0     001848d0-e56a-412e-be0a-423dfa0e564f          4027                6   \n1     001cb0a0-e62e-47a9-995e-599bdc7f8750          5516               11   \n2     00572591-c154-4b9f-83e4-3ce5b00bf9c8           557                1   \n3     00625996-f49f-4863-8132-40d08e99b2da          4755                4   \n4     00703805-f16d-4b83-b7ad-affb2736aa0d          1555                1   \n...                                    ...           ...              ...   \n9265  ff9695c5-6e8c-4446-adc6-944b2731b8f7           559                1   \n9266  ffbf9d44-679e-412a-9927-ac6ce80c49a2           539                1   \n9267  ffd22196-662c-4266-b3be-024a42cad78b          2052                3   \n9268  ffd93478-ad6d-494f-a6ab-f7f0c8058488          2294                7   \n9269  ffe736c6-bba4-4578-99df-e1d9846c44c4          3429                3   \n\n           last_purchase  days_since_last_purchase  \n0    2022-05-14 17:24:09                        26  \n1    2022-05-13 10:22:40                        27  \n2    2021-10-08 13:07:02                       244  \n3    2022-04-14 19:48:14                        56  \n4    2022-05-25 17:34:07                        15  \n...                  ...                       ...  \n9265 2021-12-19 16:21:55                       172  \n9266 2021-08-27 14:26:45                       286  \n9267 2022-06-05 18:23:01                         4  \n9268 2022-03-02 16:19:43                        99  \n9269 2022-03-30 18:51:21                        71  \n\n[9270 rows x 5 columns]",
      "text/html": "<div>\n<style scoped>\n    .dataframe tbody tr th:only-of-type {\n        vertical-align: middle;\n    }\n\n    .dataframe tbody tr th {\n        vertical-align: top;\n    }\n\n    .dataframe thead th {\n        text-align: right;\n    }\n</style>\n<table border=\"1\" class=\"dataframe\">\n  <thead>\n    <tr style=\"text-align: right;\">\n      <th></th>\n      <th>card</th>\n      <th>purchase_sum</th>\n      <th>purchase_amount</th>\n      <th>last_purchase</th>\n      <th>days_since_last_purchase</th>\n    </tr>\n  </thead>\n  <tbody>\n    <tr>\n      <th>0</th>\n      <td>001848d0-e56a-412e-be0a-423dfa0e564f</td>\n      <td>4027</td>\n      <td>6</td>\n      <td>2022-05-14 17:24:09</td>\n      <td>26</td>\n    </tr>\n    <tr>\n      <th>1</th>\n      <td>001cb0a0-e62e-47a9-995e-599bdc7f8750</td>\n      <td>5516</td>\n      <td>11</td>\n      <td>2022-05-13 10:22:40</td>\n      <td>27</td>\n    </tr>\n    <tr>\n      <th>2</th>\n      <td>00572591-c154-4b9f-83e4-3ce5b00bf9c8</td>\n      <td>557</td>\n      <td>1</td>\n      <td>2021-10-08 13:07:02</td>\n      <td>244</td>\n    </tr>\n    <tr>\n      <th>3</th>\n      <td>00625996-f49f-4863-8132-40d08e99b2da</td>\n      <td>4755</td>\n      <td>4</td>\n      <td>2022-04-14 19:48:14</td>\n      <td>56</td>\n    </tr>\n    <tr>\n      <th>4</th>\n      <td>00703805-f16d-4b83-b7ad-affb2736aa0d</td>\n      <td>1555</td>\n      <td>1</td>\n      <td>2022-05-25 17:34:07</td>\n      <td>15</td>\n    </tr>\n    <tr>\n      <th>...</th>\n      <td>...</td>\n      <td>...</td>\n      <td>...</td>\n      <td>...</td>\n      <td>...</td>\n    </tr>\n    <tr>\n      <th>9265</th>\n      <td>ff9695c5-6e8c-4446-adc6-944b2731b8f7</td>\n      <td>559</td>\n      <td>1</td>\n      <td>2021-12-19 16:21:55</td>\n      <td>172</td>\n    </tr>\n    <tr>\n      <th>9266</th>\n      <td>ffbf9d44-679e-412a-9927-ac6ce80c49a2</td>\n      <td>539</td>\n      <td>1</td>\n      <td>2021-08-27 14:26:45</td>\n      <td>286</td>\n    </tr>\n    <tr>\n      <th>9267</th>\n      <td>ffd22196-662c-4266-b3be-024a42cad78b</td>\n      <td>2052</td>\n      <td>3</td>\n      <td>2022-06-05 18:23:01</td>\n      <td>4</td>\n    </tr>\n    <tr>\n      <th>9268</th>\n      <td>ffd93478-ad6d-494f-a6ab-f7f0c8058488</td>\n      <td>2294</td>\n      <td>7</td>\n      <td>2022-03-02 16:19:43</td>\n      <td>99</td>\n    </tr>\n    <tr>\n      <th>9269</th>\n      <td>ffe736c6-bba4-4578-99df-e1d9846c44c4</td>\n      <td>3429</td>\n      <td>3</td>\n      <td>2022-03-30 18:51:21</td>\n      <td>71</td>\n    </tr>\n  </tbody>\n</table>\n<p>9270 rows × 5 columns</p>\n</div>"
     },
     "execution_count": 16,
     "metadata": {},
     "output_type": "execute_result"
    }
   ],
   "source": [
    "df2['days_since_last_purchase'] = (max(df['datetime']) - df2['last_purchase']).dt.days\n",
    "df2"
   ],
   "metadata": {
    "collapsed": false,
    "ExecuteTime": {
     "end_time": "2024-02-29T16:39:56.042394200Z",
     "start_time": "2024-02-29T16:39:55.939396Z"
    }
   }
  },
  {
   "cell_type": "code",
   "execution_count": null,
   "outputs": [],
   "source": [],
   "metadata": {
    "collapsed": false
   }
  }
 ],
 "metadata": {
  "kernelspec": {
   "display_name": "Python 3",
   "language": "python",
   "name": "python3"
  },
  "language_info": {
   "codemirror_mode": {
    "name": "ipython",
    "version": 2
   },
   "file_extension": ".py",
   "mimetype": "text/x-python",
   "name": "python",
   "nbconvert_exporter": "python",
   "pygments_lexer": "ipython2",
   "version": "2.7.6"
  }
 },
 "nbformat": 4,
 "nbformat_minor": 0
}
