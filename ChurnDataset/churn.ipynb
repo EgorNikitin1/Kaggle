{
  "nbformat": 4,
  "nbformat_minor": 0,
  "metadata": {
    "kernelspec": {
      "display_name": "Python 3",
      "language": "python",
      "name": "python3"
    },
    "language_info": {
      "codemirror_mode": {
        "name": "ipython",
        "version": 3
      },
      "file_extension": ".py",
      "mimetype": "text/x-python",
      "name": "python",
      "nbconvert_exporter": "python",
      "pygments_lexer": "ipython3",
      "version": "3.7.4"
    },
    "colab": {
      "provenance": []
    },
    "widgets": {
      "application/vnd.jupyter.widget-state+json": {
        "d090e46bd2f34894b3e5453acf6d38c1": {
          "model_module": "catboost-widget",
          "model_name": "CatboostWidgetModel",
          "model_module_version": "^1.0.0",
          "state": {
            "_dom_classes": [],
            "_model_module": "catboost-widget",
            "_model_module_version": "^1.0.0",
            "_model_name": "CatboostWidgetModel",
            "_view_count": null,
            "_view_module": "catboost-widget",
            "_view_module_version": "^1.0.0",
            "_view_name": "CatboostWidgetView",
            "data": {
              "catboost_info": {
                "path": "catboost_info",
                "name": "catboost_info",
                "content": {
                  "passed_iterations": 161,
                  "total_iterations": 243,
                  "data": {
                    "iterations": [
                      {
                        "parameters": [
                          {
                            "subsample": 0.1,
                            "random_strength": 1,
                            "depth": 2,
                            "learning_rate": 0.01,
                            "iterations": 10
                          }
                        ],
                        "learn": [
                          0.8090171383,
                          0.6507734133
                        ],
                        "iteration": 0,
                        "passed_time": 0.1318431521,
                        "remaining_time": 31.90604282,
                        "test": [
                          0.8484752952,
                          0.6465832362
                        ]
                      },
                      {
                        "parameters": [
                          {
                            "subsample": 0.1,
                            "random_strength": 1,
                            "depth": 2,
                            "learning_rate": 0.1,
                            "iterations": 10
                          }
                        ],
                        "learn": [
                          0.8276351507,
                          0.4873864382
                        ],
                        "iteration": 1,
                        "passed_time": 0.1733977136,
                        "remaining_time": 20.89442448,
                        "test": [
                          0.8636793534,
                          0.4628186627
                        ]
                      },
                      {
                        "parameters": [
                          {
                            "subsample": 0.1,
                            "random_strength": 1,
                            "depth": 2,
                            "learning_rate": 0.5,
                            "iterations": 10
                          }
                        ],
                        "learn": [
                          0.8400333563,
                          0.4247327874
                        ],
                        "iteration": 2,
                        "passed_time": 0.2154518632,
                        "remaining_time": 17.23614906,
                        "test": [
                          0.8632709504,
                          0.3916368657
                        ]
                      },
                      {
                        "parameters": [
                          {
                            "subsample": 0.1,
                            "random_strength": 1,
                            "depth": 2,
                            "learning_rate": 0.01,
                            "iterations": 50
                          }
                        ],
                        "learn": [
                          0.8249127272,
                          0.5389965152
                        ],
                        "iteration": 3,
                        "passed_time": 0.4120804311,
                        "remaining_time": 24.62180576,
                        "test": [
                          0.8607512706,
                          0.5199683267
                        ]
                      },
                      {
                        "parameters": [
                          {
                            "subsample": 0.1,
                            "random_strength": 1,
                            "depth": 2,
                            "learning_rate": 0.1,
                            "iterations": 50
                          }
                        ],
                        "learn": [
                          0.843181792,
                          0.4227424092
                        ],
                        "iteration": 4,
                        "passed_time": 0.6016176917,
                        "remaining_time": 28.63700213,
                        "test": [
                          0.8692274256,
                          0.3887242908
                        ]
                      },
                      {
                        "parameters": [
                          {
                            "subsample": 0.1,
                            "random_strength": 1,
                            "depth": 2,
                            "learning_rate": 0.5,
                            "iterations": 50
                          }
                        ],
                        "learn": [
                          0.853102427,
                          0.4073184863
                        ],
                        "iteration": 5,
                        "passed_time": 0.867879721,
                        "remaining_time": 34.28124898,
                        "test": [
                          0.8699893003,
                          0.3785510353
                        ]
                      },
                      {
                        "parameters": [
                          {
                            "subsample": 0.1,
                            "random_strength": 1,
                            "depth": 2,
                            "learning_rate": 0.01,
                            "iterations": 100
                          }
                        ],
                        "learn": [
                          0.8320519899,
                          0.485617783
                        ],
                        "iteration": 6,
                        "passed_time": 1.409832451,
                        "remaining_time": 47.53149408,
                        "test": [
                          0.8635073942,
                          0.4600011861
                        ]
                      },
                      {
                        "parameters": [
                          {
                            "subsample": 0.1,
                            "random_strength": 1,
                            "depth": 2,
                            "learning_rate": 0.1,
                            "iterations": 100
                          }
                        ],
                        "learn": [
                          0.8476299747,
                          0.4147460506
                        ],
                        "iteration": 7,
                        "passed_time": 1.833102677,
                        "remaining_time": 53.84739113,
                        "test": [
                          0.8697480798,
                          0.3829638759
                        ]
                      },
                      {
                        "parameters": [
                          {
                            "subsample": 0.1,
                            "random_strength": 1,
                            "depth": 2,
                            "learning_rate": 0.5,
                            "iterations": 100
                          }
                        ],
                        "learn": [
                          0.8575176846,
                          0.4012292778
                        ],
                        "iteration": 8,
                        "passed_time": 2.410359874,
                        "remaining_time": 62.66935673,
                        "test": [
                          0.8670110627,
                          0.3802200887
                        ]
                      },
                      {
                        "parameters": [
                          {
                            "subsample": 0.1,
                            "random_strength": 10,
                            "depth": 2,
                            "learning_rate": 0.01,
                            "iterations": 10
                          }
                        ],
                        "learn": [
                          0.8123819588,
                          0.6520871295
                        ],
                        "iteration": 9,
                        "passed_time": 2.493274705,
                        "remaining_time": 58.09330064,
                        "test": [
                          0.8403072337,
                          0.6484082178
                        ]
                      },
                      {
                        "parameters": [
                          {
                            "subsample": 0.1,
                            "random_strength": 10,
                            "depth": 2,
                            "learning_rate": 0.1,
                            "iterations": 10
                          }
                        ],
                        "learn": [
                          0.8250376697,
                          0.502062886
                        ],
                        "iteration": 10,
                        "passed_time": 2.58095317,
                        "remaining_time": 54.43464867,
                        "test": [
                          0.860235393,
                          0.4791801038
                        ]
                      },
                      {
                        "parameters": [
                          {
                            "subsample": 0.1,
                            "random_strength": 10,
                            "depth": 2,
                            "learning_rate": 0.5,
                            "iterations": 10
                          }
                        ],
                        "learn": [
                          0.827292098,
                          0.436195392
                        ],
                        "iteration": 11,
                        "passed_time": 2.689679784,
                        "remaining_time": 51.77633585,
                        "test": [
                          0.8607297757,
                          0.3937802248
                        ]
                      },
                      {
                        "parameters": [
                          {
                            "subsample": 0.1,
                            "random_strength": 10,
                            "depth": 2,
                            "learning_rate": 0.01,
                            "iterations": 50
                          }
                        ],
                        "learn": [
                          0.8293657983,
                          0.555233474
                        ],
                        "iteration": 12,
                        "passed_time": 3.208613903,
                        "remaining_time": 56.76778444,
                        "test": [
                          0.8605387099,
                          0.5396593892
                        ]
                      },
                      {
                        "parameters": [
                          {
                            "subsample": 0.1,
                            "random_strength": 10,
                            "depth": 2,
                            "learning_rate": 0.1,
                            "iterations": 50
                          }
                        ],
                        "learn": [
                          0.8344697493,
                          0.4338040057
                        ],
                        "iteration": 13,
                        "passed_time": 3.553387769,
                        "remaining_time": 58.12327136,
                        "test": [
                          0.8640113302,
                          0.3944045773
                        ]
                      },
                      {
                        "parameters": [
                          {
                            "subsample": 0.1,
                            "random_strength": 10,
                            "depth": 2,
                            "learning_rate": 0.5,
                            "iterations": 50
                          }
                        ],
                        "learn": [
                          0.8496547907,
                          0.4098150905
                        ],
                        "iteration": 14,
                        "passed_time": 4.149823737,
                        "remaining_time": 63.07732081,
                        "test": [
                          0.8663112843,
                          0.3806546364
                        ]
                      },
                      {
                        "parameters": [
                          {
                            "subsample": 0.1,
                            "random_strength": 10,
                            "depth": 2,
                            "learning_rate": 0.01,
                            "iterations": 100
                          }
                        ],
                        "learn": [
                          0.8270160455,
                          0.5001206879
                        ],
                        "iteration": 15,
                        "passed_time": 5.440179714,
                        "remaining_time": 77.18254969,
                        "test": [
                          0.8581694944,
                          0.4758050791
                        ]
                      },
                      {
                        "parameters": [
                          {
                            "subsample": 0.1,
                            "random_strength": 10,
                            "depth": 2,
                            "learning_rate": 0.1,
                            "iterations": 100
                          }
                        ],
                        "learn": [
                          0.8398521969,
                          0.4236720952
                        ],
                        "iteration": 16,
                        "passed_time": 6.314098991,
                        "remaining_time": 83.94037482,
                        "test": [
                          0.8669943445,
                          0.3843970149
                        ]
                      },
                      {
                        "parameters": [
                          {
                            "subsample": 0.1,
                            "random_strength": 10,
                            "depth": 2,
                            "learning_rate": 0.5,
                            "iterations": 100
                          }
                        ],
                        "learn": [
                          0.8572529906,
                          0.4003803714
                        ],
                        "iteration": 17,
                        "passed_time": 6.929376368,
                        "remaining_time": 86.6172046,
                        "test": [
                          0.8631491459,
                          0.383318845
                        ]
                      },
                      {
                        "parameters": [
                          {
                            "subsample": 0.1,
                            "random_strength": 100,
                            "depth": 2,
                            "learning_rate": 0.01,
                            "iterations": 10
                          }
                        ],
                        "learn": [
                          0.8126771337,
                          0.6618947664
                        ],
                        "iteration": 18,
                        "passed_time": 6.992754116,
                        "remaining_time": 82.44089063,
                        "test": [
                          0.8421534067,
                          0.6589133107
                        ]
                      },
                      {
                        "parameters": [
                          {
                            "subsample": 0.1,
                            "random_strength": 100,
                            "depth": 2,
                            "learning_rate": 0.1,
                            "iterations": 10
                          }
                        ],
                        "learn": [
                          0.8126844663,
                          0.5230049977
                        ],
                        "iteration": 19,
                        "passed_time": 7.068854162,
                        "remaining_time": 78.8177239,
                        "test": [
                          0.8357622569,
                          0.5036950971
                        ]
                      },
                      {
                        "parameters": [
                          {
                            "subsample": 0.1,
                            "random_strength": 100,
                            "depth": 2,
                            "learning_rate": 0.5,
                            "iterations": 10
                          }
                        ],
                        "learn": [
                          0.8011924891,
                          0.4608237786
                        ],
                        "iteration": 20,
                        "passed_time": 7.182985581,
                        "remaining_time": 75.934419,
                        "test": [
                          0.8309044098,
                          0.4249042966
                        ]
                      },
                      {
                        "parameters": [
                          {
                            "subsample": 0.1,
                            "random_strength": 100,
                            "depth": 2,
                            "learning_rate": 0.01,
                            "iterations": 50
                          }
                        ],
                        "learn": [
                          0.8254104842,
                          0.5791192593
                        ],
                        "iteration": 21,
                        "passed_time": 7.624510225,
                        "remaining_time": 76.59167089,
                        "test": [
                          0.854235928,
                          0.5679636845
                        ]
                      },
                      {
                        "parameters": [
                          {
                            "subsample": 0.1,
                            "random_strength": 100,
                            "depth": 2,
                            "learning_rate": 0.1,
                            "iterations": 50
                          }
                        ],
                        "learn": [
                          0.8288447493,
                          0.4478062031
                        ],
                        "iteration": 22,
                        "passed_time": 7.942411618,
                        "remaining_time": 75.97089373,
                        "test": [
                          0.8518619359,
                          0.4164414524
                        ]
                      },
                      {
                        "parameters": [
                          {
                            "subsample": 0.1,
                            "random_strength": 100,
                            "depth": 2,
                            "learning_rate": 0.5,
                            "iterations": 50
                          }
                        ],
                        "learn": [
                          0.8448641304,
                          0.4158112036
                        ],
                        "iteration": 23,
                        "passed_time": 8.439427607,
                        "remaining_time": 77.00977691,
                        "test": [
                          0.8626117735,
                          0.3859796874
                        ]
                      },
                      {
                        "parameters": [
                          {
                            "subsample": 0.1,
                            "random_strength": 100,
                            "depth": 2,
                            "learning_rate": 0.01,
                            "iterations": 100
                          }
                        ],
                        "learn": [
                          0.8269727686,
                          0.5261151178
                        ],
                        "iteration": 24,
                        "passed_time": 9.082096044,
                        "remaining_time": 79.1958775,
                        "test": [
                          0.8538848447,
                          0.507506512
                        ]
                      },
                      {
                        "parameters": [
                          {
                            "subsample": 0.1,
                            "random_strength": 100,
                            "depth": 2,
                            "learning_rate": 0.1,
                            "iterations": 100
                          }
                        ],
                        "learn": [
                          0.8344093628,
                          0.4315222406
                        ],
                        "iteration": 25,
                        "passed_time": 9.810293816,
                        "remaining_time": 81.87822146,
                        "test": [
                          0.8579091673,
                          0.3964832336
                        ]
                      },
                      {
                        "parameters": [
                          {
                            "subsample": 0.1,
                            "random_strength": 100,
                            "depth": 2,
                            "learning_rate": 0.5,
                            "iterations": 100
                          }
                        ],
                        "learn": [
                          0.8559526685,
                          0.4022424991
                        ],
                        "iteration": 26,
                        "passed_time": 10.60055264,
                        "remaining_time": 84.80442112,
                        "test": [
                          0.8648854561,
                          0.3832216347
                        ]
                      },
                      {
                        "parameters": [
                          {
                            "subsample": 0.1,
                            "random_strength": 1,
                            "depth": 4,
                            "learning_rate": 0.01,
                            "iterations": 10
                          }
                        ],
                        "learn": [
                          0.8268865022,
                          0.645465017
                        ],
                        "iteration": 27,
                        "passed_time": 10.72248055,
                        "remaining_time": 82.33333278,
                        "test": [
                          0.8523276587,
                          0.6420508584
                        ]
                      },
                      {
                        "parameters": [
                          {
                            "subsample": 0.1,
                            "random_strength": 1,
                            "depth": 4,
                            "learning_rate": 0.1,
                            "iterations": 10
                          }
                        ],
                        "learn": [
                          0.8385632333,
                          0.4614468773
                        ],
                        "iteration": 28,
                        "passed_time": 10.85139996,
                        "remaining_time": 80.07584802,
                        "test": [
                          0.8641164164,
                          0.4371408831
                        ]
                      },
                      {
                        "parameters": [
                          {
                            "subsample": 0.1,
                            "random_strength": 1,
                            "depth": 4,
                            "learning_rate": 0.5,
                            "iterations": 10
                          }
                        ],
                        "learn": [
                          0.8498559351,
                          0.4106922959
                        ],
                        "iteration": 29,
                        "passed_time": 10.97142178,
                        "remaining_time": 77.89709467,
                        "test": [
                          0.8644197333,
                          0.3841588928
                        ]
                      },
                      {
                        "parameters": [
                          {
                            "subsample": 0.1,
                            "random_strength": 1,
                            "depth": 4,
                            "learning_rate": 0.01,
                            "iterations": 50
                          }
                        ],
                        "learn": [
                          0.8403511042,
                          0.520366254
                        ],
                        "iteration": 30,
                        "passed_time": 11.65485886,
                        "remaining_time": 79.70419606,
                        "test": [
                          0.8662396347,
                          0.5026663153
                        ]
                      },
                      {
                        "parameters": [
                          {
                            "subsample": 0.1,
                            "random_strength": 1,
                            "depth": 4,
                            "learning_rate": 0.1,
                            "iterations": 50
                          }
                        ],
                        "learn": [
                          0.8556083218,
                          0.4059790131
                        ],
                        "iteration": 31,
                        "passed_time": 12.18172462,
                        "remaining_time": 80.3232467,
                        "test": [
                          0.8687760327,
                          0.3817186508
                        ]
                      },
                      {
                        "parameters": [
                          {
                            "subsample": 0.1,
                            "random_strength": 1,
                            "depth": 4,
                            "learning_rate": 0.5,
                            "iterations": 50
                          }
                        ],
                        "learn": [
                          0.8784362779,
                          0.3740314125
                        ],
                        "iteration": 32,
                        "passed_time": 12.79243034,
                        "remaining_time": 81.40637488,
                        "test": [
                          0.8611883335,
                          0.3881126801
                        ]
                      },
                      {
                        "parameters": [
                          {
                            "subsample": 0.1,
                            "random_strength": 1,
                            "depth": 4,
                            "learning_rate": 0.01,
                            "iterations": 100
                          }
                        ],
                        "learn": [
                          0.8427227111,
                          0.4636987243
                        ],
                        "iteration": 33,
                        "passed_time": 13.90297919,
                        "remaining_time": 85.46243091,
                        "test": [
                          0.8672976614,
                          0.4394404388
                        ]
                      },
                      {
                        "parameters": [
                          {
                            "subsample": 0.1,
                            "random_strength": 1,
                            "depth": 4,
                            "learning_rate": 0.1,
                            "iterations": 100
                          }
                        ],
                        "learn": [
                          0.8640480504,
                          0.394407444
                        ],
                        "iteration": 34,
                        "passed_time": 15.11736634,
                        "remaining_time": 89.84034851,
                        "test": [
                          0.8676797929,
                          0.3803035168
                        ]
                      },
                      {
                        "parameters": [
                          {
                            "subsample": 0.1,
                            "random_strength": 1,
                            "depth": 4,
                            "learning_rate": 0.5,
                            "iterations": 100
                          }
                        ],
                        "learn": [
                          0.9006884058,
                          0.3437349501
                        ],
                        "iteration": 35,
                        "passed_time": 16.45813918,
                        "remaining_time": 94.6343003,
                        "test": [
                          0.8518691008,
                          0.3991837086
                        ]
                      },
                      {
                        "parameters": [
                          {
                            "subsample": 0.1,
                            "random_strength": 10,
                            "depth": 4,
                            "learning_rate": 0.01,
                            "iterations": 10
                          }
                        ],
                        "learn": [
                          0.827643346,
                          0.6451897987
                        ],
                        "iteration": 36,
                        "passed_time": 16.6261023,
                        "remaining_time": 92.56694794,
                        "test": [
                          0.8537558753,
                          0.6405638663
                        ]
                      },
                      {
                        "parameters": [
                          {
                            "subsample": 0.1,
                            "random_strength": 10,
                            "depth": 4,
                            "learning_rate": 0.1,
                            "iterations": 10
                          }
                        ],
                        "learn": [
                          0.836641937,
                          0.4863695929
                        ],
                        "iteration": 37,
                        "passed_time": 16.85682077,
                        "remaining_time": 90.93811204,
                        "test": [
                          0.8642883756,
                          0.4649855732
                        ]
                      },
                      {
                        "parameters": [
                          {
                            "subsample": 0.1,
                            "random_strength": 10,
                            "depth": 4,
                            "learning_rate": 0.5,
                            "iterations": 10
                          }
                        ],
                        "learn": [
                          0.8342895963,
                          0.4276618082
                        ],
                        "iteration": 38,
                        "passed_time": 17.0138007,
                        "remaining_time": 88.9952652,
                        "test": [
                          0.8535170431,
                          0.3957946627
                        ]
                      },
                      {
                        "parameters": [
                          {
                            "subsample": 0.1,
                            "random_strength": 10,
                            "depth": 4,
                            "learning_rate": 0.01,
                            "iterations": 50
                          }
                        ],
                        "learn": [
                          0.8313260582,
                          0.5337801853
                        ],
                        "iteration": 39,
                        "passed_time": 18.06202724,
                        "remaining_time": 91.66478826,
                        "test": [
                          0.85875941,
                          0.5155782988
                        ]
                      },
                      {
                        "parameters": [
                          {
                            "subsample": 0.1,
                            "random_strength": 10,
                            "depth": 4,
                            "learning_rate": 0.1,
                            "iterations": 50
                          }
                        ],
                        "learn": [
                          0.8429403899,
                          0.4215453134
                        ],
                        "iteration": 40,
                        "passed_time": 19.24218304,
                        "remaining_time": 94.80295057,
                        "test": [
                          0.8645033245,
                          0.3897622121
                        ]
                      },
                      {
                        "parameters": [
                          {
                            "subsample": 0.1,
                            "random_strength": 10,
                            "depth": 4,
                            "learning_rate": 0.5,
                            "iterations": 50
                          }
                        ],
                        "learn": [
                          0.8729021452,
                          0.3819929461
                        ],
                        "iteration": 41,
                        "passed_time": 19.78518928,
                        "remaining_time": 94.686263,
                        "test": [
                          0.8521461462,
                          0.39754989
                        ]
                      },
                      {
                        "parameters": [
                          {
                            "subsample": 0.1,
                            "random_strength": 10,
                            "depth": 4,
                            "learning_rate": 0.01,
                            "iterations": 100
                          }
                        ],
                        "learn": [
                          0.8329656947,
                          0.4785784001
                        ],
                        "iteration": 42,
                        "passed_time": 21.06034791,
                        "remaining_time": 97.95510657,
                        "test": [
                          0.8598222133,
                          0.4530316485
                        ]
                      },
                      {
                        "parameters": [
                          {
                            "subsample": 0.1,
                            "random_strength": 10,
                            "depth": 4,
                            "learning_rate": 0.1,
                            "iterations": 100
                          }
                        ],
                        "learn": [
                          0.8527619623,
                          0.4083014818
                        ],
                        "iteration": 43,
                        "passed_time": 22.16154005,
                        "remaining_time": 100.2306016,
                        "test": [
                          0.8680953609,
                          0.3829028193
                        ]
                      },
                      {
                        "parameters": [
                          {
                            "subsample": 0.1,
                            "random_strength": 10,
                            "depth": 4,
                            "learning_rate": 0.5,
                            "iterations": 100
                          }
                        ],
                        "learn": [
                          0.896505061,
                          0.3511843439
                        ],
                        "iteration": 44,
                        "passed_time": 23.37147121,
                        "remaining_time": 102.8344733,
                        "test": [
                          0.8492801597,
                          0.4031412478
                        ]
                      },
                      {
                        "parameters": [
                          {
                            "subsample": 0.1,
                            "random_strength": 100,
                            "depth": 4,
                            "learning_rate": 0.01,
                            "iterations": 10
                          }
                        ],
                        "learn": [
                          0.8177556361,
                          0.6540160635
                        ],
                        "iteration": 45,
                        "passed_time": 23.49207523,
                        "remaining_time": 100.6073657,
                        "test": [
                          0.8418524781,
                          0.6498213059
                        ]
                      },
                      {
                        "parameters": [
                          {
                            "subsample": 0.1,
                            "random_strength": 100,
                            "depth": 4,
                            "learning_rate": 0.1,
                            "iterations": 10
                          }
                        ],
                        "learn": [
                          0.8221401254,
                          0.4908093161
                        ],
                        "iteration": 46,
                        "passed_time": 23.57944299,
                        "remaining_time": 98.33129417,
                        "test": [
                          0.8507322595,
                          0.4665306431
                        ]
                      },
                      {
                        "parameters": [
                          {
                            "subsample": 0.1,
                            "random_strength": 100,
                            "depth": 4,
                            "learning_rate": 0.5,
                            "iterations": 10
                          }
                        ],
                        "learn": [
                          0.8270617667,
                          0.4362389271
                        ],
                        "iteration": 47,
                        "passed_time": 23.69198029,
                        "remaining_time": 96.24866991,
                        "test": [
                          0.8543004127,
                          0.3960784728
                        ]
                      },
                      {
                        "parameters": [
                          {
                            "subsample": 0.1,
                            "random_strength": 100,
                            "depth": 4,
                            "learning_rate": 0.01,
                            "iterations": 50
                          }
                        ],
                        "learn": [
                          0.8300705947,
                          0.5522897873
                        ],
                        "iteration": 48,
                        "passed_time": 24.36945572,
                        "remaining_time": 96.48315122,
                        "test": [
                          0.8579163323,
                          0.5360139148
                        ]
                      },
                      {
                        "parameters": [
                          {
                            "subsample": 0.1,
                            "random_strength": 100,
                            "depth": 4,
                            "learning_rate": 0.1,
                            "iterations": 50
                          }
                        ],
                        "learn": [
                          0.8351669255,
                          0.4317868986
                        ],
                        "iteration": 49,
                        "passed_time": 25.07817019,
                        "remaining_time": 96.80173692,
                        "test": [
                          0.8597481753,
                          0.3985133266
                        ]
                      },
                      {
                        "parameters": [
                          {
                            "subsample": 0.1,
                            "random_strength": 100,
                            "depth": 4,
                            "learning_rate": 0.5,
                            "iterations": 50
                          }
                        ],
                        "learn": [
                          0.8684901944,
                          0.3872267292
                        ],
                        "iteration": 50,
                        "passed_time": 25.65580827,
                        "remaining_time": 96.5865723,
                        "test": [
                          0.8653249073,
                          0.3818747058
                        ]
                      },
                      {
                        "parameters": [
                          {
                            "subsample": 0.1,
                            "random_strength": 100,
                            "depth": 4,
                            "learning_rate": 0.01,
                            "iterations": 100
                          }
                        ],
                        "learn": [
                          0.831569617,
                          0.4970870621
                        ],
                        "iteration": 51,
                        "passed_time": 26.65614776,
                        "remaining_time": 97.91008119,
                        "test": [
                          0.8584417632,
                          0.4738278674
                        ]
                      },
                      {
                        "parameters": [
                          {
                            "subsample": 0.1,
                            "random_strength": 100,
                            "depth": 4,
                            "learning_rate": 0.1,
                            "iterations": 100
                          }
                        ],
                        "learn": [
                          0.8453452093,
                          0.4171642411
                        ],
                        "iteration": 52,
                        "passed_time": 27.36118907,
                        "remaining_time": 98.08728158,
                        "test": [
                          0.8663614391,
                          0.3852281382
                        ]
                      },
                      {
                        "parameters": [
                          {
                            "subsample": 0.1,
                            "random_strength": 100,
                            "depth": 4,
                            "learning_rate": 0.5,
                            "iterations": 100
                          }
                        ],
                        "learn": [
                          0.8965805441,
                          0.3513020942
                        ],
                        "iteration": 53,
                        "passed_time": 27.96499365,
                        "remaining_time": 97.87747779,
                        "test": [
                          0.8510212465,
                          0.4007756445
                        ]
                      },
                      {
                        "parameters": [
                          {
                            "subsample": 0.1,
                            "random_strength": 1,
                            "depth": 8,
                            "learning_rate": 0.01,
                            "iterations": 10
                          }
                        ],
                        "learn": [
                          0.8393331608,
                          0.6459371821
                        ],
                        "iteration": 54,
                        "passed_time": 28.064303,
                        "remaining_time": 95.92889027,
                        "test": [
                          0.8661584317,
                          0.6422952129
                        ]
                      },
                      {
                        "parameters": [
                          {
                            "subsample": 0.1,
                            "random_strength": 1,
                            "depth": 8,
                            "learning_rate": 0.1,
                            "iterations": 10
                          }
                        ],
                        "learn": [
                          0.8448506154,
                          0.4670233922
                        ],
                        "iteration": 55,
                        "passed_time": 28.17874859,
                        "remaining_time": 94.09689263,
                        "test": [
                          0.8636435286,
                          0.4492971803
                        ]
                      },
                      {
                        "parameters": [
                          {
                            "subsample": 0.1,
                            "random_strength": 1,
                            "depth": 8,
                            "learning_rate": 0.5,
                            "iterations": 10
                          }
                        ],
                        "learn": [
                          0.861593484,
                          0.3967366871
                        ],
                        "iteration": 56,
                        "passed_time": 28.29481834,
                        "remaining_time": 92.33045984,
                        "test": [
                          0.8583510069,
                          0.3906453548
                        ]
                      },
                      {
                        "parameters": [
                          {
                            "subsample": 0.1,
                            "random_strength": 1,
                            "depth": 8,
                            "learning_rate": 0.01,
                            "iterations": 50
                          }
                        ],
                        "learn": [
                          0.845229181,
                          0.5217102509
                        ],
                        "iteration": 57,
                        "passed_time": 28.7914861,
                        "remaining_time": 91.83491256,
                        "test": [
                          0.867295273,
                          0.5064549461
                        ]
                      },
                      {
                        "parameters": [
                          {
                            "subsample": 0.1,
                            "random_strength": 1,
                            "depth": 8,
                            "learning_rate": 0.1,
                            "iterations": 50
                          }
                        ],
                        "learn": [
                          0.8713921958,
                          0.3886660269
                        ],
                        "iteration": 58,
                        "passed_time": 29.35723655,
                        "remaining_time": 91.55477162,
                        "test": [
                          0.8668008904,
                          0.3836361497
                        ]
                      },
                      {
                        "parameters": [
                          {
                            "subsample": 0.1,
                            "random_strength": 1,
                            "depth": 8,
                            "learning_rate": 0.5,
                            "iterations": 50
                          }
                        ],
                        "learn": [
                          0.9212574764,
                          0.3160695899
                        ],
                        "iteration": 59,
                        "passed_time": 30.32547003,
                        "remaining_time": 92.4926836,
                        "test": [
                          0.8415348313,
                          0.4136897389
                        ]
                      },
                      {
                        "parameters": [
                          {
                            "subsample": 0.1,
                            "random_strength": 1,
                            "depth": 8,
                            "learning_rate": 0.01,
                            "iterations": 100
                          }
                        ],
                        "learn": [
                          0.8490125374,
                          0.4616959834
                        ],
                        "iteration": 60,
                        "passed_time": 32.12133175,
                        "remaining_time": 95.83741604,
                        "test": [
                          0.8690506897,
                          0.4407379866
                        ]
                      },
                      {
                        "parameters": [
                          {
                            "subsample": 0.1,
                            "random_strength": 1,
                            "depth": 8,
                            "learning_rate": 0.1,
                            "iterations": 100
                          }
                        ],
                        "learn": [
                          0.8897022372,
                          0.3640579589
                        ],
                        "iteration": 61,
                        "passed_time": 33.19147645,
                        "remaining_time": 96.89769737,
                        "test": [
                          0.864558256,
                          0.3836445249
                        ]
                      },
                      {
                        "parameters": [
                          {
                            "subsample": 0.1,
                            "random_strength": 1,
                            "depth": 8,
                            "learning_rate": 0.5,
                            "iterations": 100
                          }
                        ],
                        "learn": [
                          0.9566370485,
                          0.254632649
                        ],
                        "iteration": 62,
                        "passed_time": 34.28649214,
                        "remaining_time": 97.9614061,
                        "test": [
                          0.827197734,
                          0.447041073
                        ]
                      },
                      {
                        "parameters": [
                          {
                            "subsample": 0.1,
                            "random_strength": 10,
                            "depth": 8,
                            "learning_rate": 0.01,
                            "iterations": 10
                          }
                        ],
                        "learn": [
                          0.8299769956,
                          0.6425971705
                        ],
                        "iteration": 63,
                        "passed_time": 34.38679933,
                        "remaining_time": 96.17557938,
                        "test": [
                          0.8594209752,
                          0.6378493023
                        ]
                      },
                      {
                        "parameters": [
                          {
                            "subsample": 0.1,
                            "random_strength": 10,
                            "depth": 8,
                            "learning_rate": 0.1,
                            "iterations": 10
                          }
                        ],
                        "learn": [
                          0.8280963883,
                          0.4756244415
                        ],
                        "iteration": 64,
                        "passed_time": 34.48399122,
                        "remaining_time": 94.43308366,
                        "test": [
                          0.8567818793,
                          0.4511557868
                        ]
                      },
                      {
                        "parameters": [
                          {
                            "subsample": 0.1,
                            "random_strength": 10,
                            "depth": 8,
                            "learning_rate": 0.5,
                            "iterations": 10
                          }
                        ],
                        "learn": [
                          0.8423214286,
                          0.4188434703
                        ],
                        "iteration": 65,
                        "passed_time": 34.58273845,
                        "remaining_time": 92.74461676,
                        "test": [
                          0.8656688257,
                          0.3850125887
                        ]
                      },
                      {
                        "parameters": [
                          {
                            "subsample": 0.1,
                            "random_strength": 10,
                            "depth": 8,
                            "learning_rate": 0.01,
                            "iterations": 50
                          }
                        ],
                        "learn": [
                          0.8358830803,
                          0.524094883
                        ],
                        "iteration": 66,
                        "passed_time": 35.02779085,
                        "remaining_time": 92.01330132,
                        "test": [
                          0.8599010279,
                          0.5073054115
                        ]
                      },
                      {
                        "parameters": [
                          {
                            "subsample": 0.1,
                            "random_strength": 10,
                            "depth": 8,
                            "learning_rate": 0.1,
                            "iterations": 50
                          }
                        ],
                        "learn": [
                          0.85096072,
                          0.4121373331
                        ],
                        "iteration": 67,
                        "passed_time": 35.50057643,
                        "remaining_time": 91.36177757,
                        "test": [
                          0.8665525049,
                          0.3873629964
                        ]
                      },
                      {
                        "parameters": [
                          {
                            "subsample": 0.1,
                            "random_strength": 10,
                            "depth": 8,
                            "learning_rate": 0.5,
                            "iterations": 50
                          }
                        ],
                        "learn": [
                          0.9086430297,
                          0.335148217
                        ],
                        "iteration": 68,
                        "passed_time": 35.99352073,
                        "remaining_time": 90.76626967,
                        "test": [
                          0.8565860369,
                          0.3919483764
                        ]
                      },
                      {
                        "parameters": [
                          {
                            "subsample": 0.1,
                            "random_strength": 10,
                            "depth": 8,
                            "learning_rate": 0.01,
                            "iterations": 100
                          }
                        ],
                        "learn": [
                          0.8388207384,
                          0.468170631
                        ],
                        "iteration": 69,
                        "passed_time": 36.8973098,
                        "remaining_time": 91.18906566,
                        "test": [
                          0.8625257939,
                          0.4443285158
                        ]
                      },
                      {
                        "parameters": [
                          {
                            "subsample": 0.1,
                            "random_strength": 10,
                            "depth": 8,
                            "learning_rate": 0.1,
                            "iterations": 100
                          }
                        ],
                        "learn": [
                          0.8661913389,
                          0.3923425279
                        ],
                        "iteration": 70,
                        "passed_time": 37.81330221,
                        "remaining_time": 91.60405605,
                        "test": [
                          0.8680571478,
                          0.3829070314
                        ]
                      },
                      {
                        "parameters": [
                          {
                            "subsample": 0.1,
                            "random_strength": 10,
                            "depth": 8,
                            "learning_rate": 0.5,
                            "iterations": 100
                          }
                        ],
                        "learn": [
                          0.9488589832,
                          0.268465703
                        ],
                        "iteration": 71,
                        "passed_time": 38.88127401,
                        "remaining_time": 92.34302577,
                        "test": [
                          0.8423946272,
                          0.4216941979
                        ]
                      },
                      {
                        "parameters": [
                          {
                            "subsample": 0.1,
                            "random_strength": 100,
                            "depth": 8,
                            "learning_rate": 0.01,
                            "iterations": 10
                          }
                        ],
                        "learn": [
                          0.8216308661,
                          0.647310915
                        ],
                        "iteration": 72,
                        "passed_time": 38.97199936,
                        "remaining_time": 90.75671084,
                        "test": [
                          0.8462159425,
                          0.6421488635
                        ]
                      },
                      {
                        "parameters": [
                          {
                            "subsample": 0.1,
                            "random_strength": 100,
                            "depth": 8,
                            "learning_rate": 0.1,
                            "iterations": 10
                          }
                        ],
                        "learn": [
                          0.822001524,
                          0.4951291171
                        ],
                        "iteration": 73,
                        "passed_time": 39.05495132,
                        "remaining_time": 89.19306451,
                        "test": [
                          0.8445727769,
                          0.4742370692
                        ]
                      },
                      {
                        "parameters": [
                          {
                            "subsample": 0.1,
                            "random_strength": 100,
                            "depth": 8,
                            "learning_rate": 0.5,
                            "iterations": 10
                          }
                        ],
                        "learn": [
                          0.8326765585,
                          0.4283994949
                        ],
                        "iteration": 74,
                        "passed_time": 39.1465601,
                        "remaining_time": 87.68829462,
                        "test": [
                          0.8599177462,
                          0.3913116682
                        ]
                      },
                      {
                        "parameters": [
                          {
                            "subsample": 0.1,
                            "random_strength": 100,
                            "depth": 8,
                            "learning_rate": 0.01,
                            "iterations": 50
                          }
                        ],
                        "learn": [
                          0.8312990281,
                          0.5338653502
                        ],
                        "iteration": 75,
                        "passed_time": 39.60714004,
                        "remaining_time": 87.03147878,
                        "test": [
                          0.858625664,
                          0.5155999518
                        ]
                      },
                      {
                        "parameters": [
                          {
                            "subsample": 0.1,
                            "random_strength": 100,
                            "depth": 8,
                            "learning_rate": 0.1,
                            "iterations": 50
                          }
                        ],
                        "learn": [
                          0.8466681044,
                          0.4172601353
                        ],
                        "iteration": 76,
                        "passed_time": 40.0419093,
                        "remaining_time": 86.32411616,
                        "test": [
                          0.8625162406,
                          0.3926759937
                        ]
                      },
                      {
                        "parameters": [
                          {
                            "subsample": 0.1,
                            "random_strength": 100,
                            "depth": 8,
                            "learning_rate": 0.5,
                            "iterations": 50
                          }
                        ],
                        "learn": [
                          0.9025977686,
                          0.3429923822
                        ],
                        "iteration": 77,
                        "passed_time": 40.55312789,
                        "remaining_time": 85.78546285,
                        "test": [
                          0.8433762276,
                          0.4074577517
                        ]
                      },
                      {
                        "parameters": [
                          {
                            "subsample": 0.1,
                            "random_strength": 100,
                            "depth": 8,
                            "learning_rate": 0.01,
                            "iterations": 100
                          }
                        ],
                        "learn": [
                          0.8350930239,
                          0.4777759639
                        ],
                        "iteration": 78,
                        "passed_time": 41.44572105,
                        "remaining_time": 86.03921838,
                        "test": [
                          0.8602473346,
                          0.4530508506
                        ]
                      },
                      {
                        "parameters": [
                          {
                            "subsample": 0.1,
                            "random_strength": 100,
                            "depth": 8,
                            "learning_rate": 0.1,
                            "iterations": 100
                          }
                        ],
                        "learn": [
                          0.8597800207,
                          0.4006492141
                        ],
                        "iteration": 79,
                        "passed_time": 42.4930543,
                        "remaining_time": 86.57959813,
                        "test": [
                          0.8676368031,
                          0.3844399557
                        ]
                      },
                      {
                        "parameters": [
                          {
                            "subsample": 0.1,
                            "random_strength": 100,
                            "depth": 8,
                            "learning_rate": 0.5,
                            "iterations": 100
                          }
                        ],
                        "learn": [
                          0.9461328215,
                          0.2749017009
                        ],
                        "iteration": 80,
                        "passed_time": 44.23196174,
                        "remaining_time": 88.46392349,
                        "test": [
                          0.8381386373,
                          0.4232816863
                        ]
                      },
                      {
                        "parameters": [
                          {
                            "subsample": 1,
                            "random_strength": 1,
                            "depth": 2,
                            "learning_rate": 0.01,
                            "iterations": 10
                          }
                        ],
                        "learn": [
                          0.7928493789,
                          0.6533067921
                        ],
                        "iteration": 81,
                        "passed_time": 44.30699992,
                        "remaining_time": 86.99301204,
                        "test": [
                          0.8182391379,
                          0.6500077937
                        ]
                      },
                      {
                        "parameters": [
                          {
                            "subsample": 1,
                            "random_strength": 1,
                            "depth": 2,
                            "learning_rate": 0.1,
                            "iterations": 10
                          }
                        ],
                        "learn": [
                          0.824238124,
                          0.486461313
                        ],
                        "iteration": 82,
                        "passed_time": 44.40150819,
                        "remaining_time": 85.5932688,
                        "test": [
                          0.8530154954,
                          0.4621342108
                        ]
                      },
                      {
                        "parameters": [
                          {
                            "subsample": 1,
                            "random_strength": 1,
                            "depth": 2,
                            "learning_rate": 0.5,
                            "iterations": 10
                          }
                        ],
                        "learn": [
                          0.8366775937,
                          0.4260113337
                        ],
                        "iteration": 83,
                        "passed_time": 44.48656898,
                        "remaining_time": 84.20671985,
                        "test": [
                          0.8613196912,
                          0.3895776668
                        ]
                      },
                      {
                        "parameters": [
                          {
                            "subsample": 1,
                            "random_strength": 1,
                            "depth": 2,
                            "learning_rate": 0.01,
                            "iterations": 50
                          }
                        ],
                        "learn": [
                          0.8127692949,
                          0.5478381754
                        ],
                        "iteration": 84,
                        "passed_time": 44.87849357,
                        "remaining_time": 83.42119981,
                        "test": [
                          0.8388121441,
                          0.5331158837
                        ]
                      },
                      {
                        "parameters": [
                          {
                            "subsample": 1,
                            "random_strength": 1,
                            "depth": 2,
                            "learning_rate": 0.1,
                            "iterations": 50
                          }
                        ],
                        "learn": [
                          0.843584081,
                          0.419721854
                        ],
                        "iteration": 85,
                        "passed_time": 45.13747992,
                        "remaining_time": 82.40214357,
                        "test": [
                          0.867658298,
                          0.3855270943
                        ]
                      },
                      {
                        "parameters": [
                          {
                            "subsample": 1,
                            "random_strength": 1,
                            "depth": 2,
                            "learning_rate": 0.5,
                            "iterations": 50
                          }
                        ],
                        "learn": [
                          0.8648027375,
                          0.3920660348
                        ],
                        "iteration": 86,
                        "passed_time": 45.35570129,
                        "remaining_time": 81.32746437,
                        "test": [
                          0.8611787802,
                          0.3865795475
                        ]
                      },
                      {
                        "parameters": [
                          {
                            "subsample": 1,
                            "random_strength": 1,
                            "depth": 2,
                            "learning_rate": 0.01,
                            "iterations": 100
                          }
                        ],
                        "learn": [
                          0.8314750115,
                          0.4829019197
                        ],
                        "iteration": 87,
                        "passed_time": 45.81517004,
                        "remaining_time": 80.6971745,
                        "test": [
                          0.8621747105,
                          0.4577325159
                        ]
                      },
                      {
                        "parameters": [
                          {
                            "subsample": 1,
                            "random_strength": 1,
                            "depth": 2,
                            "learning_rate": 0.1,
                            "iterations": 100
                          }
                        ],
                        "learn": [
                          0.8502465781,
                          0.4099406071
                        ],
                        "iteration": 88,
                        "passed_time": 46.24266733,
                        "remaining_time": 80.01540189,
                        "test": [
                          0.8682529902,
                          0.3803211715
                        ]
                      },
                      {
                        "parameters": [
                          {
                            "subsample": 1,
                            "random_strength": 1,
                            "depth": 2,
                            "learning_rate": 0.5,
                            "iterations": 100
                          }
                        ],
                        "learn": [
                          0.881751064,
                          0.3698710071
                        ],
                        "iteration": 89,
                        "passed_time": 46.70385706,
                        "remaining_time": 79.396557,
                        "test": [
                          0.8567412778,
                          0.3915875731
                        ]
                      },
                      {
                        "parameters": [
                          {
                            "subsample": 1,
                            "random_strength": 10,
                            "depth": 2,
                            "learning_rate": 0.01,
                            "iterations": 10
                          }
                        ],
                        "learn": [
                          0.8150600989,
                          0.6532041077
                        ],
                        "iteration": 90,
                        "passed_time": 46.74863044,
                        "remaining_time": 78.08562447,
                        "test": [
                          0.8367438572,
                          0.6498267256
                        ]
                      },
                      {
                        "parameters": [
                          {
                            "subsample": 1,
                            "random_strength": 10,
                            "depth": 2,
                            "learning_rate": 0.1,
                            "iterations": 10
                          }
                        ],
                        "learn": [
                          0.8194164079,
                          0.501175506
                        ],
                        "iteration": 91,
                        "passed_time": 46.7950409,
                        "remaining_time": 76.80490408,
                        "test": [
                          0.8529080209,
                          0.4779440577
                        ]
                      },
                      {
                        "parameters": [
                          {
                            "subsample": 1,
                            "random_strength": 10,
                            "depth": 2,
                            "learning_rate": 0.5,
                            "iterations": 10
                          }
                        ],
                        "learn": [
                          0.8263696227,
                          0.437853438
                        ],
                        "iteration": 92,
                        "passed_time": 46.85504884,
                        "remaining_time": 75.57265942,
                        "test": [
                          0.8537152738,
                          0.4017834794
                        ]
                      },
                      {
                        "parameters": [
                          {
                            "subsample": 1,
                            "random_strength": 10,
                            "depth": 2,
                            "learning_rate": 0.01,
                            "iterations": 50
                          }
                        ],
                        "learn": [
                          0.8251460778,
                          0.5504618825
                        ],
                        "iteration": 93,
                        "passed_time": 47.07319837,
                        "remaining_time": 74.6160272,
                        "test": [
                          0.8546992625,
                          0.5342420564
                        ]
                      },
                      {
                        "parameters": [
                          {
                            "subsample": 1,
                            "random_strength": 10,
                            "depth": 2,
                            "learning_rate": 0.1,
                            "iterations": 50
                          }
                        ],
                        "learn": [
                          0.8328626064,
                          0.4358292421
                        ],
                        "iteration": 94,
                        "passed_time": 47.28840273,
                        "remaining_time": 73.67035373,
                        "test": [
                          0.8635766556,
                          0.3969302702
                        ]
                      },
                      {
                        "parameters": [
                          {
                            "subsample": 1,
                            "random_strength": 10,
                            "depth": 2,
                            "learning_rate": 0.5,
                            "iterations": 50
                          }
                        ],
                        "learn": [
                          0.8586413043,
                          0.3982652413
                        ],
                        "iteration": 95,
                        "passed_time": 47.52694335,
                        "remaining_time": 72.775632,
                        "test": [
                          0.8654276052,
                          0.3820007886
                        ]
                      },
                      {
                        "parameters": [
                          {
                            "subsample": 1,
                            "random_strength": 10,
                            "depth": 2,
                            "learning_rate": 0.01,
                            "iterations": 100
                          }
                        ],
                        "learn": [
                          0.8278503853,
                          0.5007612228
                        ],
                        "iteration": 96,
                        "passed_time": 47.96092035,
                        "remaining_time": 72.18860177,
                        "test": [
                          0.8567532195,
                          0.4774379016
                        ]
                      },
                      {
                        "parameters": [
                          {
                            "subsample": 1,
                            "random_strength": 10,
                            "depth": 2,
                            "learning_rate": 0.1,
                            "iterations": 100
                          }
                        ],
                        "learn": [
                          0.8416919715,
                          0.4210868802
                        ],
                        "iteration": 97,
                        "passed_time": 48.38139972,
                        "remaining_time": 71.58472408,
                        "test": [
                          0.8686804998,
                          0.3823359506
                        ]
                      },
                      {
                        "parameters": [
                          {
                            "subsample": 1,
                            "random_strength": 10,
                            "depth": 2,
                            "learning_rate": 0.5,
                            "iterations": 100
                          }
                        ],
                        "learn": [
                          0.8754593685,
                          0.3775510301
                        ],
                        "iteration": 98,
                        "passed_time": 48.8391244,
                        "remaining_time": 71.0387264,
                        "test": [
                          0.8605004968,
                          0.3878462316
                        ]
                      },
                      {
                        "parameters": [
                          {
                            "subsample": 1,
                            "random_strength": 100,
                            "depth": 2,
                            "learning_rate": 0.01,
                            "iterations": 10
                          }
                        ],
                        "learn": [
                          0.8164938463,
                          0.6619092686
                        ],
                        "iteration": 99,
                        "passed_time": 48.89351517,
                        "remaining_time": 69.91772669,
                        "test": [
                          0.8388646872,
                          0.6596821853
                        ]
                      },
                      {
                        "parameters": [
                          {
                            "subsample": 1,
                            "random_strength": 100,
                            "depth": 2,
                            "learning_rate": 0.1,
                            "iterations": 10
                          }
                        ],
                        "learn": [
                          0.8067838452,
                          0.5272323553
                        ],
                        "iteration": 100,
                        "passed_time": 48.93913365,
                        "remaining_time": 68.80551464,
                        "test": [
                          0.8437296993,
                          0.5069371429
                        ]
                      },
                      {
                        "parameters": [
                          {
                            "subsample": 1,
                            "random_strength": 100,
                            "depth": 2,
                            "learning_rate": 0.5,
                            "iterations": 10
                          }
                        ],
                        "learn": [
                          0.8258980331,
                          0.4387193903
                        ],
                        "iteration": 101,
                        "passed_time": 48.98294506,
                        "remaining_time": 67.71171818,
                        "test": [
                          0.8588310597,
                          0.4003072726
                        ]
                      },
                      {
                        "parameters": [
                          {
                            "subsample": 1,
                            "random_strength": 100,
                            "depth": 2,
                            "learning_rate": 0.01,
                            "iterations": 50
                          }
                        ],
                        "learn": [
                          0.8239323096,
                          0.5887182385
                        ],
                        "iteration": 102,
                        "passed_time": 49.19734206,
                        "remaining_time": 66.87017368,
                        "test": [
                          0.8495954182,
                          0.579671581
                        ]
                      },
                      {
                        "parameters": [
                          {
                            "subsample": 1,
                            "random_strength": 100,
                            "depth": 2,
                            "learning_rate": 0.1,
                            "iterations": 50
                          }
                        ],
                        "learn": [
                          0.8308970267,
                          0.4437371777
                        ],
                        "iteration": 103,
                        "passed_time": 49.4091235,
                        "remaining_time": 66.0371939,
                        "test": [
                          0.858477588,
                          0.4085812458
                        ]
                      },
                      {
                        "parameters": [
                          {
                            "subsample": 1,
                            "random_strength": 100,
                            "depth": 2,
                            "learning_rate": 0.5,
                            "iterations": 50
                          }
                        ],
                        "learn": [
                          0.8552885611,
                          0.4026442178
                        ],
                        "iteration": 104,
                        "passed_time": 49.64375712,
                        "remaining_time": 65.24608079,
                        "test": [
                          0.86651668,
                          0.3810302829
                        ]
                      },
                      {
                        "parameters": [
                          {
                            "subsample": 1,
                            "random_strength": 100,
                            "depth": 2,
                            "learning_rate": 0.01,
                            "iterations": 100
                          }
                        ],
                        "learn": [
                          0.8312373476,
                          0.5274760791
                        ],
                        "iteration": 105,
                        "passed_time": 50.09675723,
                        "remaining_time": 64.74769567,
                        "test": [
                          0.8598389316,
                          0.5095538343
                        ]
                      },
                      {
                        "parameters": [
                          {
                            "subsample": 1,
                            "random_strength": 100,
                            "depth": 2,
                            "learning_rate": 0.1,
                            "iterations": 100
                          }
                        ],
                        "learn": [
                          0.8346596791,
                          0.4314364145
                        ],
                        "iteration": 106,
                        "passed_time": 50.53104884,
                        "remaining_time": 64.22637983,
                        "test": [
                          0.8604551187,
                          0.3951863046
                        ]
                      },
                      {
                        "parameters": [
                          {
                            "subsample": 1,
                            "random_strength": 100,
                            "depth": 2,
                            "learning_rate": 0.5,
                            "iterations": 100
                          }
                        ],
                        "learn": [
                          0.8742450253,
                          0.3792011373
                        ],
                        "iteration": 107,
                        "passed_time": 50.97478577,
                        "remaining_time": 63.71848222,
                        "test": [
                          0.8624756391,
                          0.3855643636
                        ]
                      },
                      {
                        "parameters": [
                          {
                            "subsample": 1,
                            "random_strength": 1,
                            "depth": 4,
                            "learning_rate": 0.01,
                            "iterations": 10
                          }
                        ],
                        "learn": [
                          0.834803744,
                          0.637811214
                        ],
                        "iteration": 108,
                        "passed_time": 51.04914337,
                        "remaining_time": 62.7576625,
                        "test": [
                          0.8581432229,
                          0.6328425394
                        ]
                      },
                      {
                        "parameters": [
                          {
                            "subsample": 1,
                            "random_strength": 1,
                            "depth": 4,
                            "learning_rate": 0.1,
                            "iterations": 10
                          }
                        ],
                        "learn": [
                          0.8452661318,
                          0.4515278852
                        ],
                        "iteration": 109,
                        "passed_time": 51.12481923,
                        "remaining_time": 61.81455416,
                        "test": [
                          0.8692178723,
                          0.4271164568
                        ]
                      },
                      {
                        "parameters": [
                          {
                            "subsample": 1,
                            "random_strength": 1,
                            "depth": 4,
                            "learning_rate": 0.5,
                            "iterations": 10
                          }
                        ],
                        "learn": [
                          0.8527920117,
                          0.4063380475
                        ],
                        "iteration": 110,
                        "passed_time": 51.20171625,
                        "remaining_time": 60.88852744,
                        "test": [
                          0.8691008445,
                          0.3784766247
                        ]
                      },
                      {
                        "parameters": [
                          {
                            "subsample": 1,
                            "random_strength": 1,
                            "depth": 4,
                            "learning_rate": 0.01,
                            "iterations": 50
                          }
                        ],
                        "learn": [
                          0.8381773349,
                          0.5139955267
                        ],
                        "iteration": 111,
                        "passed_time": 51.58421595,
                        "remaining_time": 60.33510973,
                        "test": [
                          0.8634309679,
                          0.4963320984
                        ]
                      },
                      {
                        "parameters": [
                          {
                            "subsample": 1,
                            "random_strength": 1,
                            "depth": 4,
                            "learning_rate": 0.1,
                            "iterations": 50
                          }
                        ],
                        "learn": [
                          0.8599641994,
                          0.3999000694
                        ],
                        "iteration": 112,
                        "passed_time": 51.94033046,
                        "remaining_time": 59.75436247,
                        "test": [
                          0.872100577,
                          0.3778023049
                        ]
                      },
                      {
                        "parameters": [
                          {
                            "subsample": 1,
                            "random_strength": 1,
                            "depth": 4,
                            "learning_rate": 0.5,
                            "iterations": 50
                          }
                        ],
                        "learn": [
                          0.922385697,
                          0.3137345661
                        ],
                        "iteration": 113,
                        "passed_time": 52.3165874,
                        "remaining_time": 59.2003489,
                        "test": [
                          0.8478662731,
                          0.4067368116
                        ]
                      },
                      {
                        "parameters": [
                          {
                            "subsample": 1,
                            "random_strength": 1,
                            "depth": 4,
                            "learning_rate": 0.01,
                            "iterations": 100
                          }
                        ],
                        "learn": [
                          0.8423967679,
                          0.4579220307
                        ],
                        "iteration": 114,
                        "passed_time": 53.07018946,
                        "remaining_time": 59.06942827,
                        "test": [
                          0.8663948756,
                          0.43361999
                        ]
                      },
                      {
                        "parameters": [
                          {
                            "subsample": 1,
                            "random_strength": 1,
                            "depth": 4,
                            "learning_rate": 0.1,
                            "iterations": 100
                          }
                        ],
                        "learn": [
                          0.8744674488,
                          0.3813224789
                        ],
                        "iteration": 115,
                        "passed_time": 53.80509067,
                        "remaining_time": 58.90729755,
                        "test": [
                          0.869423268,
                          0.3781939487
                        ]
                      },
                      {
                        "parameters": [
                          {
                            "subsample": 1,
                            "random_strength": 1,
                            "depth": 4,
                            "learning_rate": 0.5,
                            "iterations": 100
                          }
                        ],
                        "learn": [
                          0.9660602139,
                          0.2318018535
                        ],
                        "iteration": 116,
                        "passed_time": 54.58541047,
                        "remaining_time": 58.78428819,
                        "test": [
                          0.8376944094,
                          0.436127862
                        ]
                      },
                      {
                        "parameters": [
                          {
                            "subsample": 1,
                            "random_strength": 10,
                            "depth": 4,
                            "learning_rate": 0.01,
                            "iterations": 10
                          }
                        ],
                        "learn": [
                          0.8267210145,
                          0.644414016
                        ],
                        "iteration": 117,
                        "passed_time": 54.65738148,
                        "remaining_time": 57.89976851,
                        "test": [
                          0.8574506095,
                          0.6394471374
                        ]
                      },
                      {
                        "parameters": [
                          {
                            "subsample": 1,
                            "random_strength": 10,
                            "depth": 4,
                            "learning_rate": 0.1,
                            "iterations": 10
                          }
                        ],
                        "learn": [
                          0.8287786117,
                          0.470879
                        ],
                        "iteration": 118,
                        "passed_time": 54.7373573,
                        "remaining_time": 57.03724626,
                        "test": [
                          0.856082101,
                          0.4467609447
                        ]
                      },
                      {
                        "parameters": [
                          {
                            "subsample": 1,
                            "random_strength": 10,
                            "depth": 4,
                            "learning_rate": 0.5,
                            "iterations": 10
                          }
                        ],
                        "learn": [
                          0.8383130607,
                          0.4234895253
                        ],
                        "iteration": 119,
                        "passed_time": 54.81256266,
                        "remaining_time": 56.18287672,
                        "test": [
                          0.8602521113,
                          0.3922289748
                        ]
                      },
                      {
                        "parameters": [
                          {
                            "subsample": 1,
                            "random_strength": 10,
                            "depth": 4,
                            "learning_rate": 0.01,
                            "iterations": 50
                          }
                        ],
                        "learn": [
                          0.8308239878,
                          0.5315377311
                        ],
                        "iteration": 120,
                        "passed_time": 55.29783944,
                        "remaining_time": 55.75484637,
                        "test": [
                          0.8588071764,
                          0.5135461949
                        ]
                      },
                      {
                        "parameters": [
                          {
                            "subsample": 1,
                            "random_strength": 10,
                            "depth": 4,
                            "learning_rate": 0.1,
                            "iterations": 50
                          }
                        ],
                        "learn": [
                          0.8449256671,
                          0.4186792101
                        ],
                        "iteration": 121,
                        "passed_time": 55.88687117,
                        "remaining_time": 55.42878207,
                        "test": [
                          0.8666193779,
                          0.3863486394
                        ]
                      },
                      {
                        "parameters": [
                          {
                            "subsample": 1,
                            "random_strength": 10,
                            "depth": 4,
                            "learning_rate": 0.5,
                            "iterations": 50
                          }
                        ],
                        "learn": [
                          0.9109428916,
                          0.3309882539
                        ],
                        "iteration": 122,
                        "passed_time": 56.50881228,
                        "remaining_time": 55.13054856,
                        "test": [
                          0.8458815774,
                          0.4105572634
                        ]
                      },
                      {
                        "parameters": [
                          {
                            "subsample": 1,
                            "random_strength": 10,
                            "depth": 4,
                            "learning_rate": 0.01,
                            "iterations": 100
                          }
                        ],
                        "learn": [
                          0.8327090522,
                          0.4795413844
                        ],
                        "iteration": 123,
                        "passed_time": 57.7424148,
                        "remaining_time": 55.41409163,
                        "test": [
                          0.8598365432,
                          0.4546750738
                        ]
                      },
                      {
                        "parameters": [
                          {
                            "subsample": 1,
                            "random_strength": 10,
                            "depth": 4,
                            "learning_rate": 0.1,
                            "iterations": 100
                          }
                        ],
                        "learn": [
                          0.8535341902,
                          0.4065464974
                        ],
                        "iteration": 124,
                        "passed_time": 58.49203595,
                        "remaining_time": 55.21648194,
                        "test": [
                          0.868718713,
                          0.3801188516
                        ]
                      },
                      {
                        "parameters": [
                          {
                            "subsample": 1,
                            "random_strength": 10,
                            "depth": 4,
                            "learning_rate": 0.5,
                            "iterations": 100
                          }
                        ],
                        "learn": [
                          0.9589594836,
                          0.2476476465
                        ],
                        "iteration": 125,
                        "passed_time": 59.22494017,
                        "remaining_time": 54.9945873,
                        "test": [
                          0.8313128129,
                          0.4464851483
                        ]
                      },
                      {
                        "parameters": [
                          {
                            "subsample": 1,
                            "random_strength": 100,
                            "depth": 4,
                            "learning_rate": 0.01,
                            "iterations": 10
                          }
                        ],
                        "learn": [
                          0.8252487348,
                          0.6530811054
                        ],
                        "iteration": 126,
                        "passed_time": 59.31415021,
                        "remaining_time": 54.17670413,
                        "test": [
                          0.8508301807,
                          0.6492897081
                        ]
                      },
                      {
                        "parameters": [
                          {
                            "subsample": 1,
                            "random_strength": 100,
                            "depth": 4,
                            "learning_rate": 0.1,
                            "iterations": 10
                          }
                        ],
                        "learn": [
                          0.8221773637,
                          0.5074675966
                        ],
                        "iteration": 127,
                        "passed_time": 59.38271209,
                        "remaining_time": 53.3516554,
                        "test": [
                          0.8465144828,
                          0.4882120794
                        ]
                      },
                      {
                        "parameters": [
                          {
                            "subsample": 1,
                            "random_strength": 100,
                            "depth": 4,
                            "learning_rate": 0.5,
                            "iterations": 10
                          }
                        ],
                        "learn": [
                          0.8180867552,
                          0.4462744669
                        ],
                        "iteration": 128,
                        "passed_time": 59.45743532,
                        "remaining_time": 52.54378005,
                        "test": [
                          0.841384367,
                          0.4115944869
                        ]
                      },
                      {
                        "parameters": [
                          {
                            "subsample": 1,
                            "random_strength": 100,
                            "depth": 4,
                            "learning_rate": 0.01,
                            "iterations": 50
                          }
                        ],
                        "learn": [
                          0.8320600414,
                          0.5505961369
                        ],
                        "iteration": 129,
                        "passed_time": 59.81132583,
                        "remaining_time": 51.98984476,
                        "test": [
                          0.8563018266,
                          0.5361583591
                        ]
                      },
                      {
                        "parameters": [
                          {
                            "subsample": 1,
                            "random_strength": 100,
                            "depth": 4,
                            "learning_rate": 0.1,
                            "iterations": 50
                          }
                        ],
                        "learn": [
                          0.8400654187,
                          0.4268571689
                        ],
                        "iteration": 130,
                        "passed_time": 60.13838771,
                        "remaining_time": 51.41602613,
                        "test": [
                          0.8647254385,
                          0.3922106075
                        ]
                      },
                      {
                        "parameters": [
                          {
                            "subsample": 1,
                            "random_strength": 100,
                            "depth": 4,
                            "learning_rate": 0.5,
                            "iterations": 50
                          }
                        ],
                        "learn": [
                          0.9005660513,
                          0.3426750925
                        ],
                        "iteration": 131,
                        "passed_time": 60.50525775,
                        "remaining_time": 50.87942129,
                        "test": [
                          0.8441882571,
                          0.4088118208
                        ]
                      },
                      {
                        "parameters": [
                          {
                            "subsample": 1,
                            "random_strength": 100,
                            "depth": 4,
                            "learning_rate": 0.01,
                            "iterations": 100
                          }
                        ],
                        "learn": [
                          0.8342250403,
                          0.4932927145
                        ],
                        "iteration": 132,
                        "passed_time": 61.19233742,
                        "remaining_time": 50.61020388,
                        "test": [
                          0.8589170392,
                          0.4713159155
                        ]
                      },
                      {
                        "parameters": [
                          {
                            "subsample": 1,
                            "random_strength": 100,
                            "depth": 4,
                            "learning_rate": 0.1,
                            "iterations": 100
                          }
                        ],
                        "learn": [
                          0.8477951748,
                          0.4148673973
                        ],
                        "iteration": 133,
                        "passed_time": 61.87744725,
                        "remaining_time": 50.33314739,
                        "test": [
                          0.8684321143,
                          0.3832468408
                        ]
                      },
                      {
                        "parameters": [
                          {
                            "subsample": 1,
                            "random_strength": 100,
                            "depth": 4,
                            "learning_rate": 0.5,
                            "iterations": 100
                          }
                        ],
                        "learn": [
                          0.9521391189,
                          0.2601783009
                        ],
                        "iteration": 134,
                        "passed_time": 62.62972524,
                        "remaining_time": 50.10378019,
                        "test": [
                          0.8320173679,
                          0.4296636604
                        ]
                      },
                      {
                        "parameters": [
                          {
                            "subsample": 1,
                            "random_strength": 1,
                            "depth": 8,
                            "learning_rate": 0.01,
                            "iterations": 10
                          }
                        ],
                        "learn": [
                          0.8369189959,
                          0.6394586275
                        ],
                        "iteration": 135,
                        "passed_time": 62.74053096,
                        "remaining_time": 49.36203539,
                        "test": [
                          0.8589337575,
                          0.6356226514
                        ]
                      },
                      {
                        "parameters": [
                          {
                            "subsample": 1,
                            "random_strength": 1,
                            "depth": 8,
                            "learning_rate": 0.1,
                            "iterations": 10
                          }
                        ],
                        "learn": [
                          0.8482611571,
                          0.4532639477
                        ],
                        "iteration": 136,
                        "passed_time": 62.85679921,
                        "remaining_time": 48.63372786,
                        "test": [
                          0.861436719,
                          0.4338060727
                        ]
                      },
                      {
                        "parameters": [
                          {
                            "subsample": 1,
                            "random_strength": 1,
                            "depth": 8,
                            "learning_rate": 0.5,
                            "iterations": 10
                          }
                        ],
                        "learn": [
                          0.8716913964,
                          0.3840960555
                        ],
                        "iteration": 137,
                        "passed_time": 62.96722527,
                        "remaining_time": 47.90984532,
                        "test": [
                          0.8521007681,
                          0.3976652641
                        ]
                      },
                      {
                        "parameters": [
                          {
                            "subsample": 1,
                            "random_strength": 1,
                            "depth": 8,
                            "learning_rate": 0.01,
                            "iterations": 50
                          }
                        ],
                        "learn": [
                          0.8450117897,
                          0.5124097377
                        ],
                        "iteration": 138,
                        "passed_time": 63.52843981,
                        "remaining_time": 47.53207007,
                        "test": [
                          0.8648233597,
                          0.4975256734
                        ]
                      },
                      {
                        "parameters": [
                          {
                            "subsample": 1,
                            "random_strength": 1,
                            "depth": 8,
                            "learning_rate": 0.1,
                            "iterations": 50
                          }
                        ],
                        "learn": [
                          0.8796944732,
                          0.3775952701
                        ],
                        "iteration": 139,
                        "passed_time": 64.09837831,
                        "remaining_time": 47.15809261,
                        "test": [
                          0.8670922657,
                          0.3824520802
                        ]
                      },
                      {
                        "parameters": [
                          {
                            "subsample": 1,
                            "random_strength": 1,
                            "depth": 8,
                            "learning_rate": 0.5,
                            "iterations": 50
                          }
                        ],
                        "learn": [
                          0.9725493156,
                          0.215718225
                        ],
                        "iteration": 140,
                        "passed_time": 64.74710198,
                        "remaining_time": 46.83832909,
                        "test": [
                          0.8159439604,
                          0.4745903085
                        ]
                      },
                      {
                        "parameters": [
                          {
                            "subsample": 1,
                            "random_strength": 1,
                            "depth": 8,
                            "learning_rate": 0.01,
                            "iterations": 100
                          }
                        ],
                        "learn": [
                          0.8512799057,
                          0.4508976381
                        ],
                        "iteration": 141,
                        "passed_time": 65.87189648,
                        "remaining_time": 46.85254609,
                        "test": [
                          0.8650192021,
                          0.4332733021
                        ]
                      },
                      {
                        "parameters": [
                          {
                            "subsample": 1,
                            "random_strength": 1,
                            "depth": 8,
                            "learning_rate": 0.1,
                            "iterations": 100
                          }
                        ],
                        "learn": [
                          0.9120643547,
                          0.3350129964
                        ],
                        "iteration": 142,
                        "passed_time": 67.05128706,
                        "remaining_time": 46.88901193,
                        "test": [
                          0.860665291,
                          0.3879861173
                        ]
                      },
                      {
                        "parameters": [
                          {
                            "subsample": 1,
                            "random_strength": 1,
                            "depth": 8,
                            "learning_rate": 0.5,
                            "iterations": 100
                          }
                        ],
                        "learn": [
                          0.9982822924,
                          0.1090814789
                        ],
                        "iteration": 143,
                        "passed_time": 68.69655541,
                        "remaining_time": 47.22888184,
                        "test": [
                          0.8058986778,
                          0.4995058326
                        ]
                      },
                      {
                        "parameters": [
                          {
                            "subsample": 1,
                            "random_strength": 10,
                            "depth": 8,
                            "learning_rate": 0.01,
                            "iterations": 10
                          }
                        ],
                        "learn": [
                          0.8321270416,
                          0.6466916268
                        ],
                        "iteration": 144,
                        "passed_time": 68.87910375,
                        "remaining_time": 46.55277357,
                        "test": [
                          0.8573526883,
                          0.6423484677
                        ]
                      },
                      {
                        "parameters": [
                          {
                            "subsample": 1,
                            "random_strength": 10,
                            "depth": 8,
                            "learning_rate": 0.1,
                            "iterations": 10
                          }
                        ],
                        "learn": [
                          0.8330536865,
                          0.4687355534
                        ],
                        "iteration": 145,
                        "passed_time": 69.0613684,
                        "remaining_time": 45.88323791,
                        "test": [
                          0.8595212847,
                          0.443647415
                        ]
                      },
                      {
                        "parameters": [
                          {
                            "subsample": 1,
                            "random_strength": 10,
                            "depth": 8,
                            "learning_rate": 0.5,
                            "iterations": 10
                          }
                        ],
                        "learn": [
                          0.8465665977,
                          0.4146415108
                        ],
                        "iteration": 146,
                        "passed_time": 69.27099195,
                        "remaining_time": 45.23819882,
                        "test": [
                          0.8659482594,
                          0.3845622033
                        ]
                      },
                      {
                        "parameters": [
                          {
                            "subsample": 1,
                            "random_strength": 10,
                            "depth": 8,
                            "learning_rate": 0.01,
                            "iterations": 50
                          }
                        ],
                        "learn": [
                          0.8337721417,
                          0.5280252816
                        ],
                        "iteration": 147,
                        "passed_time": 70.294225,
                        "remaining_time": 45.12129307,
                        "test": [
                          0.8601374718,
                          0.509843669
                        ]
                      },
                      {
                        "parameters": [
                          {
                            "subsample": 1,
                            "random_strength": 10,
                            "depth": 8,
                            "learning_rate": 0.1,
                            "iterations": 50
                          }
                        ],
                        "learn": [
                          0.8515809754,
                          0.4114868035
                        ],
                        "iteration": 148,
                        "passed_time": 71.05025544,
                        "remaining_time": 44.82365109,
                        "test": [
                          0.8659410944,
                          0.3867981479
                        ]
                      },
                      {
                        "parameters": [
                          {
                            "subsample": 1,
                            "random_strength": 10,
                            "depth": 8,
                            "learning_rate": 0.5,
                            "iterations": 50
                          }
                        ],
                        "learn": [
                          0.9591708362,
                          0.2458618359
                        ],
                        "iteration": 149,
                        "passed_time": 71.64592717,
                        "remaining_time": 44.42047485,
                        "test": [
                          0.8285566892,
                          0.4462002476
                        ]
                      },
                      {
                        "parameters": [
                          {
                            "subsample": 1,
                            "random_strength": 10,
                            "depth": 8,
                            "learning_rate": 0.01,
                            "iterations": 100
                          }
                        ],
                        "learn": [
                          0.8371123764,
                          0.4711342782
                        ],
                        "iteration": 150,
                        "passed_time": 72.77094712,
                        "remaining_time": 44.3372658,
                        "test": [
                          0.8626093852,
                          0.4458016421
                        ]
                      },
                      {
                        "parameters": [
                          {
                            "subsample": 1,
                            "random_strength": 10,
                            "depth": 8,
                            "learning_rate": 0.1,
                            "iterations": 100
                          }
                        ],
                        "learn": [
                          0.8655795664,
                          0.3927834967
                        ],
                        "iteration": 151,
                        "passed_time": 73.87963544,
                        "remaining_time": 44.23057122,
                        "test": [
                          0.8680571478,
                          0.381496145
                        ]
                      },
                      {
                        "parameters": [
                          {
                            "subsample": 1,
                            "random_strength": 10,
                            "depth": 8,
                            "learning_rate": 0.5,
                            "iterations": 100
                          }
                        ],
                        "learn": [
                          0.9973887164,
                          0.1183846992
                        ],
                        "iteration": 152,
                        "passed_time": 75.11146385,
                        "remaining_time": 44.18321403,
                        "test": [
                          0.8101833276,
                          0.5268122391
                        ]
                      },
                      {
                        "parameters": [
                          {
                            "subsample": 1,
                            "random_strength": 100,
                            "depth": 8,
                            "learning_rate": 0.01,
                            "iterations": 10
                          }
                        ],
                        "learn": [
                          0.8144266161,
                          0.6507834832
                        ],
                        "iteration": 153,
                        "passed_time": 75.22085714,
                        "remaining_time": 43.47179406,
                        "test": [
                          0.8419742825,
                          0.6466598742
                        ]
                      },
                      {
                        "parameters": [
                          {
                            "subsample": 1,
                            "random_strength": 100,
                            "depth": 8,
                            "learning_rate": 0.1,
                            "iterations": 10
                          }
                        ],
                        "learn": [
                          0.8195843398,
                          0.4881578962
                        ],
                        "iteration": 154,
                        "passed_time": 75.32841759,
                        "remaining_time": 42.7671016,
                        "test": [
                          0.8484155871,
                          0.4631960302
                        ]
                      },
                      {
                        "parameters": [
                          {
                            "subsample": 1,
                            "random_strength": 100,
                            "depth": 8,
                            "learning_rate": 0.5,
                            "iterations": 10
                          }
                        ],
                        "learn": [
                          0.8275670002,
                          0.4360521883
                        ],
                        "iteration": 155,
                        "passed_time": 75.44073068,
                        "remaining_time": 42.07271519,
                        "test": [
                          0.8546180595,
                          0.3989602544
                        ]
                      },
                      {
                        "parameters": [
                          {
                            "subsample": 1,
                            "random_strength": 100,
                            "depth": 8,
                            "learning_rate": 0.01,
                            "iterations": 50
                          }
                        ],
                        "learn": [
                          0.8320669427,
                          0.5393151838
                        ],
                        "iteration": 156,
                        "passed_time": 76.03102043,
                        "remaining_time": 41.64756533,
                        "test": [
                          0.8573574649,
                          0.5234654181
                        ]
                      },
                      {
                        "parameters": [
                          {
                            "subsample": 1,
                            "random_strength": 100,
                            "depth": 8,
                            "learning_rate": 0.1,
                            "iterations": 50
                          }
                        ],
                        "learn": [
                          0.8433231251,
                          0.4213682821
                        ],
                        "iteration": 157,
                        "passed_time": 76.56316144,
                        "remaining_time": 41.18904255,
                        "test": [
                          0.8621341091,
                          0.3918732605
                        ]
                      },
                      {
                        "parameters": [
                          {
                            "subsample": 1,
                            "random_strength": 100,
                            "depth": 8,
                            "learning_rate": 0.5,
                            "iterations": 50
                          }
                        ],
                        "learn": [
                          0.9544437256,
                          0.2583187504
                        ],
                        "iteration": 158,
                        "passed_time": 77.1695078,
                        "remaining_time": 40.76879657,
                        "test": [
                          0.8391680041,
                          0.4291216323
                        ]
                      },
                      {
                        "parameters": [
                          {
                            "subsample": 1,
                            "random_strength": 100,
                            "depth": 8,
                            "learning_rate": 0.01,
                            "iterations": 100
                          }
                        ],
                        "learn": [
                          0.8365621406,
                          0.4819051227
                        ],
                        "iteration": 159,
                        "passed_time": 78.26488397,
                        "remaining_time": 40.59990856,
                        "test": [
                          0.8608897933,
                          0.4587264473
                        ]
                      },
                      {
                        "parameters": [
                          {
                            "subsample": 1,
                            "random_strength": 100,
                            "depth": 8,
                            "learning_rate": 0.1,
                            "iterations": 100
                          }
                        ],
                        "learn": [
                          0.8588371291,
                          0.4020417404
                        ],
                        "iteration": 160,
                        "passed_time": 79.36156375,
                        "remaining_time": 40.42017533,
                        "test": [
                          0.8660390156,
                          0.3850876346
                        ]
                      },
                      {
                        "parameters": [
                          {
                            "subsample": 1,
                            "random_strength": 100,
                            "depth": 8,
                            "learning_rate": 0.5,
                            "iterations": 100
                          }
                        ],
                        "learn": [
                          0.9955128537,
                          0.1280623364
                        ],
                        "iteration": 161,
                        "passed_time": 80.56460666,
                        "remaining_time": 40.28230333,
                        "test": [
                          0.831714051,
                          0.4765068345
                        ]
                      }
                    ],
                    "meta": {
                      "test_sets": [
                        "test"
                      ],
                      "test_metrics": [
                        {
                          "best_value": "Max",
                          "name": "AUC"
                        },
                        {
                          "best_value": "Min",
                          "name": "Logloss"
                        }
                      ],
                      "learn_metrics": [
                        {
                          "best_value": "Max",
                          "name": "AUC"
                        },
                        {
                          "best_value": "Min",
                          "name": "Logloss"
                        }
                      ],
                      "launch_mode": "Train",
                      "parameters": "parameters",
                      "iteration_count": 243,
                      "learn_sets": [
                        "learn"
                      ],
                      "name": "experiment"
                    }
                  }
                }
              }
            },
            "layout": "IPY_MODEL_8927edaa03d6477fafae3088dab99470"
          }
        }
      }
    }
  },
  "cells": [
    {
      "cell_type": "markdown",
      "metadata": {
        "id": "zlB-owfaEEYs"
      },
      "source": [
        "### Отправить ваши предсказания в Stepik.\n",
        "За прохождение определенных порогов будут начисляться баллы. Эта часть оценивается из 5 баллов.\n",
        "\n",
        "1) $1.00 \\geqslant score \\geqslant 0.84$ --- 5 баллов\n",
        "\n",
        "2) $0.84 > score \\geqslant 0.77$ --- 4 балла\n",
        "\n",
        "3) $0.77 > score \\geqslant 0.70$ --- 3 балла\n",
        "\n",
        "4) $0.70 > score \\geqslant 0.65$ --- 2 балла\n",
        "\n",
        "5) $0.65 > score \\geqslant 0.6$ --- 1 балл\n",
        "\n",
        "6) $0.60 > score$ --- 0 баллов\n",
        "\n",
        "Для этого мы предварительно разделили данные в задании на две части.\n",
        "* `train.csv`. На этом наборе данных вам необходимо создать и обучить модель. Подробное описание файла есть в ноутбуке.\n",
        "* `test.csv`. В каждой строчке файла `test.csv` указаны признаки тестовых объектов. Предсказания для этого набора необходимо записать в файл submission.csv и сдать в соответствующий шаг на Stepik. Количество попыток ограничено 100 штук.\n",
        "\n",
        "Отправлять в Stepik вы будете файл с ответами `my_submission.csv`. В этом файле вам необходимо для каждого объекта из датасета предсказать вероятность класса 1. Мы подготовили для вас файл с примером посылки `submission.csv`. Ваш файл должен быть оформлен таким же образом. В ноутбуке есть пример оформления файла посылки. Для отправки файла с предсказаниями на Stepik есть отдельный шаг.\n",
        "\n",
        "### Сделать полноценный отчет о вашей работе.\n",
        "Опишите, как вы обработали данные, какие модели попробовали и какие результаты получились (максимум 10 баллов). За каждую выполненную часть будет начислено определенное количество баллов. В этом пункте вам необходимо отправить файл в формате .ipynb на Stepik --- для этого в домашнем задании есть отдельный шаг. Этот пункт оценивается из 10 баллов.\n",
        "\n",
        "**Вторая часть будет проверяться в формате peer-review. Т.е. вашу посылку на Stepik будут проверять 3 других студента, и медианное значение их оценок будет выставлено. Чтобы получить баллы, вам также нужно будет проверить трех других учеников. Это станет доступно после того, как вы сдадите задание сами.**\n",
        "\n",
        "### Контест на Kaggle\n",
        "Для вашего удобства мы подготовили [контест на Kaggle](https://www.kaggle.com/c/advanced-dls-spring-2021/). Тестирующая система на Kaggle выдает те же баллы, что и Stepik. Мы рекомендуем в качестве основной тестирующей системы использовать именно Kaggle, а затем сдать лучшую посылку на Stepik. Так вы привыкните работать с Kaggle.\n",
        "\n",
        "Проблема для российских пользователей Kaggle заключается в том, что подтверждение аккаунта по номеру телефона работает с перебоями или не работает вообще. Без подтвержденного номера телефона вы не сможете совершать посылки в kaggle. Если у вас возникла такая проблема, мы советуем следующие шаги:\n",
        "* Попробовать зарегистрировать аккаунт с аутентификацией через gmail. В таком случае, аккаунт должен работать без подтверждения номера телефона.\n",
        "* Если у вас есть не российский номер, используйте его для верификации аккаунта.\n",
        "* Если на номер телефона не приходит смс для верификации аккаунта, обратитесь в службу поддержки kaggle. Они с переменным успехом умеют подтверждать аккаунты вручную.\n",
        "* Если все же подтвердить аккаунт и получить доступ к сдаче заданий не удалось, используйте только сдачу в Stepik.\n",
        "\n",
        "### Несколько замечаний по выполнению работы\n",
        "* Во всех пунктах указания это минимальный набор вещей, которые стоит сделать. Если вы можете сделать какой-то шаг лучше или добавить что-то свое --- дерзайте!\n",
        "* Пожалуйста, перед сдачей ноутбука убедитесь, что работа чистая и понятная. Это значительно облегчит проверку и повысит ваши ожидаемые баллы.\n",
        "* Если у вас будут проблемы с решением или хочется совета, то пишите в наш чат в телеграме.\n",
        "\n",
        "\n",
        "Данные: [train.csv](https://drive.google.com/file/d/1ERwQ5odiK1Zvi1LtjpkzCMUswYsAX8_K/view?usp=share_link),\n",
        "[test.csv](https://drive.google.com/file/d/1fGw_-RFwvn_LEdt91Jq-7A-wzG6mmH8r/view?usp=share_link), [submission.csv](https://drive.google.com/file/d/199Mt4OYZNaelT83U-HGDsEYs2YcUGQ6y/view?usp=share_link).\n",
        "\n",
        "Если ссылки на данные не работают, их можно скачать [на Kaggle](https://www.kaggle.com/competitions/advanced-dls-spring-2021/data)."
      ]
    },
    {
      "cell_type": "markdown",
      "metadata": {
        "id": "ninJ63mJEEYt"
      },
      "source": [
        "# Метрика\n",
        "\n",
        "Перед решением любой задачи важно понимать, как будет оцениваться ваше решение. В данном случае мы используем стандартную для задачи классификации метрику ROC-AUC. Ее можно вычислить используя только предсказанные вероятности и истинные классы без конкретного порога классификации + она раотает даже если классы в данных сильно несбалансированны (примеров одного класса в десятки раз больше примеров длугого). Именно поэтому она очень удобна для соревнований.\n",
        "\n",
        "Посчитать ее легко:\n"
      ]
    },
    {
      "cell_type": "code",
      "metadata": {
        "id": "SQIrka7yEEYu",
        "outputId": "2c254741-51c4-40ef-9cff-8e528c61415a",
        "colab": {
          "base_uri": "https://localhost:8080/"
        }
      },
      "source": [
        "from sklearn.metrics import roc_auc_score\n",
        "\n",
        "y_true = [\n",
        "    0,\n",
        "    1,\n",
        "    1,\n",
        "    0,\n",
        "    1\n",
        "]\n",
        "\n",
        "y_predictions = [\n",
        "    0.1,\n",
        "    0.9,\n",
        "    0.4,\n",
        "    0.6,\n",
        "    0.61\n",
        "]\n",
        "\n",
        "roc_auc_score(y_true, y_predictions)"
      ],
      "execution_count": null,
      "outputs": [
        {
          "output_type": "execute_result",
          "data": {
            "text/plain": [
              "0.8333333333333333"
            ]
          },
          "metadata": {},
          "execution_count": 1
        }
      ]
    },
    {
      "cell_type": "markdown",
      "metadata": {
        "id": "IrDNNkNTEEYz"
      },
      "source": [
        "# Первая часть. Исследование"
      ]
    },
    {
      "cell_type": "code",
      "metadata": {
        "id": "lzLqEeZKEEYz"
      },
      "source": [
        "import pandas as pd\n",
        "import numpy as np\n",
        "from matplotlib import pyplot as plt\n",
        "import seaborn as sns"
      ],
      "execution_count": 1,
      "outputs": []
    },
    {
      "cell_type": "markdown",
      "metadata": {
        "id": "LOlxdURSEEY3"
      },
      "source": [
        "## Загрузка данных (2 балла)\n",
        "\n",
        "1) Посмотрите на случайные строчки.\n",
        "\n",
        "2) Посмотрите, есть ли в датасете незаполненные значения (nan'ы) с помощью data.isna() или data.info() и, если нужно, замените их на что-то. Будет хорошо, если вы построите табличку с количеством nan в каждой колонке."
      ]
    },
    {
      "cell_type": "code",
      "source": [
        "!gdown 1ERwQ5odiK1Zvi1LtjpkzCMUswYsAX8_K  # train.csv\n",
        "!gdown 1fGw_-RFwvn_LEdt91Jq-7A-wzG6mmH8r  # test.csv\n",
        "!gdown 199Mt4OYZNaelT83U-HGDsEYs2YcUGQ6y  # submission.csv"
      ],
      "metadata": {
        "id": "joF3ESFdM4o4"
      },
      "execution_count": null,
      "outputs": []
    },
    {
      "cell_type": "code",
      "metadata": {
        "id": "pw-Brue9EEY3"
      },
      "source": [
        "train = pd.read_csv('./train.csv')\n",
        "test = pd.read_csv('./test.csv')"
      ],
      "execution_count": 2,
      "outputs": []
    },
    {
      "cell_type": "code",
      "metadata": {
        "id": "KgnkkF5bEEY9"
      },
      "source": [
        "# Для вашего удобства списки с именами разных колонок\n",
        "\n",
        "# Числовые признаки\n",
        "num_cols = [\n",
        "    'ClientPeriod',\n",
        "    'MonthlySpending',\n",
        "    'TotalSpent'\n",
        "]\n",
        "\n",
        "# Категориальные признаки\n",
        "cat_cols = [\n",
        "    'Sex',\n",
        "    'IsSeniorCitizen',\n",
        "    'HasPartner',\n",
        "    'HasChild',\n",
        "    'HasPhoneService',\n",
        "    'HasMultiplePhoneNumbers',\n",
        "    'HasInternetService',\n",
        "    'HasOnlineSecurityService',\n",
        "    'HasOnlineBackup',\n",
        "    'HasDeviceProtection',\n",
        "    'HasTechSupportAccess',\n",
        "    'HasOnlineTV',\n",
        "    'HasMovieSubscription',\n",
        "    'HasContractPhone',\n",
        "    'IsBillingPaperless',\n",
        "    'PaymentMethod'\n",
        "]\n",
        "\n",
        "feature_cols = num_cols + cat_cols\n",
        "target_col = 'Churn'"
      ],
      "execution_count": 3,
      "outputs": []
    },
    {
      "cell_type": "code",
      "metadata": {
        "id": "tHC6gWabEEZA",
        "colab": {
          "base_uri": "https://localhost:8080/",
          "height": 522
        },
        "outputId": "56159b3f-0c9d-4d1f-f937-2f6e9893729e"
      },
      "source": [
        "train.head(10)"
      ],
      "execution_count": 4,
      "outputs": [
        {
          "output_type": "execute_result",
          "data": {
            "text/plain": [
              "   ClientPeriod  MonthlySpending TotalSpent     Sex  IsSeniorCitizen  \\\n",
              "0            55            19.50    1026.35    Male                0   \n",
              "1            72            25.85     1872.2    Male                0   \n",
              "2             1            75.90       75.9    Male                0   \n",
              "3            32            79.30       2570  Female                1   \n",
              "4            60           115.25    6758.45  Female                0   \n",
              "5            25            19.80      475.2  Female                0   \n",
              "6            27            90.15     2423.4  Female                0   \n",
              "7             1            45.70       45.7    Male                0   \n",
              "8            50           105.95     5341.8    Male                0   \n",
              "9            72            61.20    4390.25    Male                0   \n",
              "\n",
              "  HasPartner HasChild HasPhoneService HasMultiplePhoneNumbers  \\\n",
              "0        Yes      Yes             Yes                      No   \n",
              "1        Yes       No             Yes                     Yes   \n",
              "2         No       No             Yes                      No   \n",
              "3        Yes       No             Yes                     Yes   \n",
              "4        Yes      Yes             Yes                     Yes   \n",
              "5         No       No             Yes                      No   \n",
              "6        Yes       No             Yes                     Yes   \n",
              "7         No       No             Yes                      No   \n",
              "8        Yes      Yes             Yes                     Yes   \n",
              "9         No       No              No        No phone service   \n",
              "\n",
              "  HasInternetService HasOnlineSecurityService      HasOnlineBackup  \\\n",
              "0                 No      No internet service  No internet service   \n",
              "1                 No      No internet service  No internet service   \n",
              "2        Fiber optic                       No                   No   \n",
              "3        Fiber optic                       No                   No   \n",
              "4        Fiber optic                      Yes                  Yes   \n",
              "5                 No      No internet service  No internet service   \n",
              "6        Fiber optic                       No                   No   \n",
              "7                DSL                       No                   No   \n",
              "8        Fiber optic                      Yes                   No   \n",
              "9                DSL                      Yes                   No   \n",
              "\n",
              "   HasDeviceProtection HasTechSupportAccess          HasOnlineTV  \\\n",
              "0  No internet service  No internet service  No internet service   \n",
              "1  No internet service  No internet service  No internet service   \n",
              "2                   No                  Yes                   No   \n",
              "3                  Yes                   No                   No   \n",
              "4                  Yes                  Yes                  Yes   \n",
              "5  No internet service  No internet service  No internet service   \n",
              "6                  Yes                   No                   No   \n",
              "7                   No                   No                   No   \n",
              "8                  Yes                   No                  Yes   \n",
              "9                  Yes                  Yes                  Yes   \n",
              "\n",
              "  HasMovieSubscription HasContractPhone IsBillingPaperless  \\\n",
              "0  No internet service         One year                 No   \n",
              "1  No internet service         Two year                 No   \n",
              "2                   No   Month-to-month                Yes   \n",
              "3                   No   Month-to-month                 No   \n",
              "4                  Yes         Two year                 No   \n",
              "5  No internet service         Two year                 No   \n",
              "6                  Yes   Month-to-month                 No   \n",
              "7                   No   Month-to-month                Yes   \n",
              "8                  Yes   Month-to-month                 No   \n",
              "9                  Yes         Two year                Yes   \n",
              "\n",
              "               PaymentMethod  Churn  \n",
              "0               Mailed check      0  \n",
              "1    Credit card (automatic)      0  \n",
              "2           Electronic check      1  \n",
              "3               Mailed check      0  \n",
              "4    Credit card (automatic)      0  \n",
              "5    Credit card (automatic)      0  \n",
              "6  Bank transfer (automatic)      0  \n",
              "7               Mailed check      1  \n",
              "8    Credit card (automatic)      1  \n",
              "9    Credit card (automatic)      0  "
            ],
            "text/html": [
              "\n",
              "  <div id=\"df-a4cb36cc-ba6a-4077-96de-832533508b73\" class=\"colab-df-container\">\n",
              "    <div>\n",
              "<style scoped>\n",
              "    .dataframe tbody tr th:only-of-type {\n",
              "        vertical-align: middle;\n",
              "    }\n",
              "\n",
              "    .dataframe tbody tr th {\n",
              "        vertical-align: top;\n",
              "    }\n",
              "\n",
              "    .dataframe thead th {\n",
              "        text-align: right;\n",
              "    }\n",
              "</style>\n",
              "<table border=\"1\" class=\"dataframe\">\n",
              "  <thead>\n",
              "    <tr style=\"text-align: right;\">\n",
              "      <th></th>\n",
              "      <th>ClientPeriod</th>\n",
              "      <th>MonthlySpending</th>\n",
              "      <th>TotalSpent</th>\n",
              "      <th>Sex</th>\n",
              "      <th>IsSeniorCitizen</th>\n",
              "      <th>HasPartner</th>\n",
              "      <th>HasChild</th>\n",
              "      <th>HasPhoneService</th>\n",
              "      <th>HasMultiplePhoneNumbers</th>\n",
              "      <th>HasInternetService</th>\n",
              "      <th>HasOnlineSecurityService</th>\n",
              "      <th>HasOnlineBackup</th>\n",
              "      <th>HasDeviceProtection</th>\n",
              "      <th>HasTechSupportAccess</th>\n",
              "      <th>HasOnlineTV</th>\n",
              "      <th>HasMovieSubscription</th>\n",
              "      <th>HasContractPhone</th>\n",
              "      <th>IsBillingPaperless</th>\n",
              "      <th>PaymentMethod</th>\n",
              "      <th>Churn</th>\n",
              "    </tr>\n",
              "  </thead>\n",
              "  <tbody>\n",
              "    <tr>\n",
              "      <th>0</th>\n",
              "      <td>55</td>\n",
              "      <td>19.50</td>\n",
              "      <td>1026.35</td>\n",
              "      <td>Male</td>\n",
              "      <td>0</td>\n",
              "      <td>Yes</td>\n",
              "      <td>Yes</td>\n",
              "      <td>Yes</td>\n",
              "      <td>No</td>\n",
              "      <td>No</td>\n",
              "      <td>No internet service</td>\n",
              "      <td>No internet service</td>\n",
              "      <td>No internet service</td>\n",
              "      <td>No internet service</td>\n",
              "      <td>No internet service</td>\n",
              "      <td>No internet service</td>\n",
              "      <td>One year</td>\n",
              "      <td>No</td>\n",
              "      <td>Mailed check</td>\n",
              "      <td>0</td>\n",
              "    </tr>\n",
              "    <tr>\n",
              "      <th>1</th>\n",
              "      <td>72</td>\n",
              "      <td>25.85</td>\n",
              "      <td>1872.2</td>\n",
              "      <td>Male</td>\n",
              "      <td>0</td>\n",
              "      <td>Yes</td>\n",
              "      <td>No</td>\n",
              "      <td>Yes</td>\n",
              "      <td>Yes</td>\n",
              "      <td>No</td>\n",
              "      <td>No internet service</td>\n",
              "      <td>No internet service</td>\n",
              "      <td>No internet service</td>\n",
              "      <td>No internet service</td>\n",
              "      <td>No internet service</td>\n",
              "      <td>No internet service</td>\n",
              "      <td>Two year</td>\n",
              "      <td>No</td>\n",
              "      <td>Credit card (automatic)</td>\n",
              "      <td>0</td>\n",
              "    </tr>\n",
              "    <tr>\n",
              "      <th>2</th>\n",
              "      <td>1</td>\n",
              "      <td>75.90</td>\n",
              "      <td>75.9</td>\n",
              "      <td>Male</td>\n",
              "      <td>0</td>\n",
              "      <td>No</td>\n",
              "      <td>No</td>\n",
              "      <td>Yes</td>\n",
              "      <td>No</td>\n",
              "      <td>Fiber optic</td>\n",
              "      <td>No</td>\n",
              "      <td>No</td>\n",
              "      <td>No</td>\n",
              "      <td>Yes</td>\n",
              "      <td>No</td>\n",
              "      <td>No</td>\n",
              "      <td>Month-to-month</td>\n",
              "      <td>Yes</td>\n",
              "      <td>Electronic check</td>\n",
              "      <td>1</td>\n",
              "    </tr>\n",
              "    <tr>\n",
              "      <th>3</th>\n",
              "      <td>32</td>\n",
              "      <td>79.30</td>\n",
              "      <td>2570</td>\n",
              "      <td>Female</td>\n",
              "      <td>1</td>\n",
              "      <td>Yes</td>\n",
              "      <td>No</td>\n",
              "      <td>Yes</td>\n",
              "      <td>Yes</td>\n",
              "      <td>Fiber optic</td>\n",
              "      <td>No</td>\n",
              "      <td>No</td>\n",
              "      <td>Yes</td>\n",
              "      <td>No</td>\n",
              "      <td>No</td>\n",
              "      <td>No</td>\n",
              "      <td>Month-to-month</td>\n",
              "      <td>No</td>\n",
              "      <td>Mailed check</td>\n",
              "      <td>0</td>\n",
              "    </tr>\n",
              "    <tr>\n",
              "      <th>4</th>\n",
              "      <td>60</td>\n",
              "      <td>115.25</td>\n",
              "      <td>6758.45</td>\n",
              "      <td>Female</td>\n",
              "      <td>0</td>\n",
              "      <td>Yes</td>\n",
              "      <td>Yes</td>\n",
              "      <td>Yes</td>\n",
              "      <td>Yes</td>\n",
              "      <td>Fiber optic</td>\n",
              "      <td>Yes</td>\n",
              "      <td>Yes</td>\n",
              "      <td>Yes</td>\n",
              "      <td>Yes</td>\n",
              "      <td>Yes</td>\n",
              "      <td>Yes</td>\n",
              "      <td>Two year</td>\n",
              "      <td>No</td>\n",
              "      <td>Credit card (automatic)</td>\n",
              "      <td>0</td>\n",
              "    </tr>\n",
              "    <tr>\n",
              "      <th>5</th>\n",
              "      <td>25</td>\n",
              "      <td>19.80</td>\n",
              "      <td>475.2</td>\n",
              "      <td>Female</td>\n",
              "      <td>0</td>\n",
              "      <td>No</td>\n",
              "      <td>No</td>\n",
              "      <td>Yes</td>\n",
              "      <td>No</td>\n",
              "      <td>No</td>\n",
              "      <td>No internet service</td>\n",
              "      <td>No internet service</td>\n",
              "      <td>No internet service</td>\n",
              "      <td>No internet service</td>\n",
              "      <td>No internet service</td>\n",
              "      <td>No internet service</td>\n",
              "      <td>Two year</td>\n",
              "      <td>No</td>\n",
              "      <td>Credit card (automatic)</td>\n",
              "      <td>0</td>\n",
              "    </tr>\n",
              "    <tr>\n",
              "      <th>6</th>\n",
              "      <td>27</td>\n",
              "      <td>90.15</td>\n",
              "      <td>2423.4</td>\n",
              "      <td>Female</td>\n",
              "      <td>0</td>\n",
              "      <td>Yes</td>\n",
              "      <td>No</td>\n",
              "      <td>Yes</td>\n",
              "      <td>Yes</td>\n",
              "      <td>Fiber optic</td>\n",
              "      <td>No</td>\n",
              "      <td>No</td>\n",
              "      <td>Yes</td>\n",
              "      <td>No</td>\n",
              "      <td>No</td>\n",
              "      <td>Yes</td>\n",
              "      <td>Month-to-month</td>\n",
              "      <td>No</td>\n",
              "      <td>Bank transfer (automatic)</td>\n",
              "      <td>0</td>\n",
              "    </tr>\n",
              "    <tr>\n",
              "      <th>7</th>\n",
              "      <td>1</td>\n",
              "      <td>45.70</td>\n",
              "      <td>45.7</td>\n",
              "      <td>Male</td>\n",
              "      <td>0</td>\n",
              "      <td>No</td>\n",
              "      <td>No</td>\n",
              "      <td>Yes</td>\n",
              "      <td>No</td>\n",
              "      <td>DSL</td>\n",
              "      <td>No</td>\n",
              "      <td>No</td>\n",
              "      <td>No</td>\n",
              "      <td>No</td>\n",
              "      <td>No</td>\n",
              "      <td>No</td>\n",
              "      <td>Month-to-month</td>\n",
              "      <td>Yes</td>\n",
              "      <td>Mailed check</td>\n",
              "      <td>1</td>\n",
              "    </tr>\n",
              "    <tr>\n",
              "      <th>8</th>\n",
              "      <td>50</td>\n",
              "      <td>105.95</td>\n",
              "      <td>5341.8</td>\n",
              "      <td>Male</td>\n",
              "      <td>0</td>\n",
              "      <td>Yes</td>\n",
              "      <td>Yes</td>\n",
              "      <td>Yes</td>\n",
              "      <td>Yes</td>\n",
              "      <td>Fiber optic</td>\n",
              "      <td>Yes</td>\n",
              "      <td>No</td>\n",
              "      <td>Yes</td>\n",
              "      <td>No</td>\n",
              "      <td>Yes</td>\n",
              "      <td>Yes</td>\n",
              "      <td>Month-to-month</td>\n",
              "      <td>No</td>\n",
              "      <td>Credit card (automatic)</td>\n",
              "      <td>1</td>\n",
              "    </tr>\n",
              "    <tr>\n",
              "      <th>9</th>\n",
              "      <td>72</td>\n",
              "      <td>61.20</td>\n",
              "      <td>4390.25</td>\n",
              "      <td>Male</td>\n",
              "      <td>0</td>\n",
              "      <td>No</td>\n",
              "      <td>No</td>\n",
              "      <td>No</td>\n",
              "      <td>No phone service</td>\n",
              "      <td>DSL</td>\n",
              "      <td>Yes</td>\n",
              "      <td>No</td>\n",
              "      <td>Yes</td>\n",
              "      <td>Yes</td>\n",
              "      <td>Yes</td>\n",
              "      <td>Yes</td>\n",
              "      <td>Two year</td>\n",
              "      <td>Yes</td>\n",
              "      <td>Credit card (automatic)</td>\n",
              "      <td>0</td>\n",
              "    </tr>\n",
              "  </tbody>\n",
              "</table>\n",
              "</div>\n",
              "    <div class=\"colab-df-buttons\">\n",
              "\n",
              "  <div class=\"colab-df-container\">\n",
              "    <button class=\"colab-df-convert\" onclick=\"convertToInteractive('df-a4cb36cc-ba6a-4077-96de-832533508b73')\"\n",
              "            title=\"Convert this dataframe to an interactive table.\"\n",
              "            style=\"display:none;\">\n",
              "\n",
              "  <svg xmlns=\"http://www.w3.org/2000/svg\" height=\"24px\" viewBox=\"0 -960 960 960\">\n",
              "    <path d=\"M120-120v-720h720v720H120Zm60-500h600v-160H180v160Zm220 220h160v-160H400v160Zm0 220h160v-160H400v160ZM180-400h160v-160H180v160Zm440 0h160v-160H620v160ZM180-180h160v-160H180v160Zm440 0h160v-160H620v160Z\"/>\n",
              "  </svg>\n",
              "    </button>\n",
              "\n",
              "  <style>\n",
              "    .colab-df-container {\n",
              "      display:flex;\n",
              "      gap: 12px;\n",
              "    }\n",
              "\n",
              "    .colab-df-convert {\n",
              "      background-color: #E8F0FE;\n",
              "      border: none;\n",
              "      border-radius: 50%;\n",
              "      cursor: pointer;\n",
              "      display: none;\n",
              "      fill: #1967D2;\n",
              "      height: 32px;\n",
              "      padding: 0 0 0 0;\n",
              "      width: 32px;\n",
              "    }\n",
              "\n",
              "    .colab-df-convert:hover {\n",
              "      background-color: #E2EBFA;\n",
              "      box-shadow: 0px 1px 2px rgba(60, 64, 67, 0.3), 0px 1px 3px 1px rgba(60, 64, 67, 0.15);\n",
              "      fill: #174EA6;\n",
              "    }\n",
              "\n",
              "    .colab-df-buttons div {\n",
              "      margin-bottom: 4px;\n",
              "    }\n",
              "\n",
              "    [theme=dark] .colab-df-convert {\n",
              "      background-color: #3B4455;\n",
              "      fill: #D2E3FC;\n",
              "    }\n",
              "\n",
              "    [theme=dark] .colab-df-convert:hover {\n",
              "      background-color: #434B5C;\n",
              "      box-shadow: 0px 1px 3px 1px rgba(0, 0, 0, 0.15);\n",
              "      filter: drop-shadow(0px 1px 2px rgba(0, 0, 0, 0.3));\n",
              "      fill: #FFFFFF;\n",
              "    }\n",
              "  </style>\n",
              "\n",
              "    <script>\n",
              "      const buttonEl =\n",
              "        document.querySelector('#df-a4cb36cc-ba6a-4077-96de-832533508b73 button.colab-df-convert');\n",
              "      buttonEl.style.display =\n",
              "        google.colab.kernel.accessAllowed ? 'block' : 'none';\n",
              "\n",
              "      async function convertToInteractive(key) {\n",
              "        const element = document.querySelector('#df-a4cb36cc-ba6a-4077-96de-832533508b73');\n",
              "        const dataTable =\n",
              "          await google.colab.kernel.invokeFunction('convertToInteractive',\n",
              "                                                    [key], {});\n",
              "        if (!dataTable) return;\n",
              "\n",
              "        const docLinkHtml = 'Like what you see? Visit the ' +\n",
              "          '<a target=\"_blank\" href=https://colab.research.google.com/notebooks/data_table.ipynb>data table notebook</a>'\n",
              "          + ' to learn more about interactive tables.';\n",
              "        element.innerHTML = '';\n",
              "        dataTable['output_type'] = 'display_data';\n",
              "        await google.colab.output.renderOutput(dataTable, element);\n",
              "        const docLink = document.createElement('div');\n",
              "        docLink.innerHTML = docLinkHtml;\n",
              "        element.appendChild(docLink);\n",
              "      }\n",
              "    </script>\n",
              "  </div>\n",
              "\n",
              "\n",
              "<div id=\"df-f49271ef-08c2-4aa2-b415-917d98adc7a9\">\n",
              "  <button class=\"colab-df-quickchart\" onclick=\"quickchart('df-f49271ef-08c2-4aa2-b415-917d98adc7a9')\"\n",
              "            title=\"Suggest charts\"\n",
              "            style=\"display:none;\">\n",
              "\n",
              "<svg xmlns=\"http://www.w3.org/2000/svg\" height=\"24px\"viewBox=\"0 0 24 24\"\n",
              "     width=\"24px\">\n",
              "    <g>\n",
              "        <path d=\"M19 3H5c-1.1 0-2 .9-2 2v14c0 1.1.9 2 2 2h14c1.1 0 2-.9 2-2V5c0-1.1-.9-2-2-2zM9 17H7v-7h2v7zm4 0h-2V7h2v10zm4 0h-2v-4h2v4z\"/>\n",
              "    </g>\n",
              "</svg>\n",
              "  </button>\n",
              "\n",
              "<style>\n",
              "  .colab-df-quickchart {\n",
              "      --bg-color: #E8F0FE;\n",
              "      --fill-color: #1967D2;\n",
              "      --hover-bg-color: #E2EBFA;\n",
              "      --hover-fill-color: #174EA6;\n",
              "      --disabled-fill-color: #AAA;\n",
              "      --disabled-bg-color: #DDD;\n",
              "  }\n",
              "\n",
              "  [theme=dark] .colab-df-quickchart {\n",
              "      --bg-color: #3B4455;\n",
              "      --fill-color: #D2E3FC;\n",
              "      --hover-bg-color: #434B5C;\n",
              "      --hover-fill-color: #FFFFFF;\n",
              "      --disabled-bg-color: #3B4455;\n",
              "      --disabled-fill-color: #666;\n",
              "  }\n",
              "\n",
              "  .colab-df-quickchart {\n",
              "    background-color: var(--bg-color);\n",
              "    border: none;\n",
              "    border-radius: 50%;\n",
              "    cursor: pointer;\n",
              "    display: none;\n",
              "    fill: var(--fill-color);\n",
              "    height: 32px;\n",
              "    padding: 0;\n",
              "    width: 32px;\n",
              "  }\n",
              "\n",
              "  .colab-df-quickchart:hover {\n",
              "    background-color: var(--hover-bg-color);\n",
              "    box-shadow: 0 1px 2px rgba(60, 64, 67, 0.3), 0 1px 3px 1px rgba(60, 64, 67, 0.15);\n",
              "    fill: var(--button-hover-fill-color);\n",
              "  }\n",
              "\n",
              "  .colab-df-quickchart-complete:disabled,\n",
              "  .colab-df-quickchart-complete:disabled:hover {\n",
              "    background-color: var(--disabled-bg-color);\n",
              "    fill: var(--disabled-fill-color);\n",
              "    box-shadow: none;\n",
              "  }\n",
              "\n",
              "  .colab-df-spinner {\n",
              "    border: 2px solid var(--fill-color);\n",
              "    border-color: transparent;\n",
              "    border-bottom-color: var(--fill-color);\n",
              "    animation:\n",
              "      spin 1s steps(1) infinite;\n",
              "  }\n",
              "\n",
              "  @keyframes spin {\n",
              "    0% {\n",
              "      border-color: transparent;\n",
              "      border-bottom-color: var(--fill-color);\n",
              "      border-left-color: var(--fill-color);\n",
              "    }\n",
              "    20% {\n",
              "      border-color: transparent;\n",
              "      border-left-color: var(--fill-color);\n",
              "      border-top-color: var(--fill-color);\n",
              "    }\n",
              "    30% {\n",
              "      border-color: transparent;\n",
              "      border-left-color: var(--fill-color);\n",
              "      border-top-color: var(--fill-color);\n",
              "      border-right-color: var(--fill-color);\n",
              "    }\n",
              "    40% {\n",
              "      border-color: transparent;\n",
              "      border-right-color: var(--fill-color);\n",
              "      border-top-color: var(--fill-color);\n",
              "    }\n",
              "    60% {\n",
              "      border-color: transparent;\n",
              "      border-right-color: var(--fill-color);\n",
              "    }\n",
              "    80% {\n",
              "      border-color: transparent;\n",
              "      border-right-color: var(--fill-color);\n",
              "      border-bottom-color: var(--fill-color);\n",
              "    }\n",
              "    90% {\n",
              "      border-color: transparent;\n",
              "      border-bottom-color: var(--fill-color);\n",
              "    }\n",
              "  }\n",
              "</style>\n",
              "\n",
              "  <script>\n",
              "    async function quickchart(key) {\n",
              "      const quickchartButtonEl =\n",
              "        document.querySelector('#' + key + ' button');\n",
              "      quickchartButtonEl.disabled = true;  // To prevent multiple clicks.\n",
              "      quickchartButtonEl.classList.add('colab-df-spinner');\n",
              "      try {\n",
              "        const charts = await google.colab.kernel.invokeFunction(\n",
              "            'suggestCharts', [key], {});\n",
              "      } catch (error) {\n",
              "        console.error('Error during call to suggestCharts:', error);\n",
              "      }\n",
              "      quickchartButtonEl.classList.remove('colab-df-spinner');\n",
              "      quickchartButtonEl.classList.add('colab-df-quickchart-complete');\n",
              "    }\n",
              "    (() => {\n",
              "      let quickchartButtonEl =\n",
              "        document.querySelector('#df-f49271ef-08c2-4aa2-b415-917d98adc7a9 button');\n",
              "      quickchartButtonEl.style.display =\n",
              "        google.colab.kernel.accessAllowed ? 'block' : 'none';\n",
              "    })();\n",
              "  </script>\n",
              "</div>\n",
              "    </div>\n",
              "  </div>\n"
            ],
            "application/vnd.google.colaboratory.intrinsic+json": {
              "type": "dataframe",
              "variable_name": "train",
              "summary": "{\n  \"name\": \"train\",\n  \"rows\": 5282,\n  \"fields\": [\n    {\n      \"column\": \"ClientPeriod\",\n      \"properties\": {\n        \"dtype\": \"number\",\n        \"std\": 24,\n        \"min\": 0,\n        \"max\": 72,\n        \"num_unique_values\": 73,\n        \"samples\": [\n          60,\n          63,\n          7\n        ],\n        \"semantic_type\": \"\",\n        \"description\": \"\"\n      }\n    },\n    {\n      \"column\": \"MonthlySpending\",\n      \"properties\": {\n        \"dtype\": \"number\",\n        \"std\": 30.17646447050738,\n        \"min\": 18.25,\n        \"max\": 118.75,\n        \"num_unique_values\": 1468,\n        \"samples\": [\n          34.6,\n          48.75,\n          43.6\n        ],\n        \"semantic_type\": \"\",\n        \"description\": \"\"\n      }\n    },\n    {\n      \"column\": \"TotalSpent\",\n      \"properties\": {\n        \"dtype\": \"string\",\n        \"num_unique_values\": 4978,\n        \"samples\": [\n          \"286.8\",\n          \"5567.55\",\n          \"6017.65\"\n        ],\n        \"semantic_type\": \"\",\n        \"description\": \"\"\n      }\n    },\n    {\n      \"column\": \"Sex\",\n      \"properties\": {\n        \"dtype\": \"category\",\n        \"num_unique_values\": 2,\n        \"samples\": [\n          \"Female\",\n          \"Male\"\n        ],\n        \"semantic_type\": \"\",\n        \"description\": \"\"\n      }\n    },\n    {\n      \"column\": \"IsSeniorCitizen\",\n      \"properties\": {\n        \"dtype\": \"number\",\n        \"std\": 0,\n        \"min\": 0,\n        \"max\": 1,\n        \"num_unique_values\": 2,\n        \"samples\": [\n          1,\n          0\n        ],\n        \"semantic_type\": \"\",\n        \"description\": \"\"\n      }\n    },\n    {\n      \"column\": \"HasPartner\",\n      \"properties\": {\n        \"dtype\": \"category\",\n        \"num_unique_values\": 2,\n        \"samples\": [\n          \"No\",\n          \"Yes\"\n        ],\n        \"semantic_type\": \"\",\n        \"description\": \"\"\n      }\n    },\n    {\n      \"column\": \"HasChild\",\n      \"properties\": {\n        \"dtype\": \"category\",\n        \"num_unique_values\": 2,\n        \"samples\": [\n          \"No\",\n          \"Yes\"\n        ],\n        \"semantic_type\": \"\",\n        \"description\": \"\"\n      }\n    },\n    {\n      \"column\": \"HasPhoneService\",\n      \"properties\": {\n        \"dtype\": \"category\",\n        \"num_unique_values\": 2,\n        \"samples\": [\n          \"No\",\n          \"Yes\"\n        ],\n        \"semantic_type\": \"\",\n        \"description\": \"\"\n      }\n    },\n    {\n      \"column\": \"HasMultiplePhoneNumbers\",\n      \"properties\": {\n        \"dtype\": \"category\",\n        \"num_unique_values\": 3,\n        \"samples\": [\n          \"No\",\n          \"Yes\"\n        ],\n        \"semantic_type\": \"\",\n        \"description\": \"\"\n      }\n    },\n    {\n      \"column\": \"HasInternetService\",\n      \"properties\": {\n        \"dtype\": \"category\",\n        \"num_unique_values\": 3,\n        \"samples\": [\n          \"No\",\n          \"Fiber optic\"\n        ],\n        \"semantic_type\": \"\",\n        \"description\": \"\"\n      }\n    },\n    {\n      \"column\": \"HasOnlineSecurityService\",\n      \"properties\": {\n        \"dtype\": \"category\",\n        \"num_unique_values\": 3,\n        \"samples\": [\n          \"No internet service\",\n          \"No\"\n        ],\n        \"semantic_type\": \"\",\n        \"description\": \"\"\n      }\n    },\n    {\n      \"column\": \"HasOnlineBackup\",\n      \"properties\": {\n        \"dtype\": \"category\",\n        \"num_unique_values\": 3,\n        \"samples\": [\n          \"No internet service\",\n          \"No\"\n        ],\n        \"semantic_type\": \"\",\n        \"description\": \"\"\n      }\n    },\n    {\n      \"column\": \"HasDeviceProtection\",\n      \"properties\": {\n        \"dtype\": \"category\",\n        \"num_unique_values\": 3,\n        \"samples\": [\n          \"No internet service\",\n          \"No\"\n        ],\n        \"semantic_type\": \"\",\n        \"description\": \"\"\n      }\n    },\n    {\n      \"column\": \"HasTechSupportAccess\",\n      \"properties\": {\n        \"dtype\": \"category\",\n        \"num_unique_values\": 3,\n        \"samples\": [\n          \"No internet service\",\n          \"Yes\"\n        ],\n        \"semantic_type\": \"\",\n        \"description\": \"\"\n      }\n    },\n    {\n      \"column\": \"HasOnlineTV\",\n      \"properties\": {\n        \"dtype\": \"category\",\n        \"num_unique_values\": 3,\n        \"samples\": [\n          \"No internet service\",\n          \"No\"\n        ],\n        \"semantic_type\": \"\",\n        \"description\": \"\"\n      }\n    },\n    {\n      \"column\": \"HasMovieSubscription\",\n      \"properties\": {\n        \"dtype\": \"category\",\n        \"num_unique_values\": 3,\n        \"samples\": [\n          \"No internet service\",\n          \"No\"\n        ],\n        \"semantic_type\": \"\",\n        \"description\": \"\"\n      }\n    },\n    {\n      \"column\": \"HasContractPhone\",\n      \"properties\": {\n        \"dtype\": \"category\",\n        \"num_unique_values\": 3,\n        \"samples\": [\n          \"One year\",\n          \"Two year\"\n        ],\n        \"semantic_type\": \"\",\n        \"description\": \"\"\n      }\n    },\n    {\n      \"column\": \"IsBillingPaperless\",\n      \"properties\": {\n        \"dtype\": \"category\",\n        \"num_unique_values\": 2,\n        \"samples\": [\n          \"Yes\",\n          \"No\"\n        ],\n        \"semantic_type\": \"\",\n        \"description\": \"\"\n      }\n    },\n    {\n      \"column\": \"PaymentMethod\",\n      \"properties\": {\n        \"dtype\": \"category\",\n        \"num_unique_values\": 4,\n        \"samples\": [\n          \"Credit card (automatic)\",\n          \"Bank transfer (automatic)\"\n        ],\n        \"semantic_type\": \"\",\n        \"description\": \"\"\n      }\n    },\n    {\n      \"column\": \"Churn\",\n      \"properties\": {\n        \"dtype\": \"number\",\n        \"std\": 0,\n        \"min\": 0,\n        \"max\": 1,\n        \"num_unique_values\": 2,\n        \"samples\": [\n          1,\n          0\n        ],\n        \"semantic_type\": \"\",\n        \"description\": \"\"\n      }\n    }\n  ]\n}"
            }
          },
          "metadata": {},
          "execution_count": 4
        }
      ]
    },
    {
      "cell_type": "code",
      "source": [
        "train.tail(10)"
      ],
      "metadata": {
        "colab": {
          "base_uri": "https://localhost:8080/",
          "height": 504
        },
        "id": "Rl-3iOnGINNw",
        "outputId": "0c6e3121-5498-4795-9a13-612e883cc6cd"
      },
      "execution_count": 5,
      "outputs": [
        {
          "output_type": "execute_result",
          "data": {
            "text/plain": [
              "      ClientPeriod  MonthlySpending TotalSpent     Sex  IsSeniorCitizen  \\\n",
              "5272            36            54.45     1893.5  Female                0   \n",
              "5273            60           104.35    6339.45    Male                1   \n",
              "5274             2            69.75     144.55  Female                0   \n",
              "5275            21            19.95      416.4    Male                0   \n",
              "5276            72            98.20     7015.9  Female                0   \n",
              "5277             3            30.40      82.15    Male                0   \n",
              "5278            50            44.45    2188.45    Male                0   \n",
              "5279             1            55.05      55.05    Male                0   \n",
              "5280            29            76.00    2215.25  Female                0   \n",
              "5281            19            75.90     1375.6  Female                0   \n",
              "\n",
              "     HasPartner HasChild HasPhoneService HasMultiplePhoneNumbers  \\\n",
              "5272         No       No             Yes                     Yes   \n",
              "5273        Yes       No             Yes                     Yes   \n",
              "5274         No       No             Yes                      No   \n",
              "5275         No       No             Yes                      No   \n",
              "5276        Yes       No             Yes                     Yes   \n",
              "5277         No       No              No        No phone service   \n",
              "5278        Yes       No              No        No phone service   \n",
              "5279         No       No             Yes                      No   \n",
              "5280         No       No             Yes                     Yes   \n",
              "5281         No      Yes             Yes                     Yes   \n",
              "\n",
              "     HasInternetService HasOnlineSecurityService      HasOnlineBackup  \\\n",
              "5272                DSL                      Yes                   No   \n",
              "5273        Fiber optic                       No                  Yes   \n",
              "5274        Fiber optic                       No                   No   \n",
              "5275                 No      No internet service  No internet service   \n",
              "5276        Fiber optic                      Yes                   No   \n",
              "5277                DSL                       No                   No   \n",
              "5278                DSL                      Yes                   No   \n",
              "5279                DSL                       No                   No   \n",
              "5280        Fiber optic                       No                   No   \n",
              "5281                DSL                      Yes                  Yes   \n",
              "\n",
              "      HasDeviceProtection HasTechSupportAccess          HasOnlineTV  \\\n",
              "5272                   No                   No                   No   \n",
              "5273                  Yes                   No                  Yes   \n",
              "5274                   No                   No                   No   \n",
              "5275  No internet service  No internet service  No internet service   \n",
              "5276                  Yes                  Yes                  Yes   \n",
              "5277                   No                  Yes                   No   \n",
              "5278                   No                  Yes                  Yes   \n",
              "5279                  Yes                  Yes                   No   \n",
              "5280                   No                   No                   No   \n",
              "5281                   No                  Yes                  Yes   \n",
              "\n",
              "     HasMovieSubscription HasContractPhone IsBillingPaperless  \\\n",
              "5272                   No         One year                 No   \n",
              "5273                  Yes         One year                Yes   \n",
              "5274                   No   Month-to-month                 No   \n",
              "5275  No internet service   Month-to-month                Yes   \n",
              "5276                   No         Two year                Yes   \n",
              "5277                   No   Month-to-month                 No   \n",
              "5278                   No         One year                Yes   \n",
              "5279                   No   Month-to-month                 No   \n",
              "5280                   No   Month-to-month                Yes   \n",
              "5281                   No   Month-to-month                Yes   \n",
              "\n",
              "                  PaymentMethod  Churn  \n",
              "5272               Mailed check      0  \n",
              "5273           Electronic check      0  \n",
              "5274  Bank transfer (automatic)      1  \n",
              "5275               Mailed check      0  \n",
              "5276  Bank transfer (automatic)      0  \n",
              "5277           Electronic check      0  \n",
              "5278  Bank transfer (automatic)      0  \n",
              "5279               Mailed check      0  \n",
              "5280    Credit card (automatic)      0  \n",
              "5281               Mailed check      0  "
            ],
            "text/html": [
              "\n",
              "  <div id=\"df-f3ad22e5-ff57-4e95-bab8-471ce460f0f7\" class=\"colab-df-container\">\n",
              "    <div>\n",
              "<style scoped>\n",
              "    .dataframe tbody tr th:only-of-type {\n",
              "        vertical-align: middle;\n",
              "    }\n",
              "\n",
              "    .dataframe tbody tr th {\n",
              "        vertical-align: top;\n",
              "    }\n",
              "\n",
              "    .dataframe thead th {\n",
              "        text-align: right;\n",
              "    }\n",
              "</style>\n",
              "<table border=\"1\" class=\"dataframe\">\n",
              "  <thead>\n",
              "    <tr style=\"text-align: right;\">\n",
              "      <th></th>\n",
              "      <th>ClientPeriod</th>\n",
              "      <th>MonthlySpending</th>\n",
              "      <th>TotalSpent</th>\n",
              "      <th>Sex</th>\n",
              "      <th>IsSeniorCitizen</th>\n",
              "      <th>HasPartner</th>\n",
              "      <th>HasChild</th>\n",
              "      <th>HasPhoneService</th>\n",
              "      <th>HasMultiplePhoneNumbers</th>\n",
              "      <th>HasInternetService</th>\n",
              "      <th>HasOnlineSecurityService</th>\n",
              "      <th>HasOnlineBackup</th>\n",
              "      <th>HasDeviceProtection</th>\n",
              "      <th>HasTechSupportAccess</th>\n",
              "      <th>HasOnlineTV</th>\n",
              "      <th>HasMovieSubscription</th>\n",
              "      <th>HasContractPhone</th>\n",
              "      <th>IsBillingPaperless</th>\n",
              "      <th>PaymentMethod</th>\n",
              "      <th>Churn</th>\n",
              "    </tr>\n",
              "  </thead>\n",
              "  <tbody>\n",
              "    <tr>\n",
              "      <th>5272</th>\n",
              "      <td>36</td>\n",
              "      <td>54.45</td>\n",
              "      <td>1893.5</td>\n",
              "      <td>Female</td>\n",
              "      <td>0</td>\n",
              "      <td>No</td>\n",
              "      <td>No</td>\n",
              "      <td>Yes</td>\n",
              "      <td>Yes</td>\n",
              "      <td>DSL</td>\n",
              "      <td>Yes</td>\n",
              "      <td>No</td>\n",
              "      <td>No</td>\n",
              "      <td>No</td>\n",
              "      <td>No</td>\n",
              "      <td>No</td>\n",
              "      <td>One year</td>\n",
              "      <td>No</td>\n",
              "      <td>Mailed check</td>\n",
              "      <td>0</td>\n",
              "    </tr>\n",
              "    <tr>\n",
              "      <th>5273</th>\n",
              "      <td>60</td>\n",
              "      <td>104.35</td>\n",
              "      <td>6339.45</td>\n",
              "      <td>Male</td>\n",
              "      <td>1</td>\n",
              "      <td>Yes</td>\n",
              "      <td>No</td>\n",
              "      <td>Yes</td>\n",
              "      <td>Yes</td>\n",
              "      <td>Fiber optic</td>\n",
              "      <td>No</td>\n",
              "      <td>Yes</td>\n",
              "      <td>Yes</td>\n",
              "      <td>No</td>\n",
              "      <td>Yes</td>\n",
              "      <td>Yes</td>\n",
              "      <td>One year</td>\n",
              "      <td>Yes</td>\n",
              "      <td>Electronic check</td>\n",
              "      <td>0</td>\n",
              "    </tr>\n",
              "    <tr>\n",
              "      <th>5274</th>\n",
              "      <td>2</td>\n",
              "      <td>69.75</td>\n",
              "      <td>144.55</td>\n",
              "      <td>Female</td>\n",
              "      <td>0</td>\n",
              "      <td>No</td>\n",
              "      <td>No</td>\n",
              "      <td>Yes</td>\n",
              "      <td>No</td>\n",
              "      <td>Fiber optic</td>\n",
              "      <td>No</td>\n",
              "      <td>No</td>\n",
              "      <td>No</td>\n",
              "      <td>No</td>\n",
              "      <td>No</td>\n",
              "      <td>No</td>\n",
              "      <td>Month-to-month</td>\n",
              "      <td>No</td>\n",
              "      <td>Bank transfer (automatic)</td>\n",
              "      <td>1</td>\n",
              "    </tr>\n",
              "    <tr>\n",
              "      <th>5275</th>\n",
              "      <td>21</td>\n",
              "      <td>19.95</td>\n",
              "      <td>416.4</td>\n",
              "      <td>Male</td>\n",
              "      <td>0</td>\n",
              "      <td>No</td>\n",
              "      <td>No</td>\n",
              "      <td>Yes</td>\n",
              "      <td>No</td>\n",
              "      <td>No</td>\n",
              "      <td>No internet service</td>\n",
              "      <td>No internet service</td>\n",
              "      <td>No internet service</td>\n",
              "      <td>No internet service</td>\n",
              "      <td>No internet service</td>\n",
              "      <td>No internet service</td>\n",
              "      <td>Month-to-month</td>\n",
              "      <td>Yes</td>\n",
              "      <td>Mailed check</td>\n",
              "      <td>0</td>\n",
              "    </tr>\n",
              "    <tr>\n",
              "      <th>5276</th>\n",
              "      <td>72</td>\n",
              "      <td>98.20</td>\n",
              "      <td>7015.9</td>\n",
              "      <td>Female</td>\n",
              "      <td>0</td>\n",
              "      <td>Yes</td>\n",
              "      <td>No</td>\n",
              "      <td>Yes</td>\n",
              "      <td>Yes</td>\n",
              "      <td>Fiber optic</td>\n",
              "      <td>Yes</td>\n",
              "      <td>No</td>\n",
              "      <td>Yes</td>\n",
              "      <td>Yes</td>\n",
              "      <td>Yes</td>\n",
              "      <td>No</td>\n",
              "      <td>Two year</td>\n",
              "      <td>Yes</td>\n",
              "      <td>Bank transfer (automatic)</td>\n",
              "      <td>0</td>\n",
              "    </tr>\n",
              "    <tr>\n",
              "      <th>5277</th>\n",
              "      <td>3</td>\n",
              "      <td>30.40</td>\n",
              "      <td>82.15</td>\n",
              "      <td>Male</td>\n",
              "      <td>0</td>\n",
              "      <td>No</td>\n",
              "      <td>No</td>\n",
              "      <td>No</td>\n",
              "      <td>No phone service</td>\n",
              "      <td>DSL</td>\n",
              "      <td>No</td>\n",
              "      <td>No</td>\n",
              "      <td>No</td>\n",
              "      <td>Yes</td>\n",
              "      <td>No</td>\n",
              "      <td>No</td>\n",
              "      <td>Month-to-month</td>\n",
              "      <td>No</td>\n",
              "      <td>Electronic check</td>\n",
              "      <td>0</td>\n",
              "    </tr>\n",
              "    <tr>\n",
              "      <th>5278</th>\n",
              "      <td>50</td>\n",
              "      <td>44.45</td>\n",
              "      <td>2188.45</td>\n",
              "      <td>Male</td>\n",
              "      <td>0</td>\n",
              "      <td>Yes</td>\n",
              "      <td>No</td>\n",
              "      <td>No</td>\n",
              "      <td>No phone service</td>\n",
              "      <td>DSL</td>\n",
              "      <td>Yes</td>\n",
              "      <td>No</td>\n",
              "      <td>No</td>\n",
              "      <td>Yes</td>\n",
              "      <td>Yes</td>\n",
              "      <td>No</td>\n",
              "      <td>One year</td>\n",
              "      <td>Yes</td>\n",
              "      <td>Bank transfer (automatic)</td>\n",
              "      <td>0</td>\n",
              "    </tr>\n",
              "    <tr>\n",
              "      <th>5279</th>\n",
              "      <td>1</td>\n",
              "      <td>55.05</td>\n",
              "      <td>55.05</td>\n",
              "      <td>Male</td>\n",
              "      <td>0</td>\n",
              "      <td>No</td>\n",
              "      <td>No</td>\n",
              "      <td>Yes</td>\n",
              "      <td>No</td>\n",
              "      <td>DSL</td>\n",
              "      <td>No</td>\n",
              "      <td>No</td>\n",
              "      <td>Yes</td>\n",
              "      <td>Yes</td>\n",
              "      <td>No</td>\n",
              "      <td>No</td>\n",
              "      <td>Month-to-month</td>\n",
              "      <td>No</td>\n",
              "      <td>Mailed check</td>\n",
              "      <td>0</td>\n",
              "    </tr>\n",
              "    <tr>\n",
              "      <th>5280</th>\n",
              "      <td>29</td>\n",
              "      <td>76.00</td>\n",
              "      <td>2215.25</td>\n",
              "      <td>Female</td>\n",
              "      <td>0</td>\n",
              "      <td>No</td>\n",
              "      <td>No</td>\n",
              "      <td>Yes</td>\n",
              "      <td>Yes</td>\n",
              "      <td>Fiber optic</td>\n",
              "      <td>No</td>\n",
              "      <td>No</td>\n",
              "      <td>No</td>\n",
              "      <td>No</td>\n",
              "      <td>No</td>\n",
              "      <td>No</td>\n",
              "      <td>Month-to-month</td>\n",
              "      <td>Yes</td>\n",
              "      <td>Credit card (automatic)</td>\n",
              "      <td>0</td>\n",
              "    </tr>\n",
              "    <tr>\n",
              "      <th>5281</th>\n",
              "      <td>19</td>\n",
              "      <td>75.90</td>\n",
              "      <td>1375.6</td>\n",
              "      <td>Female</td>\n",
              "      <td>0</td>\n",
              "      <td>No</td>\n",
              "      <td>Yes</td>\n",
              "      <td>Yes</td>\n",
              "      <td>Yes</td>\n",
              "      <td>DSL</td>\n",
              "      <td>Yes</td>\n",
              "      <td>Yes</td>\n",
              "      <td>No</td>\n",
              "      <td>Yes</td>\n",
              "      <td>Yes</td>\n",
              "      <td>No</td>\n",
              "      <td>Month-to-month</td>\n",
              "      <td>Yes</td>\n",
              "      <td>Mailed check</td>\n",
              "      <td>0</td>\n",
              "    </tr>\n",
              "  </tbody>\n",
              "</table>\n",
              "</div>\n",
              "    <div class=\"colab-df-buttons\">\n",
              "\n",
              "  <div class=\"colab-df-container\">\n",
              "    <button class=\"colab-df-convert\" onclick=\"convertToInteractive('df-f3ad22e5-ff57-4e95-bab8-471ce460f0f7')\"\n",
              "            title=\"Convert this dataframe to an interactive table.\"\n",
              "            style=\"display:none;\">\n",
              "\n",
              "  <svg xmlns=\"http://www.w3.org/2000/svg\" height=\"24px\" viewBox=\"0 -960 960 960\">\n",
              "    <path d=\"M120-120v-720h720v720H120Zm60-500h600v-160H180v160Zm220 220h160v-160H400v160Zm0 220h160v-160H400v160ZM180-400h160v-160H180v160Zm440 0h160v-160H620v160ZM180-180h160v-160H180v160Zm440 0h160v-160H620v160Z\"/>\n",
              "  </svg>\n",
              "    </button>\n",
              "\n",
              "  <style>\n",
              "    .colab-df-container {\n",
              "      display:flex;\n",
              "      gap: 12px;\n",
              "    }\n",
              "\n",
              "    .colab-df-convert {\n",
              "      background-color: #E8F0FE;\n",
              "      border: none;\n",
              "      border-radius: 50%;\n",
              "      cursor: pointer;\n",
              "      display: none;\n",
              "      fill: #1967D2;\n",
              "      height: 32px;\n",
              "      padding: 0 0 0 0;\n",
              "      width: 32px;\n",
              "    }\n",
              "\n",
              "    .colab-df-convert:hover {\n",
              "      background-color: #E2EBFA;\n",
              "      box-shadow: 0px 1px 2px rgba(60, 64, 67, 0.3), 0px 1px 3px 1px rgba(60, 64, 67, 0.15);\n",
              "      fill: #174EA6;\n",
              "    }\n",
              "\n",
              "    .colab-df-buttons div {\n",
              "      margin-bottom: 4px;\n",
              "    }\n",
              "\n",
              "    [theme=dark] .colab-df-convert {\n",
              "      background-color: #3B4455;\n",
              "      fill: #D2E3FC;\n",
              "    }\n",
              "\n",
              "    [theme=dark] .colab-df-convert:hover {\n",
              "      background-color: #434B5C;\n",
              "      box-shadow: 0px 1px 3px 1px rgba(0, 0, 0, 0.15);\n",
              "      filter: drop-shadow(0px 1px 2px rgba(0, 0, 0, 0.3));\n",
              "      fill: #FFFFFF;\n",
              "    }\n",
              "  </style>\n",
              "\n",
              "    <script>\n",
              "      const buttonEl =\n",
              "        document.querySelector('#df-f3ad22e5-ff57-4e95-bab8-471ce460f0f7 button.colab-df-convert');\n",
              "      buttonEl.style.display =\n",
              "        google.colab.kernel.accessAllowed ? 'block' : 'none';\n",
              "\n",
              "      async function convertToInteractive(key) {\n",
              "        const element = document.querySelector('#df-f3ad22e5-ff57-4e95-bab8-471ce460f0f7');\n",
              "        const dataTable =\n",
              "          await google.colab.kernel.invokeFunction('convertToInteractive',\n",
              "                                                    [key], {});\n",
              "        if (!dataTable) return;\n",
              "\n",
              "        const docLinkHtml = 'Like what you see? Visit the ' +\n",
              "          '<a target=\"_blank\" href=https://colab.research.google.com/notebooks/data_table.ipynb>data table notebook</a>'\n",
              "          + ' to learn more about interactive tables.';\n",
              "        element.innerHTML = '';\n",
              "        dataTable['output_type'] = 'display_data';\n",
              "        await google.colab.output.renderOutput(dataTable, element);\n",
              "        const docLink = document.createElement('div');\n",
              "        docLink.innerHTML = docLinkHtml;\n",
              "        element.appendChild(docLink);\n",
              "      }\n",
              "    </script>\n",
              "  </div>\n",
              "\n",
              "\n",
              "<div id=\"df-80b60353-8ec8-45ce-b504-d5af8c7d7a95\">\n",
              "  <button class=\"colab-df-quickchart\" onclick=\"quickchart('df-80b60353-8ec8-45ce-b504-d5af8c7d7a95')\"\n",
              "            title=\"Suggest charts\"\n",
              "            style=\"display:none;\">\n",
              "\n",
              "<svg xmlns=\"http://www.w3.org/2000/svg\" height=\"24px\"viewBox=\"0 0 24 24\"\n",
              "     width=\"24px\">\n",
              "    <g>\n",
              "        <path d=\"M19 3H5c-1.1 0-2 .9-2 2v14c0 1.1.9 2 2 2h14c1.1 0 2-.9 2-2V5c0-1.1-.9-2-2-2zM9 17H7v-7h2v7zm4 0h-2V7h2v10zm4 0h-2v-4h2v4z\"/>\n",
              "    </g>\n",
              "</svg>\n",
              "  </button>\n",
              "\n",
              "<style>\n",
              "  .colab-df-quickchart {\n",
              "      --bg-color: #E8F0FE;\n",
              "      --fill-color: #1967D2;\n",
              "      --hover-bg-color: #E2EBFA;\n",
              "      --hover-fill-color: #174EA6;\n",
              "      --disabled-fill-color: #AAA;\n",
              "      --disabled-bg-color: #DDD;\n",
              "  }\n",
              "\n",
              "  [theme=dark] .colab-df-quickchart {\n",
              "      --bg-color: #3B4455;\n",
              "      --fill-color: #D2E3FC;\n",
              "      --hover-bg-color: #434B5C;\n",
              "      --hover-fill-color: #FFFFFF;\n",
              "      --disabled-bg-color: #3B4455;\n",
              "      --disabled-fill-color: #666;\n",
              "  }\n",
              "\n",
              "  .colab-df-quickchart {\n",
              "    background-color: var(--bg-color);\n",
              "    border: none;\n",
              "    border-radius: 50%;\n",
              "    cursor: pointer;\n",
              "    display: none;\n",
              "    fill: var(--fill-color);\n",
              "    height: 32px;\n",
              "    padding: 0;\n",
              "    width: 32px;\n",
              "  }\n",
              "\n",
              "  .colab-df-quickchart:hover {\n",
              "    background-color: var(--hover-bg-color);\n",
              "    box-shadow: 0 1px 2px rgba(60, 64, 67, 0.3), 0 1px 3px 1px rgba(60, 64, 67, 0.15);\n",
              "    fill: var(--button-hover-fill-color);\n",
              "  }\n",
              "\n",
              "  .colab-df-quickchart-complete:disabled,\n",
              "  .colab-df-quickchart-complete:disabled:hover {\n",
              "    background-color: var(--disabled-bg-color);\n",
              "    fill: var(--disabled-fill-color);\n",
              "    box-shadow: none;\n",
              "  }\n",
              "\n",
              "  .colab-df-spinner {\n",
              "    border: 2px solid var(--fill-color);\n",
              "    border-color: transparent;\n",
              "    border-bottom-color: var(--fill-color);\n",
              "    animation:\n",
              "      spin 1s steps(1) infinite;\n",
              "  }\n",
              "\n",
              "  @keyframes spin {\n",
              "    0% {\n",
              "      border-color: transparent;\n",
              "      border-bottom-color: var(--fill-color);\n",
              "      border-left-color: var(--fill-color);\n",
              "    }\n",
              "    20% {\n",
              "      border-color: transparent;\n",
              "      border-left-color: var(--fill-color);\n",
              "      border-top-color: var(--fill-color);\n",
              "    }\n",
              "    30% {\n",
              "      border-color: transparent;\n",
              "      border-left-color: var(--fill-color);\n",
              "      border-top-color: var(--fill-color);\n",
              "      border-right-color: var(--fill-color);\n",
              "    }\n",
              "    40% {\n",
              "      border-color: transparent;\n",
              "      border-right-color: var(--fill-color);\n",
              "      border-top-color: var(--fill-color);\n",
              "    }\n",
              "    60% {\n",
              "      border-color: transparent;\n",
              "      border-right-color: var(--fill-color);\n",
              "    }\n",
              "    80% {\n",
              "      border-color: transparent;\n",
              "      border-right-color: var(--fill-color);\n",
              "      border-bottom-color: var(--fill-color);\n",
              "    }\n",
              "    90% {\n",
              "      border-color: transparent;\n",
              "      border-bottom-color: var(--fill-color);\n",
              "    }\n",
              "  }\n",
              "</style>\n",
              "\n",
              "  <script>\n",
              "    async function quickchart(key) {\n",
              "      const quickchartButtonEl =\n",
              "        document.querySelector('#' + key + ' button');\n",
              "      quickchartButtonEl.disabled = true;  // To prevent multiple clicks.\n",
              "      quickchartButtonEl.classList.add('colab-df-spinner');\n",
              "      try {\n",
              "        const charts = await google.colab.kernel.invokeFunction(\n",
              "            'suggestCharts', [key], {});\n",
              "      } catch (error) {\n",
              "        console.error('Error during call to suggestCharts:', error);\n",
              "      }\n",
              "      quickchartButtonEl.classList.remove('colab-df-spinner');\n",
              "      quickchartButtonEl.classList.add('colab-df-quickchart-complete');\n",
              "    }\n",
              "    (() => {\n",
              "      let quickchartButtonEl =\n",
              "        document.querySelector('#df-80b60353-8ec8-45ce-b504-d5af8c7d7a95 button');\n",
              "      quickchartButtonEl.style.display =\n",
              "        google.colab.kernel.accessAllowed ? 'block' : 'none';\n",
              "    })();\n",
              "  </script>\n",
              "</div>\n",
              "    </div>\n",
              "  </div>\n"
            ],
            "application/vnd.google.colaboratory.intrinsic+json": {
              "type": "dataframe",
              "summary": "{\n  \"name\": \"train\",\n  \"rows\": 10,\n  \"fields\": [\n    {\n      \"column\": \"ClientPeriod\",\n      \"properties\": {\n        \"dtype\": \"number\",\n        \"std\": 25,\n        \"min\": 1,\n        \"max\": 72,\n        \"num_unique_values\": 10,\n        \"samples\": [\n          29,\n          60,\n          3\n        ],\n        \"semantic_type\": \"\",\n        \"description\": \"\"\n      }\n    },\n    {\n      \"column\": \"MonthlySpending\",\n      \"properties\": {\n        \"dtype\": \"number\",\n        \"std\": 27.337560648715943,\n        \"min\": 19.95,\n        \"max\": 104.35,\n        \"num_unique_values\": 10,\n        \"samples\": [\n          76.0,\n          104.35,\n          30.4\n        ],\n        \"semantic_type\": \"\",\n        \"description\": \"\"\n      }\n    },\n    {\n      \"column\": \"TotalSpent\",\n      \"properties\": {\n        \"dtype\": \"string\",\n        \"num_unique_values\": 10,\n        \"samples\": [\n          \"2215.25\",\n          \"6339.45\",\n          \"82.15\"\n        ],\n        \"semantic_type\": \"\",\n        \"description\": \"\"\n      }\n    },\n    {\n      \"column\": \"Sex\",\n      \"properties\": {\n        \"dtype\": \"category\",\n        \"num_unique_values\": 2,\n        \"samples\": [\n          \"Male\",\n          \"Female\"\n        ],\n        \"semantic_type\": \"\",\n        \"description\": \"\"\n      }\n    },\n    {\n      \"column\": \"IsSeniorCitizen\",\n      \"properties\": {\n        \"dtype\": \"number\",\n        \"std\": 0,\n        \"min\": 0,\n        \"max\": 1,\n        \"num_unique_values\": 2,\n        \"samples\": [\n          1,\n          0\n        ],\n        \"semantic_type\": \"\",\n        \"description\": \"\"\n      }\n    },\n    {\n      \"column\": \"HasPartner\",\n      \"properties\": {\n        \"dtype\": \"category\",\n        \"num_unique_values\": 2,\n        \"samples\": [\n          \"Yes\",\n          \"No\"\n        ],\n        \"semantic_type\": \"\",\n        \"description\": \"\"\n      }\n    },\n    {\n      \"column\": \"HasChild\",\n      \"properties\": {\n        \"dtype\": \"category\",\n        \"num_unique_values\": 2,\n        \"samples\": [\n          \"Yes\",\n          \"No\"\n        ],\n        \"semantic_type\": \"\",\n        \"description\": \"\"\n      }\n    },\n    {\n      \"column\": \"HasPhoneService\",\n      \"properties\": {\n        \"dtype\": \"category\",\n        \"num_unique_values\": 2,\n        \"samples\": [\n          \"No\",\n          \"Yes\"\n        ],\n        \"semantic_type\": \"\",\n        \"description\": \"\"\n      }\n    },\n    {\n      \"column\": \"HasMultiplePhoneNumbers\",\n      \"properties\": {\n        \"dtype\": \"category\",\n        \"num_unique_values\": 3,\n        \"samples\": [\n          \"Yes\",\n          \"No\"\n        ],\n        \"semantic_type\": \"\",\n        \"description\": \"\"\n      }\n    },\n    {\n      \"column\": \"HasInternetService\",\n      \"properties\": {\n        \"dtype\": \"category\",\n        \"num_unique_values\": 3,\n        \"samples\": [\n          \"DSL\",\n          \"Fiber optic\"\n        ],\n        \"semantic_type\": \"\",\n        \"description\": \"\"\n      }\n    },\n    {\n      \"column\": \"HasOnlineSecurityService\",\n      \"properties\": {\n        \"dtype\": \"category\",\n        \"num_unique_values\": 3,\n        \"samples\": [\n          \"Yes\",\n          \"No\"\n        ],\n        \"semantic_type\": \"\",\n        \"description\": \"\"\n      }\n    },\n    {\n      \"column\": \"HasOnlineBackup\",\n      \"properties\": {\n        \"dtype\": \"category\",\n        \"num_unique_values\": 3,\n        \"samples\": [\n          \"No\",\n          \"Yes\"\n        ],\n        \"semantic_type\": \"\",\n        \"description\": \"\"\n      }\n    },\n    {\n      \"column\": \"HasDeviceProtection\",\n      \"properties\": {\n        \"dtype\": \"category\",\n        \"num_unique_values\": 3,\n        \"samples\": [\n          \"No\",\n          \"Yes\"\n        ],\n        \"semantic_type\": \"\",\n        \"description\": \"\"\n      }\n    },\n    {\n      \"column\": \"HasTechSupportAccess\",\n      \"properties\": {\n        \"dtype\": \"category\",\n        \"num_unique_values\": 3,\n        \"samples\": [\n          \"No\",\n          \"No internet service\"\n        ],\n        \"semantic_type\": \"\",\n        \"description\": \"\"\n      }\n    },\n    {\n      \"column\": \"HasOnlineTV\",\n      \"properties\": {\n        \"dtype\": \"category\",\n        \"num_unique_values\": 3,\n        \"samples\": [\n          \"No\",\n          \"Yes\"\n        ],\n        \"semantic_type\": \"\",\n        \"description\": \"\"\n      }\n    },\n    {\n      \"column\": \"HasMovieSubscription\",\n      \"properties\": {\n        \"dtype\": \"category\",\n        \"num_unique_values\": 3,\n        \"samples\": [\n          \"No\",\n          \"Yes\"\n        ],\n        \"semantic_type\": \"\",\n        \"description\": \"\"\n      }\n    },\n    {\n      \"column\": \"HasContractPhone\",\n      \"properties\": {\n        \"dtype\": \"category\",\n        \"num_unique_values\": 3,\n        \"samples\": [\n          \"One year\",\n          \"Month-to-month\"\n        ],\n        \"semantic_type\": \"\",\n        \"description\": \"\"\n      }\n    },\n    {\n      \"column\": \"IsBillingPaperless\",\n      \"properties\": {\n        \"dtype\": \"category\",\n        \"num_unique_values\": 2,\n        \"samples\": [\n          \"Yes\",\n          \"No\"\n        ],\n        \"semantic_type\": \"\",\n        \"description\": \"\"\n      }\n    },\n    {\n      \"column\": \"PaymentMethod\",\n      \"properties\": {\n        \"dtype\": \"category\",\n        \"num_unique_values\": 4,\n        \"samples\": [\n          \"Electronic check\",\n          \"Credit card (automatic)\"\n        ],\n        \"semantic_type\": \"\",\n        \"description\": \"\"\n      }\n    },\n    {\n      \"column\": \"Churn\",\n      \"properties\": {\n        \"dtype\": \"number\",\n        \"std\": 0,\n        \"min\": 0,\n        \"max\": 1,\n        \"num_unique_values\": 2,\n        \"samples\": [\n          1,\n          0\n        ],\n        \"semantic_type\": \"\",\n        \"description\": \"\"\n      }\n    }\n  ]\n}"
            }
          },
          "metadata": {},
          "execution_count": 5
        }
      ]
    },
    {
      "cell_type": "code",
      "source": [
        "train.sample(10)"
      ],
      "metadata": {
        "colab": {
          "base_uri": "https://localhost:8080/",
          "height": 557
        },
        "id": "8H8sQBpgINQF",
        "outputId": "c9ff8754-9170-4ab5-bb0b-bc674fdd93a0"
      },
      "execution_count": 6,
      "outputs": [
        {
          "output_type": "execute_result",
          "data": {
            "text/plain": [
              "      ClientPeriod  MonthlySpending TotalSpent     Sex  IsSeniorCitizen  \\\n",
              "1144            14            80.90     1152.8  Female                0   \n",
              "206              1            75.35      75.35    Male                0   \n",
              "2971             7            29.80     220.45    Male                1   \n",
              "1362            72           109.75     7758.9    Male                0   \n",
              "3573            63            83.00    5243.05  Female                1   \n",
              "2581            10            72.85     688.65    Male                1   \n",
              "132             15            48.85      736.8  Female                0   \n",
              "2912             5            94.45      498.1    Male                0   \n",
              "2460             2            90.35      190.5  Female                0   \n",
              "3630             1            79.35      79.35  Female                0   \n",
              "\n",
              "     HasPartner HasChild HasPhoneService HasMultiplePhoneNumbers  \\\n",
              "1144        Yes      Yes             Yes                      No   \n",
              "206          No      Yes             Yes                      No   \n",
              "2971        Yes       No              No        No phone service   \n",
              "1362        Yes       No             Yes                     Yes   \n",
              "3573         No       No             Yes                     Yes   \n",
              "2581         No       No             Yes                      No   \n",
              "132          No       No             Yes                      No   \n",
              "2912        Yes       No             Yes                      No   \n",
              "2460        Yes       No             Yes                      No   \n",
              "3630         No      Yes             Yes                      No   \n",
              "\n",
              "     HasInternetService HasOnlineSecurityService HasOnlineBackup  \\\n",
              "1144        Fiber optic                       No              No   \n",
              "206         Fiber optic                       No             Yes   \n",
              "2971                DSL                      Yes              No   \n",
              "1362        Fiber optic                       No             Yes   \n",
              "3573                DSL                      Yes             Yes   \n",
              "2581        Fiber optic                       No             Yes   \n",
              "132                 DSL                       No             Yes   \n",
              "2912        Fiber optic                       No              No   \n",
              "2460        Fiber optic                      Yes             Yes   \n",
              "3630        Fiber optic                       No              No   \n",
              "\n",
              "     HasDeviceProtection HasTechSupportAccess HasOnlineTV  \\\n",
              "1144                  No                   No          No   \n",
              "206                   No                   No          No   \n",
              "2971                  No                   No          No   \n",
              "1362                 Yes                  Yes         Yes   \n",
              "3573                 Yes                  Yes         Yes   \n",
              "2581                  No                   No          No   \n",
              "132                   No                   No          No   \n",
              "2912                 Yes                   No         Yes   \n",
              "2460                  No                   No         Yes   \n",
              "3630                  No                   No         Yes   \n",
              "\n",
              "     HasMovieSubscription HasContractPhone IsBillingPaperless  \\\n",
              "1144                  Yes   Month-to-month                Yes   \n",
              "206                    No   Month-to-month                Yes   \n",
              "2971                   No   Month-to-month                 No   \n",
              "1362                  Yes         Two year                Yes   \n",
              "3573                   No         One year                 No   \n",
              "2581                   No   Month-to-month                Yes   \n",
              "132                    No   Month-to-month                 No   \n",
              "2912                  Yes   Month-to-month                Yes   \n",
              "2460                   No   Month-to-month                 No   \n",
              "3630                   No   Month-to-month                Yes   \n",
              "\n",
              "                  PaymentMethod  Churn  \n",
              "1144  Bank transfer (automatic)      0  \n",
              "206            Electronic check      1  \n",
              "2971  Bank transfer (automatic)      0  \n",
              "1362    Credit card (automatic)      0  \n",
              "3573  Bank transfer (automatic)      0  \n",
              "2581           Electronic check      1  \n",
              "132            Electronic check      0  \n",
              "2912           Electronic check      1  \n",
              "2460           Electronic check      0  \n",
              "3630           Electronic check      1  "
            ],
            "text/html": [
              "\n",
              "  <div id=\"df-3775475a-c999-4923-ae42-31f7d0132a37\" class=\"colab-df-container\">\n",
              "    <div>\n",
              "<style scoped>\n",
              "    .dataframe tbody tr th:only-of-type {\n",
              "        vertical-align: middle;\n",
              "    }\n",
              "\n",
              "    .dataframe tbody tr th {\n",
              "        vertical-align: top;\n",
              "    }\n",
              "\n",
              "    .dataframe thead th {\n",
              "        text-align: right;\n",
              "    }\n",
              "</style>\n",
              "<table border=\"1\" class=\"dataframe\">\n",
              "  <thead>\n",
              "    <tr style=\"text-align: right;\">\n",
              "      <th></th>\n",
              "      <th>ClientPeriod</th>\n",
              "      <th>MonthlySpending</th>\n",
              "      <th>TotalSpent</th>\n",
              "      <th>Sex</th>\n",
              "      <th>IsSeniorCitizen</th>\n",
              "      <th>HasPartner</th>\n",
              "      <th>HasChild</th>\n",
              "      <th>HasPhoneService</th>\n",
              "      <th>HasMultiplePhoneNumbers</th>\n",
              "      <th>HasInternetService</th>\n",
              "      <th>HasOnlineSecurityService</th>\n",
              "      <th>HasOnlineBackup</th>\n",
              "      <th>HasDeviceProtection</th>\n",
              "      <th>HasTechSupportAccess</th>\n",
              "      <th>HasOnlineTV</th>\n",
              "      <th>HasMovieSubscription</th>\n",
              "      <th>HasContractPhone</th>\n",
              "      <th>IsBillingPaperless</th>\n",
              "      <th>PaymentMethod</th>\n",
              "      <th>Churn</th>\n",
              "    </tr>\n",
              "  </thead>\n",
              "  <tbody>\n",
              "    <tr>\n",
              "      <th>1144</th>\n",
              "      <td>14</td>\n",
              "      <td>80.90</td>\n",
              "      <td>1152.8</td>\n",
              "      <td>Female</td>\n",
              "      <td>0</td>\n",
              "      <td>Yes</td>\n",
              "      <td>Yes</td>\n",
              "      <td>Yes</td>\n",
              "      <td>No</td>\n",
              "      <td>Fiber optic</td>\n",
              "      <td>No</td>\n",
              "      <td>No</td>\n",
              "      <td>No</td>\n",
              "      <td>No</td>\n",
              "      <td>No</td>\n",
              "      <td>Yes</td>\n",
              "      <td>Month-to-month</td>\n",
              "      <td>Yes</td>\n",
              "      <td>Bank transfer (automatic)</td>\n",
              "      <td>0</td>\n",
              "    </tr>\n",
              "    <tr>\n",
              "      <th>206</th>\n",
              "      <td>1</td>\n",
              "      <td>75.35</td>\n",
              "      <td>75.35</td>\n",
              "      <td>Male</td>\n",
              "      <td>0</td>\n",
              "      <td>No</td>\n",
              "      <td>Yes</td>\n",
              "      <td>Yes</td>\n",
              "      <td>No</td>\n",
              "      <td>Fiber optic</td>\n",
              "      <td>No</td>\n",
              "      <td>Yes</td>\n",
              "      <td>No</td>\n",
              "      <td>No</td>\n",
              "      <td>No</td>\n",
              "      <td>No</td>\n",
              "      <td>Month-to-month</td>\n",
              "      <td>Yes</td>\n",
              "      <td>Electronic check</td>\n",
              "      <td>1</td>\n",
              "    </tr>\n",
              "    <tr>\n",
              "      <th>2971</th>\n",
              "      <td>7</td>\n",
              "      <td>29.80</td>\n",
              "      <td>220.45</td>\n",
              "      <td>Male</td>\n",
              "      <td>1</td>\n",
              "      <td>Yes</td>\n",
              "      <td>No</td>\n",
              "      <td>No</td>\n",
              "      <td>No phone service</td>\n",
              "      <td>DSL</td>\n",
              "      <td>Yes</td>\n",
              "      <td>No</td>\n",
              "      <td>No</td>\n",
              "      <td>No</td>\n",
              "      <td>No</td>\n",
              "      <td>No</td>\n",
              "      <td>Month-to-month</td>\n",
              "      <td>No</td>\n",
              "      <td>Bank transfer (automatic)</td>\n",
              "      <td>0</td>\n",
              "    </tr>\n",
              "    <tr>\n",
              "      <th>1362</th>\n",
              "      <td>72</td>\n",
              "      <td>109.75</td>\n",
              "      <td>7758.9</td>\n",
              "      <td>Male</td>\n",
              "      <td>0</td>\n",
              "      <td>Yes</td>\n",
              "      <td>No</td>\n",
              "      <td>Yes</td>\n",
              "      <td>Yes</td>\n",
              "      <td>Fiber optic</td>\n",
              "      <td>No</td>\n",
              "      <td>Yes</td>\n",
              "      <td>Yes</td>\n",
              "      <td>Yes</td>\n",
              "      <td>Yes</td>\n",
              "      <td>Yes</td>\n",
              "      <td>Two year</td>\n",
              "      <td>Yes</td>\n",
              "      <td>Credit card (automatic)</td>\n",
              "      <td>0</td>\n",
              "    </tr>\n",
              "    <tr>\n",
              "      <th>3573</th>\n",
              "      <td>63</td>\n",
              "      <td>83.00</td>\n",
              "      <td>5243.05</td>\n",
              "      <td>Female</td>\n",
              "      <td>1</td>\n",
              "      <td>No</td>\n",
              "      <td>No</td>\n",
              "      <td>Yes</td>\n",
              "      <td>Yes</td>\n",
              "      <td>DSL</td>\n",
              "      <td>Yes</td>\n",
              "      <td>Yes</td>\n",
              "      <td>Yes</td>\n",
              "      <td>Yes</td>\n",
              "      <td>Yes</td>\n",
              "      <td>No</td>\n",
              "      <td>One year</td>\n",
              "      <td>No</td>\n",
              "      <td>Bank transfer (automatic)</td>\n",
              "      <td>0</td>\n",
              "    </tr>\n",
              "    <tr>\n",
              "      <th>2581</th>\n",
              "      <td>10</td>\n",
              "      <td>72.85</td>\n",
              "      <td>688.65</td>\n",
              "      <td>Male</td>\n",
              "      <td>1</td>\n",
              "      <td>No</td>\n",
              "      <td>No</td>\n",
              "      <td>Yes</td>\n",
              "      <td>No</td>\n",
              "      <td>Fiber optic</td>\n",
              "      <td>No</td>\n",
              "      <td>Yes</td>\n",
              "      <td>No</td>\n",
              "      <td>No</td>\n",
              "      <td>No</td>\n",
              "      <td>No</td>\n",
              "      <td>Month-to-month</td>\n",
              "      <td>Yes</td>\n",
              "      <td>Electronic check</td>\n",
              "      <td>1</td>\n",
              "    </tr>\n",
              "    <tr>\n",
              "      <th>132</th>\n",
              "      <td>15</td>\n",
              "      <td>48.85</td>\n",
              "      <td>736.8</td>\n",
              "      <td>Female</td>\n",
              "      <td>0</td>\n",
              "      <td>No</td>\n",
              "      <td>No</td>\n",
              "      <td>Yes</td>\n",
              "      <td>No</td>\n",
              "      <td>DSL</td>\n",
              "      <td>No</td>\n",
              "      <td>Yes</td>\n",
              "      <td>No</td>\n",
              "      <td>No</td>\n",
              "      <td>No</td>\n",
              "      <td>No</td>\n",
              "      <td>Month-to-month</td>\n",
              "      <td>No</td>\n",
              "      <td>Electronic check</td>\n",
              "      <td>0</td>\n",
              "    </tr>\n",
              "    <tr>\n",
              "      <th>2912</th>\n",
              "      <td>5</td>\n",
              "      <td>94.45</td>\n",
              "      <td>498.1</td>\n",
              "      <td>Male</td>\n",
              "      <td>0</td>\n",
              "      <td>Yes</td>\n",
              "      <td>No</td>\n",
              "      <td>Yes</td>\n",
              "      <td>No</td>\n",
              "      <td>Fiber optic</td>\n",
              "      <td>No</td>\n",
              "      <td>No</td>\n",
              "      <td>Yes</td>\n",
              "      <td>No</td>\n",
              "      <td>Yes</td>\n",
              "      <td>Yes</td>\n",
              "      <td>Month-to-month</td>\n",
              "      <td>Yes</td>\n",
              "      <td>Electronic check</td>\n",
              "      <td>1</td>\n",
              "    </tr>\n",
              "    <tr>\n",
              "      <th>2460</th>\n",
              "      <td>2</td>\n",
              "      <td>90.35</td>\n",
              "      <td>190.5</td>\n",
              "      <td>Female</td>\n",
              "      <td>0</td>\n",
              "      <td>Yes</td>\n",
              "      <td>No</td>\n",
              "      <td>Yes</td>\n",
              "      <td>No</td>\n",
              "      <td>Fiber optic</td>\n",
              "      <td>Yes</td>\n",
              "      <td>Yes</td>\n",
              "      <td>No</td>\n",
              "      <td>No</td>\n",
              "      <td>Yes</td>\n",
              "      <td>No</td>\n",
              "      <td>Month-to-month</td>\n",
              "      <td>No</td>\n",
              "      <td>Electronic check</td>\n",
              "      <td>0</td>\n",
              "    </tr>\n",
              "    <tr>\n",
              "      <th>3630</th>\n",
              "      <td>1</td>\n",
              "      <td>79.35</td>\n",
              "      <td>79.35</td>\n",
              "      <td>Female</td>\n",
              "      <td>0</td>\n",
              "      <td>No</td>\n",
              "      <td>Yes</td>\n",
              "      <td>Yes</td>\n",
              "      <td>No</td>\n",
              "      <td>Fiber optic</td>\n",
              "      <td>No</td>\n",
              "      <td>No</td>\n",
              "      <td>No</td>\n",
              "      <td>No</td>\n",
              "      <td>Yes</td>\n",
              "      <td>No</td>\n",
              "      <td>Month-to-month</td>\n",
              "      <td>Yes</td>\n",
              "      <td>Electronic check</td>\n",
              "      <td>1</td>\n",
              "    </tr>\n",
              "  </tbody>\n",
              "</table>\n",
              "</div>\n",
              "    <div class=\"colab-df-buttons\">\n",
              "\n",
              "  <div class=\"colab-df-container\">\n",
              "    <button class=\"colab-df-convert\" onclick=\"convertToInteractive('df-3775475a-c999-4923-ae42-31f7d0132a37')\"\n",
              "            title=\"Convert this dataframe to an interactive table.\"\n",
              "            style=\"display:none;\">\n",
              "\n",
              "  <svg xmlns=\"http://www.w3.org/2000/svg\" height=\"24px\" viewBox=\"0 -960 960 960\">\n",
              "    <path d=\"M120-120v-720h720v720H120Zm60-500h600v-160H180v160Zm220 220h160v-160H400v160Zm0 220h160v-160H400v160ZM180-400h160v-160H180v160Zm440 0h160v-160H620v160ZM180-180h160v-160H180v160Zm440 0h160v-160H620v160Z\"/>\n",
              "  </svg>\n",
              "    </button>\n",
              "\n",
              "  <style>\n",
              "    .colab-df-container {\n",
              "      display:flex;\n",
              "      gap: 12px;\n",
              "    }\n",
              "\n",
              "    .colab-df-convert {\n",
              "      background-color: #E8F0FE;\n",
              "      border: none;\n",
              "      border-radius: 50%;\n",
              "      cursor: pointer;\n",
              "      display: none;\n",
              "      fill: #1967D2;\n",
              "      height: 32px;\n",
              "      padding: 0 0 0 0;\n",
              "      width: 32px;\n",
              "    }\n",
              "\n",
              "    .colab-df-convert:hover {\n",
              "      background-color: #E2EBFA;\n",
              "      box-shadow: 0px 1px 2px rgba(60, 64, 67, 0.3), 0px 1px 3px 1px rgba(60, 64, 67, 0.15);\n",
              "      fill: #174EA6;\n",
              "    }\n",
              "\n",
              "    .colab-df-buttons div {\n",
              "      margin-bottom: 4px;\n",
              "    }\n",
              "\n",
              "    [theme=dark] .colab-df-convert {\n",
              "      background-color: #3B4455;\n",
              "      fill: #D2E3FC;\n",
              "    }\n",
              "\n",
              "    [theme=dark] .colab-df-convert:hover {\n",
              "      background-color: #434B5C;\n",
              "      box-shadow: 0px 1px 3px 1px rgba(0, 0, 0, 0.15);\n",
              "      filter: drop-shadow(0px 1px 2px rgba(0, 0, 0, 0.3));\n",
              "      fill: #FFFFFF;\n",
              "    }\n",
              "  </style>\n",
              "\n",
              "    <script>\n",
              "      const buttonEl =\n",
              "        document.querySelector('#df-3775475a-c999-4923-ae42-31f7d0132a37 button.colab-df-convert');\n",
              "      buttonEl.style.display =\n",
              "        google.colab.kernel.accessAllowed ? 'block' : 'none';\n",
              "\n",
              "      async function convertToInteractive(key) {\n",
              "        const element = document.querySelector('#df-3775475a-c999-4923-ae42-31f7d0132a37');\n",
              "        const dataTable =\n",
              "          await google.colab.kernel.invokeFunction('convertToInteractive',\n",
              "                                                    [key], {});\n",
              "        if (!dataTable) return;\n",
              "\n",
              "        const docLinkHtml = 'Like what you see? Visit the ' +\n",
              "          '<a target=\"_blank\" href=https://colab.research.google.com/notebooks/data_table.ipynb>data table notebook</a>'\n",
              "          + ' to learn more about interactive tables.';\n",
              "        element.innerHTML = '';\n",
              "        dataTable['output_type'] = 'display_data';\n",
              "        await google.colab.output.renderOutput(dataTable, element);\n",
              "        const docLink = document.createElement('div');\n",
              "        docLink.innerHTML = docLinkHtml;\n",
              "        element.appendChild(docLink);\n",
              "      }\n",
              "    </script>\n",
              "  </div>\n",
              "\n",
              "\n",
              "<div id=\"df-a952af8e-b9d5-4993-9da1-84ee2a0ba464\">\n",
              "  <button class=\"colab-df-quickchart\" onclick=\"quickchart('df-a952af8e-b9d5-4993-9da1-84ee2a0ba464')\"\n",
              "            title=\"Suggest charts\"\n",
              "            style=\"display:none;\">\n",
              "\n",
              "<svg xmlns=\"http://www.w3.org/2000/svg\" height=\"24px\"viewBox=\"0 0 24 24\"\n",
              "     width=\"24px\">\n",
              "    <g>\n",
              "        <path d=\"M19 3H5c-1.1 0-2 .9-2 2v14c0 1.1.9 2 2 2h14c1.1 0 2-.9 2-2V5c0-1.1-.9-2-2-2zM9 17H7v-7h2v7zm4 0h-2V7h2v10zm4 0h-2v-4h2v4z\"/>\n",
              "    </g>\n",
              "</svg>\n",
              "  </button>\n",
              "\n",
              "<style>\n",
              "  .colab-df-quickchart {\n",
              "      --bg-color: #E8F0FE;\n",
              "      --fill-color: #1967D2;\n",
              "      --hover-bg-color: #E2EBFA;\n",
              "      --hover-fill-color: #174EA6;\n",
              "      --disabled-fill-color: #AAA;\n",
              "      --disabled-bg-color: #DDD;\n",
              "  }\n",
              "\n",
              "  [theme=dark] .colab-df-quickchart {\n",
              "      --bg-color: #3B4455;\n",
              "      --fill-color: #D2E3FC;\n",
              "      --hover-bg-color: #434B5C;\n",
              "      --hover-fill-color: #FFFFFF;\n",
              "      --disabled-bg-color: #3B4455;\n",
              "      --disabled-fill-color: #666;\n",
              "  }\n",
              "\n",
              "  .colab-df-quickchart {\n",
              "    background-color: var(--bg-color);\n",
              "    border: none;\n",
              "    border-radius: 50%;\n",
              "    cursor: pointer;\n",
              "    display: none;\n",
              "    fill: var(--fill-color);\n",
              "    height: 32px;\n",
              "    padding: 0;\n",
              "    width: 32px;\n",
              "  }\n",
              "\n",
              "  .colab-df-quickchart:hover {\n",
              "    background-color: var(--hover-bg-color);\n",
              "    box-shadow: 0 1px 2px rgba(60, 64, 67, 0.3), 0 1px 3px 1px rgba(60, 64, 67, 0.15);\n",
              "    fill: var(--button-hover-fill-color);\n",
              "  }\n",
              "\n",
              "  .colab-df-quickchart-complete:disabled,\n",
              "  .colab-df-quickchart-complete:disabled:hover {\n",
              "    background-color: var(--disabled-bg-color);\n",
              "    fill: var(--disabled-fill-color);\n",
              "    box-shadow: none;\n",
              "  }\n",
              "\n",
              "  .colab-df-spinner {\n",
              "    border: 2px solid var(--fill-color);\n",
              "    border-color: transparent;\n",
              "    border-bottom-color: var(--fill-color);\n",
              "    animation:\n",
              "      spin 1s steps(1) infinite;\n",
              "  }\n",
              "\n",
              "  @keyframes spin {\n",
              "    0% {\n",
              "      border-color: transparent;\n",
              "      border-bottom-color: var(--fill-color);\n",
              "      border-left-color: var(--fill-color);\n",
              "    }\n",
              "    20% {\n",
              "      border-color: transparent;\n",
              "      border-left-color: var(--fill-color);\n",
              "      border-top-color: var(--fill-color);\n",
              "    }\n",
              "    30% {\n",
              "      border-color: transparent;\n",
              "      border-left-color: var(--fill-color);\n",
              "      border-top-color: var(--fill-color);\n",
              "      border-right-color: var(--fill-color);\n",
              "    }\n",
              "    40% {\n",
              "      border-color: transparent;\n",
              "      border-right-color: var(--fill-color);\n",
              "      border-top-color: var(--fill-color);\n",
              "    }\n",
              "    60% {\n",
              "      border-color: transparent;\n",
              "      border-right-color: var(--fill-color);\n",
              "    }\n",
              "    80% {\n",
              "      border-color: transparent;\n",
              "      border-right-color: var(--fill-color);\n",
              "      border-bottom-color: var(--fill-color);\n",
              "    }\n",
              "    90% {\n",
              "      border-color: transparent;\n",
              "      border-bottom-color: var(--fill-color);\n",
              "    }\n",
              "  }\n",
              "</style>\n",
              "\n",
              "  <script>\n",
              "    async function quickchart(key) {\n",
              "      const quickchartButtonEl =\n",
              "        document.querySelector('#' + key + ' button');\n",
              "      quickchartButtonEl.disabled = true;  // To prevent multiple clicks.\n",
              "      quickchartButtonEl.classList.add('colab-df-spinner');\n",
              "      try {\n",
              "        const charts = await google.colab.kernel.invokeFunction(\n",
              "            'suggestCharts', [key], {});\n",
              "      } catch (error) {\n",
              "        console.error('Error during call to suggestCharts:', error);\n",
              "      }\n",
              "      quickchartButtonEl.classList.remove('colab-df-spinner');\n",
              "      quickchartButtonEl.classList.add('colab-df-quickchart-complete');\n",
              "    }\n",
              "    (() => {\n",
              "      let quickchartButtonEl =\n",
              "        document.querySelector('#df-a952af8e-b9d5-4993-9da1-84ee2a0ba464 button');\n",
              "      quickchartButtonEl.style.display =\n",
              "        google.colab.kernel.accessAllowed ? 'block' : 'none';\n",
              "    })();\n",
              "  </script>\n",
              "</div>\n",
              "    </div>\n",
              "  </div>\n"
            ],
            "application/vnd.google.colaboratory.intrinsic+json": {
              "type": "dataframe",
              "summary": "{\n  \"name\": \"train\",\n  \"rows\": 10,\n  \"fields\": [\n    {\n      \"column\": \"ClientPeriod\",\n      \"properties\": {\n        \"dtype\": \"number\",\n        \"std\": 26,\n        \"min\": 1,\n        \"max\": 72,\n        \"num_unique_values\": 9,\n        \"samples\": [\n          5,\n          1,\n          10\n        ],\n        \"semantic_type\": \"\",\n        \"description\": \"\"\n      }\n    },\n    {\n      \"column\": \"MonthlySpending\",\n      \"properties\": {\n        \"dtype\": \"number\",\n        \"std\": 22.72875137109139,\n        \"min\": 29.8,\n        \"max\": 109.75,\n        \"num_unique_values\": 10,\n        \"samples\": [\n          90.35,\n          75.35,\n          72.85\n        ],\n        \"semantic_type\": \"\",\n        \"description\": \"\"\n      }\n    },\n    {\n      \"column\": \"TotalSpent\",\n      \"properties\": {\n        \"dtype\": \"string\",\n        \"num_unique_values\": 10,\n        \"samples\": [\n          \"190.5\",\n          \"75.35\",\n          \"688.65\"\n        ],\n        \"semantic_type\": \"\",\n        \"description\": \"\"\n      }\n    },\n    {\n      \"column\": \"Sex\",\n      \"properties\": {\n        \"dtype\": \"category\",\n        \"num_unique_values\": 2,\n        \"samples\": [\n          \"Male\",\n          \"Female\"\n        ],\n        \"semantic_type\": \"\",\n        \"description\": \"\"\n      }\n    },\n    {\n      \"column\": \"IsSeniorCitizen\",\n      \"properties\": {\n        \"dtype\": \"number\",\n        \"std\": 0,\n        \"min\": 0,\n        \"max\": 1,\n        \"num_unique_values\": 2,\n        \"samples\": [\n          1,\n          0\n        ],\n        \"semantic_type\": \"\",\n        \"description\": \"\"\n      }\n    },\n    {\n      \"column\": \"HasPartner\",\n      \"properties\": {\n        \"dtype\": \"category\",\n        \"num_unique_values\": 2,\n        \"samples\": [\n          \"No\",\n          \"Yes\"\n        ],\n        \"semantic_type\": \"\",\n        \"description\": \"\"\n      }\n    },\n    {\n      \"column\": \"HasChild\",\n      \"properties\": {\n        \"dtype\": \"category\",\n        \"num_unique_values\": 2,\n        \"samples\": [\n          \"No\",\n          \"Yes\"\n        ],\n        \"semantic_type\": \"\",\n        \"description\": \"\"\n      }\n    },\n    {\n      \"column\": \"HasPhoneService\",\n      \"properties\": {\n        \"dtype\": \"category\",\n        \"num_unique_values\": 2,\n        \"samples\": [\n          \"No\",\n          \"Yes\"\n        ],\n        \"semantic_type\": \"\",\n        \"description\": \"\"\n      }\n    },\n    {\n      \"column\": \"HasMultiplePhoneNumbers\",\n      \"properties\": {\n        \"dtype\": \"category\",\n        \"num_unique_values\": 3,\n        \"samples\": [\n          \"No\",\n          \"No phone service\"\n        ],\n        \"semantic_type\": \"\",\n        \"description\": \"\"\n      }\n    },\n    {\n      \"column\": \"HasInternetService\",\n      \"properties\": {\n        \"dtype\": \"category\",\n        \"num_unique_values\": 2,\n        \"samples\": [\n          \"DSL\",\n          \"Fiber optic\"\n        ],\n        \"semantic_type\": \"\",\n        \"description\": \"\"\n      }\n    },\n    {\n      \"column\": \"HasOnlineSecurityService\",\n      \"properties\": {\n        \"dtype\": \"category\",\n        \"num_unique_values\": 2,\n        \"samples\": [\n          \"Yes\",\n          \"No\"\n        ],\n        \"semantic_type\": \"\",\n        \"description\": \"\"\n      }\n    },\n    {\n      \"column\": \"HasOnlineBackup\",\n      \"properties\": {\n        \"dtype\": \"category\",\n        \"num_unique_values\": 2,\n        \"samples\": [\n          \"Yes\",\n          \"No\"\n        ],\n        \"semantic_type\": \"\",\n        \"description\": \"\"\n      }\n    },\n    {\n      \"column\": \"HasDeviceProtection\",\n      \"properties\": {\n        \"dtype\": \"category\",\n        \"num_unique_values\": 2,\n        \"samples\": [\n          \"Yes\",\n          \"No\"\n        ],\n        \"semantic_type\": \"\",\n        \"description\": \"\"\n      }\n    },\n    {\n      \"column\": \"HasTechSupportAccess\",\n      \"properties\": {\n        \"dtype\": \"category\",\n        \"num_unique_values\": 2,\n        \"samples\": [\n          \"Yes\",\n          \"No\"\n        ],\n        \"semantic_type\": \"\",\n        \"description\": \"\"\n      }\n    },\n    {\n      \"column\": \"HasOnlineTV\",\n      \"properties\": {\n        \"dtype\": \"category\",\n        \"num_unique_values\": 2,\n        \"samples\": [\n          \"Yes\",\n          \"No\"\n        ],\n        \"semantic_type\": \"\",\n        \"description\": \"\"\n      }\n    },\n    {\n      \"column\": \"HasMovieSubscription\",\n      \"properties\": {\n        \"dtype\": \"category\",\n        \"num_unique_values\": 2,\n        \"samples\": [\n          \"No\",\n          \"Yes\"\n        ],\n        \"semantic_type\": \"\",\n        \"description\": \"\"\n      }\n    },\n    {\n      \"column\": \"HasContractPhone\",\n      \"properties\": {\n        \"dtype\": \"category\",\n        \"num_unique_values\": 3,\n        \"samples\": [\n          \"Month-to-month\",\n          \"Two year\"\n        ],\n        \"semantic_type\": \"\",\n        \"description\": \"\"\n      }\n    },\n    {\n      \"column\": \"IsBillingPaperless\",\n      \"properties\": {\n        \"dtype\": \"category\",\n        \"num_unique_values\": 2,\n        \"samples\": [\n          \"No\",\n          \"Yes\"\n        ],\n        \"semantic_type\": \"\",\n        \"description\": \"\"\n      }\n    },\n    {\n      \"column\": \"PaymentMethod\",\n      \"properties\": {\n        \"dtype\": \"category\",\n        \"num_unique_values\": 3,\n        \"samples\": [\n          \"Bank transfer (automatic)\",\n          \"Electronic check\"\n        ],\n        \"semantic_type\": \"\",\n        \"description\": \"\"\n      }\n    },\n    {\n      \"column\": \"Churn\",\n      \"properties\": {\n        \"dtype\": \"number\",\n        \"std\": 0,\n        \"min\": 0,\n        \"max\": 1,\n        \"num_unique_values\": 2,\n        \"samples\": [\n          1,\n          0\n        ],\n        \"semantic_type\": \"\",\n        \"description\": \"\"\n      }\n    }\n  ]\n}"
            }
          },
          "metadata": {},
          "execution_count": 6
        }
      ]
    },
    {
      "cell_type": "code",
      "source": [
        "# Смотрим на Nan'ы в данных\n",
        "train.isna().sum()"
      ],
      "metadata": {
        "colab": {
          "base_uri": "https://localhost:8080/",
          "height": 711
        },
        "id": "U0gQX1JZINSJ",
        "outputId": "1c69f081-d96a-4577-e0f9-cc1c71d168e1"
      },
      "execution_count": 7,
      "outputs": [
        {
          "output_type": "execute_result",
          "data": {
            "text/plain": [
              "ClientPeriod                0\n",
              "MonthlySpending             0\n",
              "TotalSpent                  0\n",
              "Sex                         0\n",
              "IsSeniorCitizen             0\n",
              "HasPartner                  0\n",
              "HasChild                    0\n",
              "HasPhoneService             0\n",
              "HasMultiplePhoneNumbers     0\n",
              "HasInternetService          0\n",
              "HasOnlineSecurityService    0\n",
              "HasOnlineBackup             0\n",
              "HasDeviceProtection         0\n",
              "HasTechSupportAccess        0\n",
              "HasOnlineTV                 0\n",
              "HasMovieSubscription        0\n",
              "HasContractPhone            0\n",
              "IsBillingPaperless          0\n",
              "PaymentMethod               0\n",
              "Churn                       0\n",
              "dtype: int64"
            ],
            "text/html": [
              "<div>\n",
              "<style scoped>\n",
              "    .dataframe tbody tr th:only-of-type {\n",
              "        vertical-align: middle;\n",
              "    }\n",
              "\n",
              "    .dataframe tbody tr th {\n",
              "        vertical-align: top;\n",
              "    }\n",
              "\n",
              "    .dataframe thead th {\n",
              "        text-align: right;\n",
              "    }\n",
              "</style>\n",
              "<table border=\"1\" class=\"dataframe\">\n",
              "  <thead>\n",
              "    <tr style=\"text-align: right;\">\n",
              "      <th></th>\n",
              "      <th>0</th>\n",
              "    </tr>\n",
              "  </thead>\n",
              "  <tbody>\n",
              "    <tr>\n",
              "      <th>ClientPeriod</th>\n",
              "      <td>0</td>\n",
              "    </tr>\n",
              "    <tr>\n",
              "      <th>MonthlySpending</th>\n",
              "      <td>0</td>\n",
              "    </tr>\n",
              "    <tr>\n",
              "      <th>TotalSpent</th>\n",
              "      <td>0</td>\n",
              "    </tr>\n",
              "    <tr>\n",
              "      <th>Sex</th>\n",
              "      <td>0</td>\n",
              "    </tr>\n",
              "    <tr>\n",
              "      <th>IsSeniorCitizen</th>\n",
              "      <td>0</td>\n",
              "    </tr>\n",
              "    <tr>\n",
              "      <th>HasPartner</th>\n",
              "      <td>0</td>\n",
              "    </tr>\n",
              "    <tr>\n",
              "      <th>HasChild</th>\n",
              "      <td>0</td>\n",
              "    </tr>\n",
              "    <tr>\n",
              "      <th>HasPhoneService</th>\n",
              "      <td>0</td>\n",
              "    </tr>\n",
              "    <tr>\n",
              "      <th>HasMultiplePhoneNumbers</th>\n",
              "      <td>0</td>\n",
              "    </tr>\n",
              "    <tr>\n",
              "      <th>HasInternetService</th>\n",
              "      <td>0</td>\n",
              "    </tr>\n",
              "    <tr>\n",
              "      <th>HasOnlineSecurityService</th>\n",
              "      <td>0</td>\n",
              "    </tr>\n",
              "    <tr>\n",
              "      <th>HasOnlineBackup</th>\n",
              "      <td>0</td>\n",
              "    </tr>\n",
              "    <tr>\n",
              "      <th>HasDeviceProtection</th>\n",
              "      <td>0</td>\n",
              "    </tr>\n",
              "    <tr>\n",
              "      <th>HasTechSupportAccess</th>\n",
              "      <td>0</td>\n",
              "    </tr>\n",
              "    <tr>\n",
              "      <th>HasOnlineTV</th>\n",
              "      <td>0</td>\n",
              "    </tr>\n",
              "    <tr>\n",
              "      <th>HasMovieSubscription</th>\n",
              "      <td>0</td>\n",
              "    </tr>\n",
              "    <tr>\n",
              "      <th>HasContractPhone</th>\n",
              "      <td>0</td>\n",
              "    </tr>\n",
              "    <tr>\n",
              "      <th>IsBillingPaperless</th>\n",
              "      <td>0</td>\n",
              "    </tr>\n",
              "    <tr>\n",
              "      <th>PaymentMethod</th>\n",
              "      <td>0</td>\n",
              "    </tr>\n",
              "    <tr>\n",
              "      <th>Churn</th>\n",
              "      <td>0</td>\n",
              "    </tr>\n",
              "  </tbody>\n",
              "</table>\n",
              "</div><br><label><b>dtype:</b> int64</label>"
            ]
          },
          "metadata": {},
          "execution_count": 7
        }
      ]
    },
    {
      "cell_type": "markdown",
      "source": [
        "Есть колонка 'TotalSpent', которая имеет тип np.object, но содержит числовые значения.\n",
        "\n",
        "Также имеем колонку 'IsSeniorCitizen', содержащая значения 0/1 и является категориальной.\n",
        "\n",
        "Переведем колонку 'TotalSpent' к числовому типу, а значения 0/1 в колонке 'IsSeniorCitizen' приведем к No/Yes соответственно. После проверим не появились ли Nan-значения."
      ],
      "metadata": {
        "id": "z9bjZQRrI2eG"
      }
    },
    {
      "cell_type": "code",
      "source": [
        "train['TotalSpent'] = pd.to_numeric(train['TotalSpent'], errors='coerce')\n",
        "train['IsSeniorCitizen'] = train['IsSeniorCitizen'].map({0: 'No', 1: 'Yes'})"
      ],
      "metadata": {
        "id": "0GZCQMyVINUR"
      },
      "execution_count": 8,
      "outputs": []
    },
    {
      "cell_type": "code",
      "source": [
        "train.isna().sum()"
      ],
      "metadata": {
        "colab": {
          "base_uri": "https://localhost:8080/",
          "height": 711
        },
        "id": "0c2qFeiNINWJ",
        "outputId": "a1053ec3-ca25-42b5-acf4-a1a6738dddef"
      },
      "execution_count": 9,
      "outputs": [
        {
          "output_type": "execute_result",
          "data": {
            "text/plain": [
              "ClientPeriod                0\n",
              "MonthlySpending             0\n",
              "TotalSpent                  9\n",
              "Sex                         0\n",
              "IsSeniorCitizen             0\n",
              "HasPartner                  0\n",
              "HasChild                    0\n",
              "HasPhoneService             0\n",
              "HasMultiplePhoneNumbers     0\n",
              "HasInternetService          0\n",
              "HasOnlineSecurityService    0\n",
              "HasOnlineBackup             0\n",
              "HasDeviceProtection         0\n",
              "HasTechSupportAccess        0\n",
              "HasOnlineTV                 0\n",
              "HasMovieSubscription        0\n",
              "HasContractPhone            0\n",
              "IsBillingPaperless          0\n",
              "PaymentMethod               0\n",
              "Churn                       0\n",
              "dtype: int64"
            ],
            "text/html": [
              "<div>\n",
              "<style scoped>\n",
              "    .dataframe tbody tr th:only-of-type {\n",
              "        vertical-align: middle;\n",
              "    }\n",
              "\n",
              "    .dataframe tbody tr th {\n",
              "        vertical-align: top;\n",
              "    }\n",
              "\n",
              "    .dataframe thead th {\n",
              "        text-align: right;\n",
              "    }\n",
              "</style>\n",
              "<table border=\"1\" class=\"dataframe\">\n",
              "  <thead>\n",
              "    <tr style=\"text-align: right;\">\n",
              "      <th></th>\n",
              "      <th>0</th>\n",
              "    </tr>\n",
              "  </thead>\n",
              "  <tbody>\n",
              "    <tr>\n",
              "      <th>ClientPeriod</th>\n",
              "      <td>0</td>\n",
              "    </tr>\n",
              "    <tr>\n",
              "      <th>MonthlySpending</th>\n",
              "      <td>0</td>\n",
              "    </tr>\n",
              "    <tr>\n",
              "      <th>TotalSpent</th>\n",
              "      <td>9</td>\n",
              "    </tr>\n",
              "    <tr>\n",
              "      <th>Sex</th>\n",
              "      <td>0</td>\n",
              "    </tr>\n",
              "    <tr>\n",
              "      <th>IsSeniorCitizen</th>\n",
              "      <td>0</td>\n",
              "    </tr>\n",
              "    <tr>\n",
              "      <th>HasPartner</th>\n",
              "      <td>0</td>\n",
              "    </tr>\n",
              "    <tr>\n",
              "      <th>HasChild</th>\n",
              "      <td>0</td>\n",
              "    </tr>\n",
              "    <tr>\n",
              "      <th>HasPhoneService</th>\n",
              "      <td>0</td>\n",
              "    </tr>\n",
              "    <tr>\n",
              "      <th>HasMultiplePhoneNumbers</th>\n",
              "      <td>0</td>\n",
              "    </tr>\n",
              "    <tr>\n",
              "      <th>HasInternetService</th>\n",
              "      <td>0</td>\n",
              "    </tr>\n",
              "    <tr>\n",
              "      <th>HasOnlineSecurityService</th>\n",
              "      <td>0</td>\n",
              "    </tr>\n",
              "    <tr>\n",
              "      <th>HasOnlineBackup</th>\n",
              "      <td>0</td>\n",
              "    </tr>\n",
              "    <tr>\n",
              "      <th>HasDeviceProtection</th>\n",
              "      <td>0</td>\n",
              "    </tr>\n",
              "    <tr>\n",
              "      <th>HasTechSupportAccess</th>\n",
              "      <td>0</td>\n",
              "    </tr>\n",
              "    <tr>\n",
              "      <th>HasOnlineTV</th>\n",
              "      <td>0</td>\n",
              "    </tr>\n",
              "    <tr>\n",
              "      <th>HasMovieSubscription</th>\n",
              "      <td>0</td>\n",
              "    </tr>\n",
              "    <tr>\n",
              "      <th>HasContractPhone</th>\n",
              "      <td>0</td>\n",
              "    </tr>\n",
              "    <tr>\n",
              "      <th>IsBillingPaperless</th>\n",
              "      <td>0</td>\n",
              "    </tr>\n",
              "    <tr>\n",
              "      <th>PaymentMethod</th>\n",
              "      <td>0</td>\n",
              "    </tr>\n",
              "    <tr>\n",
              "      <th>Churn</th>\n",
              "      <td>0</td>\n",
              "    </tr>\n",
              "  </tbody>\n",
              "</table>\n",
              "</div><br><label><b>dtype:</b> int64</label>"
            ]
          },
          "metadata": {},
          "execution_count": 9
        }
      ]
    },
    {
      "cell_type": "code",
      "source": [
        "nan_count_df = pd.DataFrame(train.isna().sum(), columns=['Counts of Nan values'])\n",
        "nan_count_df.plot(kind='bar', figsize=(10, 4), title='Count of Nan in train')"
      ],
      "metadata": {
        "colab": {
          "base_uri": "https://localhost:8080/",
          "height": 581
        },
        "id": "JjhAXIW3INYG",
        "outputId": "69547682-e1b7-4516-bd67-bc6052352a90"
      },
      "execution_count": 10,
      "outputs": [
        {
          "output_type": "execute_result",
          "data": {
            "text/plain": [
              "<Axes: title={'center': 'Count of Nan in train'}>"
            ]
          },
          "metadata": {},
          "execution_count": 10
        },
        {
          "output_type": "display_data",
          "data": {
            "text/plain": [
              "<Figure size 1000x400 with 1 Axes>"
            ],
            "image/png": "[encoded data removed]"
          },
          "metadata": {}
        }
      ]
    },
    {
      "cell_type": "markdown",
      "source": [
        "Аналогичные действия проведем с данными в test"
      ],
      "metadata": {
        "id": "bXtEI7ymLu87"
      }
    },
    {
      "cell_type": "code",
      "source": [
        "test['TotalSpent'] = pd.to_numeric(test['TotalSpent'], errors='coerce')\n",
        "test['IsSeniorCitizen'] = test['IsSeniorCitizen'].map({0: 'No', 1: 'Yes'})"
      ],
      "metadata": {
        "id": "ZNMBg38aINaI"
      },
      "execution_count": 11,
      "outputs": []
    },
    {
      "cell_type": "code",
      "source": [
        "nan_count_df_test = pd.DataFrame(test.isna().sum(),\n",
        "                                 columns=['Count of Nan values'])\n",
        "nan_count_df_test.plot(kind='bar', figsize=(10, 4),\n",
        "                       title='Count of Nan in test')"
      ],
      "metadata": {
        "colab": {
          "base_uri": "https://localhost:8080/",
          "height": 581
        },
        "id": "I8xfM0HuINcM",
        "outputId": "ba4cf812-8154-4897-d422-486b433d9234"
      },
      "execution_count": 12,
      "outputs": [
        {
          "output_type": "execute_result",
          "data": {
            "text/plain": [
              "<Axes: title={'center': 'Count of Nan in test'}>"
            ]
          },
          "metadata": {},
          "execution_count": 12
        },
        {
          "output_type": "display_data",
          "data": {
            "text/plain": [
              "<Figure size 1000x400 with 1 Axes>"
            ],
            "image/png": "[encoded data removed]"
          },
          "metadata": {}
        }
      ]
    },
    {
      "cell_type": "markdown",
      "source": [
        "Посчитаем процент Nan-значений в test и train."
      ],
      "metadata": {
        "id": "TmEXmW1FMXk6"
      }
    },
    {
      "cell_type": "code",
      "source": [
        "print(\"% Nan values in train\",\n",
        "      train['TotalSpent'].isna().sum() / train.shape[0])\n",
        "print(\"% Nan values in test\",\n",
        "      test['TotalSpent'].isna().sum() / test.shape[0])"
      ],
      "metadata": {
        "colab": {
          "base_uri": "https://localhost:8080/"
        },
        "id": "6ZiA0G4SINeM",
        "outputId": "dfaf50fc-4868-407b-bbfe-b53168bcfaa2"
      },
      "execution_count": 13,
      "outputs": [
        {
          "output_type": "stream",
          "name": "stdout",
          "text": [
            "% Nan values in train 0.0017039000378644452\n",
            "% Nan values in test 0.001135718341851221\n"
          ]
        }
      ]
    },
    {
      "cell_type": "markdown",
      "source": [
        "Количество Nan-значений меньше 1 процента, поэтому заменим все Nan'ы на 0.\n",
        "Такое количество изменений никак не повлияют на дальнейшее обучение нашей модели"
      ],
      "metadata": {
        "id": "t6BRFLgqM2N5"
      }
    },
    {
      "cell_type": "code",
      "source": [
        "train.fillna(0.0, inplace=True)\n",
        "test.fillna(0.0, inplace=True)"
      ],
      "metadata": {
        "id": "wQlq9xT3INgj"
      },
      "execution_count": 14,
      "outputs": []
    },
    {
      "cell_type": "markdown",
      "metadata": {
        "id": "dK370bPCEEZD"
      },
      "source": [
        "## Анализ данных (3 балла)\n",
        "\n",
        "1) Для численных призанков постройте гистограмму (*plt.hist(...)*) или boxplot (*plt.boxplot(...)*). Для категориальных посчитайте количество каждого значения для каждого признака. Для каждой колонки надо сделать *data.value_counts()* и построить bar диаграммы *plt.bar(...)* или круговые диаграммы *plt.pie(...)* (хорошо, елси вы сможете это сделать на одном гарфике с помощью *plt.subplots(...)*).\n",
        "\n",
        "2) Посмотрите на распределение целевой переменной и скажите, являются ли классы несбалансированными.\n",
        "\n",
        "3) (Если будет желание) Поиграйте с разными библиотеками для визуализации - *sns*, *pandas_visual_analysis*, etc.\n",
        "\n",
        "Второй пункт очень важен, потому что существуют задачи классификации с несбалансированными классами. Например, это может значить, что в датасете намного больше примеров 0 класса. В таких случаях нужно 1) не использовать accuracy как метрику 2) использовать методы борьбы с imbalanced dataset (обычно если датасет сильно несбалансирован, т.е. класса 1 в 20 раз меньше класса 0)."
      ]
    },
    {
      "cell_type": "markdown",
      "source": [
        "Посмотрим на распределение численных признаков."
      ],
      "metadata": {
        "id": "X-Mmz6SMTicv"
      }
    },
    {
      "cell_type": "code",
      "source": [
        "fig, axes = plt.subplots(1, 3, figsize=(25, 10))\n",
        "\n",
        "train[num_cols].hist(bins=60, figsize=(10, 8), ax=axes)\n",
        "fig.text(0.5, 0.08, 'value', ha='center')\n",
        "fig.text(0.08, 0.5, 'count', va='center', rotation='vertical')\n",
        "None"
      ],
      "metadata": {
        "colab": {
          "base_uri": "https://localhost:8080/",
          "height": 488
        },
        "id": "gfXYfQHwWWWa",
        "outputId": "89128c88-1838-4ab4-e7fd-fa52c68e8563"
      },
      "execution_count": 15,
      "outputs": [
        {
          "output_type": "display_data",
          "data": {
            "text/plain": [
              "<Figure size 2500x1000 with 3 Axes>"
            ],
            "image/png": "[encoded data removed]"
          },
          "metadata": {}
        }
      ]
    },
    {
      "cell_type": "code",
      "source": [
        "# Анализ количественных признаков\n",
        "fig, axes = plt.subplots(1, 3, figsize=(20, 6))\n",
        "\n",
        "for column, ax in zip(num_cols, axes.flat):\n",
        "  sns.distplot(train.query(\"Churn == 0\")[column],\n",
        "               label='No', ax=ax).set_title(column)\n",
        "  sns.distplot(train.query(\"Churn == 1\")[column],\n",
        "               label='Yes', ax=ax).set_title(column)\n",
        "  ax.legend(loc='upper right', title='Churn')\n",
        "\n",
        "\n",
        "plt.setp(axes, xlabel=None, ylabel=None)\n",
        "\n",
        "plt.show()"
      ],
      "metadata": {
        "colab": {
          "base_uri": "https://localhost:8080/",
          "height": 1000
        },
        "id": "8T04kQ9aVNoo",
        "outputId": "3be287cb-2deb-4a92-94a6-f88b6c6b6c6d"
      },
      "execution_count": 19,
      "outputs": [
        {
          "output_type": "stream",
          "name": "stderr",
          "text": [
            "<ipython-input-19-2bb0d2fd80a4>:5: UserWarning: \n",
            "\n",
            "`distplot` is a deprecated function and will be removed in seaborn v0.14.0.\n",
            "\n",
            "Please adapt your code to use either `displot` (a figure-level function with\n",
            "similar flexibility) or `histplot` (an axes-level function for histograms).\n",
            "\n",
            "For a guide to updating your code to use the new functions, please see\n",
            "https://gist.github.com/mwaskom/de44147ed2974457ad6372750bbe5751\n",
            "\n",
            "  sns.distplot(train.query(\"Churn == 0\")[column],\n",
            "<ipython-input-19-2bb0d2fd80a4>:7: UserWarning: \n",
            "\n",
            "`distplot` is a deprecated function and will be removed in seaborn v0.14.0.\n",
            "\n",
            "Please adapt your code to use either `displot` (a figure-level function with\n",
            "similar flexibility) or `histplot` (an axes-level function for histograms).\n",
            "\n",
            "For a guide to updating your code to use the new functions, please see\n",
            "https://gist.github.com/mwaskom/de44147ed2974457ad6372750bbe5751\n",
            "\n",
            "  sns.distplot(train.query(\"Churn == 1\")[column],\n",
            "<ipython-input-19-2bb0d2fd80a4>:5: UserWarning: \n",
            "\n",
            "`distplot` is a deprecated function and will be removed in seaborn v0.14.0.\n",
            "\n",
            "Please adapt your code to use either `displot` (a figure-level function with\n",
            "similar flexibility) or `histplot` (an axes-level function for histograms).\n",
            "\n",
            "For a guide to updating your code to use the new functions, please see\n",
            "https://gist.github.com/mwaskom/de44147ed2974457ad6372750bbe5751\n",
            "\n",
            "  sns.distplot(train.query(\"Churn == 0\")[column],\n",
            "<ipython-input-19-2bb0d2fd80a4>:7: UserWarning: \n",
            "\n",
            "`distplot` is a deprecated function and will be removed in seaborn v0.14.0.\n",
            "\n",
            "Please adapt your code to use either `displot` (a figure-level function with\n",
            "similar flexibility) or `histplot` (an axes-level function for histograms).\n",
            "\n",
            "For a guide to updating your code to use the new functions, please see\n",
            "https://gist.github.com/mwaskom/de44147ed2974457ad6372750bbe5751\n",
            "\n",
            "  sns.distplot(train.query(\"Churn == 1\")[column],\n",
            "<ipython-input-19-2bb0d2fd80a4>:5: UserWarning: \n",
            "\n",
            "`distplot` is a deprecated function and will be removed in seaborn v0.14.0.\n",
            "\n",
            "Please adapt your code to use either `displot` (a figure-level function with\n",
            "similar flexibility) or `histplot` (an axes-level function for histograms).\n",
            "\n",
            "For a guide to updating your code to use the new functions, please see\n",
            "https://gist.github.com/mwaskom/de44147ed2974457ad6372750bbe5751\n",
            "\n",
            "  sns.distplot(train.query(\"Churn == 0\")[column],\n",
            "<ipython-input-19-2bb0d2fd80a4>:7: UserWarning: \n",
            "\n",
            "`distplot` is a deprecated function and will be removed in seaborn v0.14.0.\n",
            "\n",
            "Please adapt your code to use either `displot` (a figure-level function with\n",
            "similar flexibility) or `histplot` (an axes-level function for histograms).\n",
            "\n",
            "For a guide to updating your code to use the new functions, please see\n",
            "https://gist.github.com/mwaskom/de44147ed2974457ad6372750bbe5751\n",
            "\n",
            "  sns.distplot(train.query(\"Churn == 1\")[column],\n"
          ]
        },
        {
          "output_type": "display_data",
          "data": {
            "text/plain": [
              "<Figure size 2000x600 with 3 Axes>"
            ],
            "image/png": "[encoded data removed]"
          },
          "metadata": {}
        }
      ]
    },
    {
      "cell_type": "code",
      "source": [
        "fig, axes = plt.subplots(4, 4, figsize=(18, 10))\n",
        "\n",
        "for ax, col in zip(axes.flatten(), cat_cols):\n",
        "  ax.set_title(col)\n",
        "  counts = train[col].value_counts()\n",
        "  labels = counts.index\n",
        "  ax.pie(counts, labels=labels)"
      ],
      "metadata": {
        "colab": {
          "base_uri": "https://localhost:8080/",
          "height": 675
        },
        "id": "BDql-SGTUfk8",
        "outputId": "64299589-16d9-4c3d-871d-0e4ac69d6d47"
      },
      "execution_count": 20,
      "outputs": [
        {
          "output_type": "display_data",
          "data": {
            "text/plain": [
              "<Figure size 1800x1000 with 16 Axes>"
            ],
            "image/png": "[encoded data removed]"
          },
          "metadata": {}
        }
      ]
    },
    {
      "cell_type": "markdown",
      "metadata": {
        "id": "zg60u3QDEEZH"
      },
      "source": [
        "(Дополнительно) Если вы нашли какие-то ошибки в данных или выбросы, то можете их убрать. Тут можно поэксперементировать с обработкой данных как угодно, но не за баллы."
      ]
    },
    {
      "cell_type": "markdown",
      "source": [
        "Заменим значения \"No internet service\" и \"No phone service\" в колонках на \"No\",\n",
        "так как у нас есть колонки HasInternetService / HasPhoneService.\n",
        "\n",
        "Возможно такие значения появились из-за сбоя на сервере => отсюда появились такие значения в данных."
      ],
      "metadata": {
        "id": "CpiLZBfoZJF_"
      }
    },
    {
      "cell_type": "code",
      "metadata": {
        "id": "fwfksF1gEEZI"
      },
      "source": [
        "cat_replacements = {\"No internet service\": \"No\",\n",
        "                    \"No phone service\": \"No\"}\n",
        "\n",
        "train.replace(cat_replacements, inplace=True)\n",
        "test.replace(cat_replacements, inplace=True)"
      ],
      "execution_count": 21,
      "outputs": []
    },
    {
      "cell_type": "code",
      "source": [
        "fig, axes = plt.subplots(4, 4, figsize=(18, 10))\n",
        "\n",
        "for ax, col in zip(axes.flatten(), cat_cols):\n",
        "  ax.set_title(col)\n",
        "  counts = train[col].value_counts()\n",
        "  labels = counts.index\n",
        "  ax.pie(counts, labels=labels)"
      ],
      "metadata": {
        "colab": {
          "base_uri": "https://localhost:8080/",
          "height": 675
        },
        "id": "jtmByB3aa9Tw",
        "outputId": "554c7058-0eb1-418c-b23b-e67430d6d8b1"
      },
      "execution_count": 22,
      "outputs": [
        {
          "output_type": "display_data",
          "data": {
            "text/plain": [
              "<Figure size 1800x1000 with 16 Axes>"
            ],
            "image/png": "[encoded data removed]"
          },
          "metadata": {}
        }
      ]
    },
    {
      "cell_type": "markdown",
      "metadata": {
        "id": "DviiJd8REEZK"
      },
      "source": [
        "## Применение линейных моделей (3 балла)\n",
        "\n",
        "1) Обработайте данные для того, чтобы к ним можно было применить LogisticRegression. Т.е. отнормируйте числовые признаки, а категориальные закодируйте с помощью one-hot-encoding'а.\n",
        "\n",
        "2) С помощью кроссвалидации или разделения на train/valid выборку протестируйте разные значения гиперпараметра C и выберите лучший (можно тестировать С=100, 10, 1, 0.1, 0.01, 0.001) по метрике ROC-AUC.\n",
        "\n",
        "Если вы разделяете на train/valid, то используйте LogisticRegressionCV. Он сам при вызове .fit() подберет параметр С. (не забудьте передать scroing='roc_auc', чтобы при кроссвалидации сравнивались значения этой метрики, и refit=True, чтобы при потом модель обучилась на всем датасете с лучшим параметром C).\n",
        "\n",
        "\n",
        "(более сложный вариант) Если вы будете использовать кроссвалидацию, то преобразования данных и LogisticRegression нужно соединить в один Pipeline с помощью make_pipeline, как это делалось во втором семинаре. Потом pipeline надо передать в GridSearchCV. Для one-hot-encoding'a можно испльзовать комбинацию LabelEncoder + OneHotEncoder (сначала превращаем строчки в числа, а потом числа првращаем в one-hot вектора.)"
      ]
    },
    {
      "cell_type": "code",
      "metadata": {
        "id": "xHCLDmwqEEZL"
      },
      "source": [
        "from sklearn.linear_model import LogisticRegression, LogisticRegressionCV\n",
        "from sklearn.model_selection import train_test_split, GridSearchCV\n",
        "from sklearn.compose import ColumnTransformer\n",
        "from sklearn.preprocessing import StandardScaler, RobustScaler, LabelEncoder, OneHotEncoder\n",
        "from sklearn.pipeline import make_pipeline"
      ],
      "execution_count": 23,
      "outputs": []
    },
    {
      "cell_type": "code",
      "metadata": {
        "id": "P2Yv3uYtEEZO",
        "colab": {
          "base_uri": "https://localhost:8080/"
        },
        "outputId": "88cdbe0b-95e4-49f4-98ba-61c2a9fb53fb"
      },
      "source": [
        "X_train, y_train = train[feature_cols], train[target_col]\n",
        "\n",
        "X_train.shape, y_train.shape"
      ],
      "execution_count": 24,
      "outputs": [
        {
          "output_type": "execute_result",
          "data": {
            "text/plain": [
              "((5282, 19), (5282,))"
            ]
          },
          "metadata": {},
          "execution_count": 24
        }
      ]
    },
    {
      "cell_type": "code",
      "source": [
        "num_transformer = StandardScaler()\n",
        "cat_transformer = OneHotEncoder()"
      ],
      "metadata": {
        "id": "Jp6QiwG8b0gd"
      },
      "execution_count": 25,
      "outputs": []
    },
    {
      "cell_type": "code",
      "source": [
        "preprocessor = ColumnTransformer(\n",
        "    transformers=[\n",
        "      (\"numerical\", num_transformer, num_cols),\n",
        "      (\"categorical\", cat_transformer, cat_cols)\n",
        "    ]\n",
        ")"
      ],
      "metadata": {
        "id": "aBxwnIwXb0jc"
      },
      "execution_count": 26,
      "outputs": []
    },
    {
      "cell_type": "code",
      "source": [
        "log_reg_model = LogisticRegression(penalty=\"l1\",\n",
        "                             solver=\"saga\",\n",
        "                             max_iter=1000,\n",
        "                             random_state=42)\n"
      ],
      "metadata": {
        "id": "Ak4g3E38b0mZ"
      },
      "execution_count": 27,
      "outputs": []
    },
    {
      "cell_type": "code",
      "source": [
        "params = {\n",
        "    \"logisticregression__C\" : [0.001, 0.01, 0.1, 1, 10, 100]\n",
        "}"
      ],
      "metadata": {
        "id": "LP5MZ7_jb0qG"
      },
      "execution_count": 28,
      "outputs": []
    },
    {
      "cell_type": "code",
      "source": [
        "clf = make_pipeline(preprocessor, log_reg_model)"
      ],
      "metadata": {
        "id": "s0xX3wwTb0ss"
      },
      "execution_count": 29,
      "outputs": []
    },
    {
      "cell_type": "code",
      "source": [
        "grid_search_cv_log = GridSearchCV(estimator=clf, param_grid=params,\n",
        "                                  cv=5, scoring=\"roc_auc\", verbose=5,\n",
        "                                  n_jobs=-1, refit=True)"
      ],
      "metadata": {
        "id": "639CDiV4b0wU"
      },
      "execution_count": 30,
      "outputs": []
    },
    {
      "cell_type": "code",
      "source": [
        "log_reg = grid_search_cv_log.fit(X_train, y_train)"
      ],
      "metadata": {
        "colab": {
          "base_uri": "https://localhost:8080/"
        },
        "id": "-5CK8Fu5dwKU",
        "outputId": "6b3d8bc2-2c39-448f-d56c-00797754ba65"
      },
      "execution_count": 31,
      "outputs": [
        {
          "output_type": "stream",
          "name": "stdout",
          "text": [
            "Fitting 5 folds for each of 6 candidates, totalling 30 fits\n"
          ]
        }
      ]
    },
    {
      "cell_type": "code",
      "source": [
        "print(f\"best score:{log_reg.best_score_}\")\n",
        "print(f\"best params:{log_reg.best_params_}\")"
      ],
      "metadata": {
        "colab": {
          "base_uri": "https://localhost:8080/"
        },
        "id": "YrqFukrfdwwB",
        "outputId": "5b394e17-3a56-4cf2-a0a1-db38a432c20c"
      },
      "execution_count": 32,
      "outputs": [
        {
          "output_type": "stream",
          "name": "stdout",
          "text": [
            "best score:0.8451194876516641\n",
            "best params:{'logisticregression__C': 100}\n"
          ]
        }
      ]
    },
    {
      "cell_type": "code",
      "source": [
        "best_log_reg = log_reg.best_estimator_"
      ],
      "metadata": {
        "id": "YLyK8j7KdxH0"
      },
      "execution_count": 33,
      "outputs": []
    },
    {
      "cell_type": "code",
      "source": [
        "first_submit = pd.read_csv('./submission.csv')\n",
        "first_submit['Churn'] = best_log_reg.predict_proba(test)[:, 1]\n",
        "first_submit.to_csv(\"first_submit.csv\", index=False)"
      ],
      "metadata": {
        "id": "vghsDZFrdxgV"
      },
      "execution_count": 34,
      "outputs": []
    },
    {
      "cell_type": "markdown",
      "source": [
        "![image.png](data:image/png;base64,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)"
      ],
      "metadata": {
        "id": "mwZk7arFgmf1"
      }
    },
    {
      "cell_type": "markdown",
      "metadata": {
        "id": "BlTeVy7fEEZR"
      },
      "source": [
        "## Применение градиентного бустинга (2 балла)\n",
        "\n",
        "Если вы хотите получить баллы за точный ответ, то стоит попробовать градиентный бустинг. Часто градиентный бустинг с дефолтными параметрами даст вам 80% результата за 0% усилий.\n",
        "\n",
        "Мы будем использовать catboost, поэтому нам не надо кодировать категориальные признаки. catboost сделает это сам (в .fit() надо передать cat_features=cat_cols). А численные признаки нормировать для моделей, основанных на деревьях не нужно.\n",
        "\n",
        "1) Разделите выборку на train/valid. Протестируйте catboost cо стандартными параметрами.\n",
        "\n",
        "2) Протестируйте разные занчения параметроа количества деревьев и learning_rate'а и выберите лучшую по метрике ROC-AUC комбинацию.\n",
        "\n",
        "(Дополнительно) Есть некоторые сложности с тем, чтобы использовать CatBoostClassifier вместе с GridSearchCV, поэтому мы не просим использовать кроссвалидацию. Но можете попробовать)"
      ]
    },
    {
      "cell_type": "code",
      "metadata": {
        "id": "Fioxxlp-EEZS",
        "colab": {
          "base_uri": "https://localhost:8080/"
        },
        "outputId": "43676dcd-5c76-4bd1-fc62-7350fa94ee09"
      },
      "source": [
        "!pip install catboost"
      ],
      "execution_count": 35,
      "outputs": [
        {
          "output_type": "stream",
          "name": "stdout",
          "text": [
            "Collecting catboost\n",
            "  Downloading catboost-1.2.7-cp311-cp311-manylinux2014_x86_64.whl.metadata (1.2 kB)\n",
            "Requirement already satisfied: graphviz in /usr/local/lib/python3.11/dist-packages (from catboost) (0.20.3)\n",
            "Requirement already satisfied: matplotlib in /usr/local/lib/python3.11/dist-packages (from catboost) (3.10.0)\n",
            "Requirement already satisfied: numpy<2.0,>=1.16.0 in /usr/local/lib/python3.11/dist-packages (from catboost) (1.26.4)\n",
            "Requirement already satisfied: pandas>=0.24 in /usr/local/lib/python3.11/dist-packages (from catboost) (2.2.2)\n",
            "Requirement already satisfied: scipy in /usr/local/lib/python3.11/dist-packages (from catboost) (1.14.1)\n",
            "Requirement already satisfied: plotly in /usr/local/lib/python3.11/dist-packages (from catboost) (5.24.1)\n",
            "Requirement already satisfied: six in /usr/local/lib/python3.11/dist-packages (from catboost) (1.17.0)\n",
            "Requirement already satisfied: python-dateutil>=2.8.2 in /usr/local/lib/python3.11/dist-packages (from pandas>=0.24->catboost) (2.8.2)\n",
            "Requirement already satisfied: pytz>=2020.1 in /usr/local/lib/python3.11/dist-packages (from pandas>=0.24->catboost) (2025.1)\n",
            "Requirement already satisfied: tzdata>=2022.7 in /usr/local/lib/python3.11/dist-packages (from pandas>=0.24->catboost) (2025.1)\n",
            "Requirement already satisfied: contourpy>=1.0.1 in /usr/local/lib/python3.11/dist-packages (from matplotlib->catboost) (1.3.1)\n",
            "Requirement already satisfied: cycler>=0.10 in /usr/local/lib/python3.11/dist-packages (from matplotlib->catboost) (0.12.1)\n",
            "Requirement already satisfied: fonttools>=4.22.0 in /usr/local/lib/python3.11/dist-packages (from matplotlib->catboost) (4.56.0)\n",
            "Requirement already satisfied: kiwisolver>=1.3.1 in /usr/local/lib/python3.11/dist-packages (from matplotlib->catboost) (1.4.8)\n",
            "Requirement already satisfied: packaging>=20.0 in /usr/local/lib/python3.11/dist-packages (from matplotlib->catboost) (24.2)\n",
            "Requirement already satisfied: pillow>=8 in /usr/local/lib/python3.11/dist-packages (from matplotlib->catboost) (11.1.0)\n",
            "Requirement already satisfied: pyparsing>=2.3.1 in /usr/local/lib/python3.11/dist-packages (from matplotlib->catboost) (3.2.1)\n",
            "Requirement already satisfied: tenacity>=6.2.0 in /usr/local/lib/python3.11/dist-packages (from plotly->catboost) (9.0.0)\n",
            "Downloading catboost-1.2.7-cp311-cp311-manylinux2014_x86_64.whl (98.7 MB)\n",
            "\u001b[2K   \u001b[90m━━━━━━━━━━━━━━━━━━━━━━━━━━━━━━━━━━━━━━━━\u001b[0m \u001b[32m98.7/98.7 MB\u001b[0m \u001b[31m7.1 MB/s\u001b[0m eta \u001b[36m0:00:00\u001b[0m\n",
            "\u001b[?25hInstalling collected packages: catboost\n",
            "Successfully installed catboost-1.2.7\n"
          ]
        }
      ]
    },
    {
      "cell_type": "code",
      "source": [
        "from catboost import CatBoostClassifier"
      ],
      "metadata": {
        "id": "3DgL6SCqimWY"
      },
      "execution_count": 36,
      "outputs": []
    },
    {
      "cell_type": "code",
      "source": [
        "my_catboost = CatBoostClassifier(\n",
        "    cat_features=cat_cols,\n",
        "    logging_level=\"Silent\",\n",
        "    eval_metric=\"AUC:hints=skip_train~false\",\n",
        "    grow_policy=\"Lossguide\",\n",
        "    metric_period=100,\n",
        "    random_seed=42\n",
        ")\n",
        "\n",
        "params = {\n",
        "    \"max_depth\": [2, 4, 8],\n",
        "    \"subsample\": [0.1, 1, 10],\n",
        "    \"n_estimators\": [10, 50, 100],\n",
        "    \"random_strength\": [1, 10, 100],\n",
        "    \"learning_rate\": [0.01, 0.1, 0.5]\n",
        "}"
      ],
      "metadata": {
        "id": "h9FlxsIMimZK"
      },
      "execution_count": 37,
      "outputs": []
    },
    {
      "cell_type": "code",
      "source": [
        "my_catboost.grid_search(params, X_train, y_train, cv=10, plot=True, refit=True)"
      ],
      "metadata": {
        "colab": {
          "base_uri": "https://localhost:8080/",
          "height": 1000,
          "referenced_widgets": [
            "d090e46bd2f34894b3e5453acf6d38c1"
          ]
        },
        "id": "-ulhX4nCimcq",
        "outputId": "c32b6e23-c42f-4189-f194-b76b124db78a"
      },
      "execution_count": 38,
      "outputs": [
        {
          "output_type": "display_data",
          "data": {
            "text/plain": [
              "MetricVisualizer(layout=Layout(align_self='stretch', height='500px'))"
            ],
            "application/vnd.jupyter.widget-view+json": {
              "version_major": 2,
              "version_minor": 0,
              "model_id": "d090e46bd2f34894b3e5453acf6d38c1"
            }
          },
          "metadata": {}
        },
        {
          "output_type": "stream",
          "name": "stdout",
          "text": [
            "0:\tloss: 0.8484753\tbest: 0.8484753 (0)\ttotal: 132ms\tremaining: 31.9s\n",
            "1:\tloss: 0.8636794\tbest: 0.8636794 (1)\ttotal: 173ms\tremaining: 20.9s\n",
            "2:\tloss: 0.8632710\tbest: 0.8636794 (1)\ttotal: 215ms\tremaining: 17.2s\n",
            "3:\tloss: 0.8607513\tbest: 0.8636794 (1)\ttotal: 412ms\tremaining: 24.6s\n",
            "4:\tloss: 0.8692274\tbest: 0.8692274 (4)\ttotal: 602ms\tremaining: 28.6s\n",
            "5:\tloss: 0.8699893\tbest: 0.8699893 (5)\ttotal: 868ms\tremaining: 34.3s\n",
            "6:\tloss: 0.8635074\tbest: 0.8699893 (5)\ttotal: 1.41s\tremaining: 47.5s\n",
            "7:\tloss: 0.8697481\tbest: 0.8699893 (5)\ttotal: 1.83s\tremaining: 53.8s\n",
            "8:\tloss: 0.8670111\tbest: 0.8699893 (5)\ttotal: 2.41s\tremaining: 1m 2s\n",
            "9:\tloss: 0.8403072\tbest: 0.8699893 (5)\ttotal: 2.49s\tremaining: 58.1s\n",
            "10:\tloss: 0.8602354\tbest: 0.8699893 (5)\ttotal: 2.58s\tremaining: 54.4s\n",
            "11:\tloss: 0.8607298\tbest: 0.8699893 (5)\ttotal: 2.69s\tremaining: 51.8s\n",
            "12:\tloss: 0.8605387\tbest: 0.8699893 (5)\ttotal: 3.21s\tremaining: 56.8s\n",
            "13:\tloss: 0.8640113\tbest: 0.8699893 (5)\ttotal: 3.55s\tremaining: 58.1s\n",
            "14:\tloss: 0.8663113\tbest: 0.8699893 (5)\ttotal: 4.15s\tremaining: 1m 3s\n",
            "15:\tloss: 0.8581695\tbest: 0.8699893 (5)\ttotal: 5.44s\tremaining: 1m 17s\n",
            "16:\tloss: 0.8669943\tbest: 0.8699893 (5)\ttotal: 6.31s\tremaining: 1m 23s\n",
            "17:\tloss: 0.8631491\tbest: 0.8699893 (5)\ttotal: 6.93s\tremaining: 1m 26s\n",
            "18:\tloss: 0.8421534\tbest: 0.8699893 (5)\ttotal: 6.99s\tremaining: 1m 22s\n",
            "19:\tloss: 0.8357623\tbest: 0.8699893 (5)\ttotal: 7.07s\tremaining: 1m 18s\n",
            "20:\tloss: 0.8309044\tbest: 0.8699893 (5)\ttotal: 7.18s\tremaining: 1m 15s\n",
            "21:\tloss: 0.8542359\tbest: 0.8699893 (5)\ttotal: 7.62s\tremaining: 1m 16s\n",
            "22:\tloss: 0.8518619\tbest: 0.8699893 (5)\ttotal: 7.94s\tremaining: 1m 15s\n",
            "23:\tloss: 0.8626118\tbest: 0.8699893 (5)\ttotal: 8.44s\tremaining: 1m 17s\n",
            "24:\tloss: 0.8538848\tbest: 0.8699893 (5)\ttotal: 9.08s\tremaining: 1m 19s\n",
            "25:\tloss: 0.8579092\tbest: 0.8699893 (5)\ttotal: 9.81s\tremaining: 1m 21s\n",
            "26:\tloss: 0.8648855\tbest: 0.8699893 (5)\ttotal: 10.6s\tremaining: 1m 24s\n",
            "27:\tloss: 0.8523277\tbest: 0.8699893 (5)\ttotal: 10.7s\tremaining: 1m 22s\n",
            "28:\tloss: 0.8641164\tbest: 0.8699893 (5)\ttotal: 10.9s\tremaining: 1m 20s\n",
            "29:\tloss: 0.8644197\tbest: 0.8699893 (5)\ttotal: 11s\tremaining: 1m 17s\n",
            "30:\tloss: 0.8662396\tbest: 0.8699893 (5)\ttotal: 11.7s\tremaining: 1m 19s\n",
            "31:\tloss: 0.8687760\tbest: 0.8699893 (5)\ttotal: 12.2s\tremaining: 1m 20s\n",
            "32:\tloss: 0.8611883\tbest: 0.8699893 (5)\ttotal: 12.8s\tremaining: 1m 21s\n",
            "33:\tloss: 0.8672977\tbest: 0.8699893 (5)\ttotal: 13.9s\tremaining: 1m 25s\n",
            "34:\tloss: 0.8676798\tbest: 0.8699893 (5)\ttotal: 15.1s\tremaining: 1m 29s\n",
            "35:\tloss: 0.8518691\tbest: 0.8699893 (5)\ttotal: 16.5s\tremaining: 1m 34s\n",
            "36:\tloss: 0.8537559\tbest: 0.8699893 (5)\ttotal: 16.6s\tremaining: 1m 32s\n",
            "37:\tloss: 0.8642884\tbest: 0.8699893 (5)\ttotal: 16.9s\tremaining: 1m 30s\n",
            "38:\tloss: 0.8535170\tbest: 0.8699893 (5)\ttotal: 17s\tremaining: 1m 28s\n",
            "39:\tloss: 0.8587594\tbest: 0.8699893 (5)\ttotal: 18.1s\tremaining: 1m 31s\n",
            "40:\tloss: 0.8645033\tbest: 0.8699893 (5)\ttotal: 19.2s\tremaining: 1m 34s\n",
            "41:\tloss: 0.8521461\tbest: 0.8699893 (5)\ttotal: 19.8s\tremaining: 1m 34s\n",
            "42:\tloss: 0.8598222\tbest: 0.8699893 (5)\ttotal: 21.1s\tremaining: 1m 37s\n",
            "43:\tloss: 0.8680954\tbest: 0.8699893 (5)\ttotal: 22.2s\tremaining: 1m 40s\n",
            "44:\tloss: 0.8492802\tbest: 0.8699893 (5)\ttotal: 23.4s\tremaining: 1m 42s\n",
            "45:\tloss: 0.8418525\tbest: 0.8699893 (5)\ttotal: 23.5s\tremaining: 1m 40s\n",
            "46:\tloss: 0.8507323\tbest: 0.8699893 (5)\ttotal: 23.6s\tremaining: 1m 38s\n",
            "47:\tloss: 0.8543004\tbest: 0.8699893 (5)\ttotal: 23.7s\tremaining: 1m 36s\n",
            "48:\tloss: 0.8579163\tbest: 0.8699893 (5)\ttotal: 24.4s\tremaining: 1m 36s\n",
            "49:\tloss: 0.8597482\tbest: 0.8699893 (5)\ttotal: 25.1s\tremaining: 1m 36s\n",
            "50:\tloss: 0.8653249\tbest: 0.8699893 (5)\ttotal: 25.7s\tremaining: 1m 36s\n",
            "51:\tloss: 0.8584418\tbest: 0.8699893 (5)\ttotal: 26.7s\tremaining: 1m 37s\n",
            "52:\tloss: 0.8663614\tbest: 0.8699893 (5)\ttotal: 27.4s\tremaining: 1m 38s\n",
            "53:\tloss: 0.8510212\tbest: 0.8699893 (5)\ttotal: 28s\tremaining: 1m 37s\n",
            "54:\tloss: 0.8661584\tbest: 0.8699893 (5)\ttotal: 28.1s\tremaining: 1m 35s\n",
            "55:\tloss: 0.8636435\tbest: 0.8699893 (5)\ttotal: 28.2s\tremaining: 1m 34s\n",
            "56:\tloss: 0.8583510\tbest: 0.8699893 (5)\ttotal: 28.3s\tremaining: 1m 32s\n",
            "57:\tloss: 0.8672953\tbest: 0.8699893 (5)\ttotal: 28.8s\tremaining: 1m 31s\n",
            "58:\tloss: 0.8668009\tbest: 0.8699893 (5)\ttotal: 29.4s\tremaining: 1m 31s\n",
            "59:\tloss: 0.8415348\tbest: 0.8699893 (5)\ttotal: 30.3s\tremaining: 1m 32s\n",
            "60:\tloss: 0.8690507\tbest: 0.8699893 (5)\ttotal: 32.1s\tremaining: 1m 35s\n",
            "61:\tloss: 0.8645583\tbest: 0.8699893 (5)\ttotal: 33.2s\tremaining: 1m 36s\n",
            "62:\tloss: 0.8271977\tbest: 0.8699893 (5)\ttotal: 34.3s\tremaining: 1m 37s\n",
            "63:\tloss: 0.8594210\tbest: 0.8699893 (5)\ttotal: 34.4s\tremaining: 1m 36s\n",
            "64:\tloss: 0.8567819\tbest: 0.8699893 (5)\ttotal: 34.5s\tremaining: 1m 34s\n",
            "65:\tloss: 0.8656688\tbest: 0.8699893 (5)\ttotal: 34.6s\tremaining: 1m 32s\n",
            "66:\tloss: 0.8599010\tbest: 0.8699893 (5)\ttotal: 35s\tremaining: 1m 32s\n",
            "67:\tloss: 0.8665525\tbest: 0.8699893 (5)\ttotal: 35.5s\tremaining: 1m 31s\n",
            "68:\tloss: 0.8565860\tbest: 0.8699893 (5)\ttotal: 36s\tremaining: 1m 30s\n",
            "69:\tloss: 0.8625258\tbest: 0.8699893 (5)\ttotal: 36.9s\tremaining: 1m 31s\n",
            "70:\tloss: 0.8680571\tbest: 0.8699893 (5)\ttotal: 37.8s\tremaining: 1m 31s\n",
            "71:\tloss: 0.8423946\tbest: 0.8699893 (5)\ttotal: 38.9s\tremaining: 1m 32s\n",
            "72:\tloss: 0.8462159\tbest: 0.8699893 (5)\ttotal: 39s\tremaining: 1m 30s\n",
            "73:\tloss: 0.8445728\tbest: 0.8699893 (5)\ttotal: 39.1s\tremaining: 1m 29s\n",
            "74:\tloss: 0.8599177\tbest: 0.8699893 (5)\ttotal: 39.1s\tremaining: 1m 27s\n",
            "75:\tloss: 0.8586257\tbest: 0.8699893 (5)\ttotal: 39.6s\tremaining: 1m 27s\n",
            "76:\tloss: 0.8625162\tbest: 0.8699893 (5)\ttotal: 40s\tremaining: 1m 26s\n",
            "77:\tloss: 0.8433762\tbest: 0.8699893 (5)\ttotal: 40.6s\tremaining: 1m 25s\n",
            "78:\tloss: 0.8602473\tbest: 0.8699893 (5)\ttotal: 41.4s\tremaining: 1m 26s\n",
            "79:\tloss: 0.8676368\tbest: 0.8699893 (5)\ttotal: 42.5s\tremaining: 1m 26s\n",
            "80:\tloss: 0.8381386\tbest: 0.8699893 (5)\ttotal: 44.2s\tremaining: 1m 28s\n",
            "81:\tloss: 0.8182391\tbest: 0.8699893 (5)\ttotal: 44.3s\tremaining: 1m 26s\n",
            "82:\tloss: 0.8530155\tbest: 0.8699893 (5)\ttotal: 44.4s\tremaining: 1m 25s\n",
            "83:\tloss: 0.8613197\tbest: 0.8699893 (5)\ttotal: 44.5s\tremaining: 1m 24s\n",
            "84:\tloss: 0.8388121\tbest: 0.8699893 (5)\ttotal: 44.9s\tremaining: 1m 23s\n",
            "85:\tloss: 0.8676583\tbest: 0.8699893 (5)\ttotal: 45.1s\tremaining: 1m 22s\n",
            "86:\tloss: 0.8611788\tbest: 0.8699893 (5)\ttotal: 45.4s\tremaining: 1m 21s\n",
            "87:\tloss: 0.8621747\tbest: 0.8699893 (5)\ttotal: 45.8s\tremaining: 1m 20s\n",
            "88:\tloss: 0.8682530\tbest: 0.8699893 (5)\ttotal: 46.2s\tremaining: 1m 20s\n",
            "89:\tloss: 0.8567413\tbest: 0.8699893 (5)\ttotal: 46.7s\tremaining: 1m 19s\n",
            "90:\tloss: 0.8367439\tbest: 0.8699893 (5)\ttotal: 46.7s\tremaining: 1m 18s\n",
            "91:\tloss: 0.8529080\tbest: 0.8699893 (5)\ttotal: 46.8s\tremaining: 1m 16s\n",
            "92:\tloss: 0.8537153\tbest: 0.8699893 (5)\ttotal: 46.9s\tremaining: 1m 15s\n",
            "93:\tloss: 0.8546993\tbest: 0.8699893 (5)\ttotal: 47.1s\tremaining: 1m 14s\n",
            "94:\tloss: 0.8635767\tbest: 0.8699893 (5)\ttotal: 47.3s\tremaining: 1m 13s\n",
            "95:\tloss: 0.8654276\tbest: 0.8699893 (5)\ttotal: 47.5s\tremaining: 1m 12s\n",
            "96:\tloss: 0.8567532\tbest: 0.8699893 (5)\ttotal: 48s\tremaining: 1m 12s\n",
            "97:\tloss: 0.8686805\tbest: 0.8699893 (5)\ttotal: 48.4s\tremaining: 1m 11s\n",
            "98:\tloss: 0.8605005\tbest: 0.8699893 (5)\ttotal: 48.8s\tremaining: 1m 11s\n",
            "99:\tloss: 0.8388647\tbest: 0.8699893 (5)\ttotal: 48.9s\tremaining: 1m 9s\n",
            "100:\tloss: 0.8437297\tbest: 0.8699893 (5)\ttotal: 48.9s\tremaining: 1m 8s\n",
            "101:\tloss: 0.8588311\tbest: 0.8699893 (5)\ttotal: 49s\tremaining: 1m 7s\n",
            "102:\tloss: 0.8495954\tbest: 0.8699893 (5)\ttotal: 49.2s\tremaining: 1m 6s\n",
            "103:\tloss: 0.8584776\tbest: 0.8699893 (5)\ttotal: 49.4s\tremaining: 1m 6s\n",
            "104:\tloss: 0.8665167\tbest: 0.8699893 (5)\ttotal: 49.6s\tremaining: 1m 5s\n",
            "105:\tloss: 0.8598389\tbest: 0.8699893 (5)\ttotal: 50.1s\tremaining: 1m 4s\n",
            "106:\tloss: 0.8604551\tbest: 0.8699893 (5)\ttotal: 50.5s\tremaining: 1m 4s\n",
            "107:\tloss: 0.8624756\tbest: 0.8699893 (5)\ttotal: 51s\tremaining: 1m 3s\n",
            "108:\tloss: 0.8581432\tbest: 0.8699893 (5)\ttotal: 51s\tremaining: 1m 2s\n",
            "109:\tloss: 0.8692179\tbest: 0.8699893 (5)\ttotal: 51.1s\tremaining: 1m 1s\n",
            "110:\tloss: 0.8691008\tbest: 0.8699893 (5)\ttotal: 51.2s\tremaining: 1m\n",
            "111:\tloss: 0.8634310\tbest: 0.8699893 (5)\ttotal: 51.6s\tremaining: 1m\n",
            "112:\tloss: 0.8721006\tbest: 0.8721006 (112)\ttotal: 51.9s\tremaining: 59.8s\n",
            "113:\tloss: 0.8478663\tbest: 0.8721006 (112)\ttotal: 52.3s\tremaining: 59.2s\n",
            "114:\tloss: 0.8663949\tbest: 0.8721006 (112)\ttotal: 53.1s\tremaining: 59.1s\n",
            "115:\tloss: 0.8694233\tbest: 0.8721006 (112)\ttotal: 53.8s\tremaining: 58.9s\n",
            "116:\tloss: 0.8376944\tbest: 0.8721006 (112)\ttotal: 54.6s\tremaining: 58.8s\n",
            "117:\tloss: 0.8574506\tbest: 0.8721006 (112)\ttotal: 54.7s\tremaining: 57.9s\n",
            "118:\tloss: 0.8560821\tbest: 0.8721006 (112)\ttotal: 54.7s\tremaining: 57s\n",
            "119:\tloss: 0.8602521\tbest: 0.8721006 (112)\ttotal: 54.8s\tremaining: 56.2s\n",
            "120:\tloss: 0.8588072\tbest: 0.8721006 (112)\ttotal: 55.3s\tremaining: 55.8s\n",
            "121:\tloss: 0.8666194\tbest: 0.8721006 (112)\ttotal: 55.9s\tremaining: 55.4s\n",
            "122:\tloss: 0.8458816\tbest: 0.8721006 (112)\ttotal: 56.5s\tremaining: 55.1s\n",
            "123:\tloss: 0.8598365\tbest: 0.8721006 (112)\ttotal: 57.7s\tremaining: 55.4s\n",
            "124:\tloss: 0.8687187\tbest: 0.8721006 (112)\ttotal: 58.5s\tremaining: 55.2s\n",
            "125:\tloss: 0.8313128\tbest: 0.8721006 (112)\ttotal: 59.2s\tremaining: 55s\n",
            "126:\tloss: 0.8508302\tbest: 0.8721006 (112)\ttotal: 59.3s\tremaining: 54.2s\n",
            "127:\tloss: 0.8465145\tbest: 0.8721006 (112)\ttotal: 59.4s\tremaining: 53.4s\n",
            "128:\tloss: 0.8413844\tbest: 0.8721006 (112)\ttotal: 59.5s\tremaining: 52.5s\n",
            "129:\tloss: 0.8563018\tbest: 0.8721006 (112)\ttotal: 59.8s\tremaining: 52s\n",
            "130:\tloss: 0.8647254\tbest: 0.8721006 (112)\ttotal: 1m\tremaining: 51.4s\n",
            "131:\tloss: 0.8441883\tbest: 0.8721006 (112)\ttotal: 1m\tremaining: 50.9s\n",
            "132:\tloss: 0.8589170\tbest: 0.8721006 (112)\ttotal: 1m 1s\tremaining: 50.6s\n",
            "133:\tloss: 0.8684321\tbest: 0.8721006 (112)\ttotal: 1m 1s\tremaining: 50.3s\n",
            "134:\tloss: 0.8320174\tbest: 0.8721006 (112)\ttotal: 1m 2s\tremaining: 50.1s\n",
            "135:\tloss: 0.8589338\tbest: 0.8721006 (112)\ttotal: 1m 2s\tremaining: 49.4s\n",
            "136:\tloss: 0.8614367\tbest: 0.8721006 (112)\ttotal: 1m 2s\tremaining: 48.6s\n",
            "137:\tloss: 0.8521008\tbest: 0.8721006 (112)\ttotal: 1m 2s\tremaining: 47.9s\n",
            "138:\tloss: 0.8648234\tbest: 0.8721006 (112)\ttotal: 1m 3s\tremaining: 47.5s\n",
            "139:\tloss: 0.8670923\tbest: 0.8721006 (112)\ttotal: 1m 4s\tremaining: 47.2s\n",
            "140:\tloss: 0.8159440\tbest: 0.8721006 (112)\ttotal: 1m 4s\tremaining: 46.8s\n",
            "141:\tloss: 0.8650192\tbest: 0.8721006 (112)\ttotal: 1m 5s\tremaining: 46.9s\n",
            "142:\tloss: 0.8606653\tbest: 0.8721006 (112)\ttotal: 1m 7s\tremaining: 46.9s\n",
            "143:\tloss: 0.8058987\tbest: 0.8721006 (112)\ttotal: 1m 8s\tremaining: 47.2s\n",
            "144:\tloss: 0.8573527\tbest: 0.8721006 (112)\ttotal: 1m 8s\tremaining: 46.6s\n",
            "145:\tloss: 0.8595213\tbest: 0.8721006 (112)\ttotal: 1m 9s\tremaining: 45.9s\n",
            "146:\tloss: 0.8659483\tbest: 0.8721006 (112)\ttotal: 1m 9s\tremaining: 45.2s\n",
            "147:\tloss: 0.8601375\tbest: 0.8721006 (112)\ttotal: 1m 10s\tremaining: 45.1s\n",
            "148:\tloss: 0.8659411\tbest: 0.8721006 (112)\ttotal: 1m 11s\tremaining: 44.8s\n",
            "149:\tloss: 0.8285567\tbest: 0.8721006 (112)\ttotal: 1m 11s\tremaining: 44.4s\n",
            "150:\tloss: 0.8626094\tbest: 0.8721006 (112)\ttotal: 1m 12s\tremaining: 44.3s\n",
            "151:\tloss: 0.8680571\tbest: 0.8721006 (112)\ttotal: 1m 13s\tremaining: 44.2s\n",
            "152:\tloss: 0.8101833\tbest: 0.8721006 (112)\ttotal: 1m 15s\tremaining: 44.2s\n",
            "153:\tloss: 0.8419743\tbest: 0.8721006 (112)\ttotal: 1m 15s\tremaining: 43.5s\n",
            "154:\tloss: 0.8484156\tbest: 0.8721006 (112)\ttotal: 1m 15s\tremaining: 42.8s\n",
            "155:\tloss: 0.8546181\tbest: 0.8721006 (112)\ttotal: 1m 15s\tremaining: 42.1s\n",
            "156:\tloss: 0.8573575\tbest: 0.8721006 (112)\ttotal: 1m 16s\tremaining: 41.6s\n",
            "157:\tloss: 0.8621341\tbest: 0.8721006 (112)\ttotal: 1m 16s\tremaining: 41.2s\n",
            "158:\tloss: 0.8391680\tbest: 0.8721006 (112)\ttotal: 1m 17s\tremaining: 40.8s\n",
            "159:\tloss: 0.8608898\tbest: 0.8721006 (112)\ttotal: 1m 18s\tremaining: 40.6s\n",
            "160:\tloss: 0.8660390\tbest: 0.8721006 (112)\ttotal: 1m 19s\tremaining: 40.4s\n",
            "161:\tloss: 0.8317141\tbest: 0.8721006 (112)\ttotal: 1m 20s\tremaining: 40.3s\n",
            "Estimating final quality...\n"
          ]
        },
        {
          "output_type": "execute_result",
          "data": {
            "text/plain": [
              "{'params': {'subsample': 1,\n",
              "  'random_strength': 1,\n",
              "  'depth': 4,\n",
              "  'learning_rate': 0.1,\n",
              "  'iterations': 50},\n",
              " 'cv_results': defaultdict(list,\n",
              "             {'iterations': [0, 49],\n",
              "              'test-AUC-mean': [0.7764729564630057, 0.847594861751922],\n",
              "              'test-AUC-std': [0.02375283367785925, 0.01606876508306207],\n",
              "              'train-AUC-mean': [0.7769676755350954, 0.8625074209353164],\n",
              "              'train-AUC-std': [0.004809977100599343, 0.001694672705631062],\n",
              "              'test-Logloss-mean': [0.6415751702046605, 0.41210231963962246],\n",
              "              'test-Logloss-std': [0.00210879208245954, 0.01761412552309923],\n",
              "              'train-Logloss-mean': [0.6413609078281264, 0.394641605013864],\n",
              "              'train-Logloss-std': [0.001106431955739257,\n",
              "               0.0021355550609682156]})}"
            ]
          },
          "metadata": {},
          "execution_count": 38
        }
      ]
    },
    {
      "cell_type": "code",
      "source": [
        "from pprint import pprint\n",
        "print(\"Best score:\", end=' ')\n",
        "pprint(my_catboost.best_score_)\n",
        "\n",
        "best_params = my_catboost.get_params()\n",
        "print(\"Best params:\", end=' ')\n",
        "pprint(best_params)"
      ],
      "metadata": {
        "colab": {
          "base_uri": "https://localhost:8080/"
        },
        "id": "OGbG4tarimfk",
        "outputId": "9e5396c7-149e-4faf-b531-a76e7fb86123"
      },
      "execution_count": 39,
      "outputs": [
        {
          "output_type": "stream",
          "name": "stdout",
          "text": [
            "Best score: {'learn': {'AUC': 0.8597384496866631, 'Logloss': 0.3997981294069469}}\n",
            "Best params: {'cat_features': ['Sex',\n",
            "                  'IsSeniorCitizen',\n",
            "                  'HasPartner',\n",
            "                  'HasChild',\n",
            "                  'HasPhoneService',\n",
            "                  'HasMultiplePhoneNumbers',\n",
            "                  'HasInternetService',\n",
            "                  'HasOnlineSecurityService',\n",
            "                  'HasOnlineBackup',\n",
            "                  'HasDeviceProtection',\n",
            "                  'HasTechSupportAccess',\n",
            "                  'HasOnlineTV',\n",
            "                  'HasMovieSubscription',\n",
            "                  'HasContractPhone',\n",
            "                  'IsBillingPaperless',\n",
            "                  'PaymentMethod'],\n",
            " 'depth': 4,\n",
            " 'eval_metric': 'AUC:hints=skip_train~false',\n",
            " 'grow_policy': 'Lossguide',\n",
            " 'iterations': 50,\n",
            " 'learning_rate': 0.1,\n",
            " 'logging_level': 'Silent',\n",
            " 'metric_period': 100,\n",
            " 'random_seed': 42,\n",
            " 'random_strength': 1,\n",
            " 'subsample': 1}\n"
          ]
        }
      ]
    },
    {
      "cell_type": "code",
      "source": [
        "catboost_submission = pd.read_csv(\"./submission.csv\")\n",
        "catboost_submission[\"Churn\"] = my_catboost.predict_proba(test)[:, 1]\n",
        "catboost_submission.to_csv(\"second_submit.csv\", index=False)"
      ],
      "metadata": {
        "id": "qmJnuZmkimi2"
      },
      "execution_count": 40,
      "outputs": []
    },
    {
      "cell_type": "markdown",
      "source": [
        "![image.png](data:image/png;base64,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)"
      ],
      "metadata": {
        "id": "1-6Dk58mlzGP"
      }
    },
    {
      "cell_type": "markdown",
      "metadata": {
        "id": "rf4Kjt96EEZU"
      },
      "source": [
        "Выпишите какое лучшее качество и с какими параметрами вам удалось получить"
      ]
    },
    {
      "cell_type": "code",
      "source": [
        "from pprint import pprint\n",
        "print(\"Best score:\", end=' ')\n",
        "pprint(my_catboost.best_score_)\n",
        "\n",
        "best_params = my_catboost.get_params()\n",
        "print(\"Best params:\", end=' ')\n",
        "pprint(best_params)"
      ],
      "metadata": {
        "colab": {
          "base_uri": "https://localhost:8080/"
        },
        "id": "zoNTgLk8l6OL",
        "outputId": "ad624c52-6010-4d3d-f92e-8642c4e8e425"
      },
      "execution_count": 41,
      "outputs": [
        {
          "output_type": "stream",
          "name": "stdout",
          "text": [
            "Best score: {'learn': {'AUC': 0.8597384496866631, 'Logloss': 0.3997981294069469}}\n",
            "Best params: {'cat_features': ['Sex',\n",
            "                  'IsSeniorCitizen',\n",
            "                  'HasPartner',\n",
            "                  'HasChild',\n",
            "                  'HasPhoneService',\n",
            "                  'HasMultiplePhoneNumbers',\n",
            "                  'HasInternetService',\n",
            "                  'HasOnlineSecurityService',\n",
            "                  'HasOnlineBackup',\n",
            "                  'HasDeviceProtection',\n",
            "                  'HasTechSupportAccess',\n",
            "                  'HasOnlineTV',\n",
            "                  'HasMovieSubscription',\n",
            "                  'HasContractPhone',\n",
            "                  'IsBillingPaperless',\n",
            "                  'PaymentMethod'],\n",
            " 'depth': 4,\n",
            " 'eval_metric': 'AUC:hints=skip_train~false',\n",
            " 'grow_policy': 'Lossguide',\n",
            " 'iterations': 50,\n",
            " 'learning_rate': 0.1,\n",
            " 'logging_level': 'Silent',\n",
            " 'metric_period': 100,\n",
            " 'random_seed': 42,\n",
            " 'random_strength': 1,\n",
            " 'subsample': 1}\n"
          ]
        }
      ]
    }
  ]
}