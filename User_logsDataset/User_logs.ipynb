{
 "cells": [
  {
   "cell_type": "markdown",
   "source": [
    "# User_logs dataset"
   ],
   "metadata": {
    "collapsed": false
   }
  },
  {
   "cell_type": "code",
   "execution_count": 48,
   "metadata": {
    "collapsed": true,
    "ExecuteTime": {
     "end_time": "2024-02-29T23:26:02.958612500Z",
     "start_time": "2024-02-29T23:26:01.910349600Z"
    }
   },
   "outputs": [],
   "source": [
    "import pandas as pd\n",
    "import seaborn as sns"
   ]
  },
  {
   "cell_type": "markdown",
   "source": [
    "### Чтение данных из файла"
   ],
   "metadata": {
    "collapsed": false
   }
  },
  {
   "cell_type": "code",
   "execution_count": 2,
   "outputs": [],
   "source": [
    "df1 = pd.read_csv('user.csv')\n",
    "df2 = pd.read_csv('logs.csv')"
   ],
   "metadata": {
    "collapsed": false,
    "ExecuteTime": {
     "end_time": "2024-02-29T23:02:56.654462900Z",
     "start_time": "2024-02-29T23:02:56.637959800Z"
    }
   }
  },
  {
   "cell_type": "markdown",
   "source": [
    "### Вывод данных, размер и информация о таблице"
   ],
   "metadata": {
    "collapsed": false
   }
  },
  {
   "cell_type": "code",
   "execution_count": 81,
   "outputs": [
    {
     "data": {
      "text/plain": "   client  premium  age\n0   46346    False   58\n1    4391    False   55\n2   27372    False   64\n3   11989    False   44\n4   60664    False   49",
      "text/html": "<div>\n<style scoped>\n    .dataframe tbody tr th:only-of-type {\n        vertical-align: middle;\n    }\n\n    .dataframe tbody tr th {\n        vertical-align: top;\n    }\n\n    .dataframe thead th {\n        text-align: right;\n    }\n</style>\n<table border=\"1\" class=\"dataframe\">\n  <thead>\n    <tr style=\"text-align: right;\">\n      <th></th>\n      <th>client</th>\n      <th>premium</th>\n      <th>age</th>\n    </tr>\n  </thead>\n  <tbody>\n    <tr>\n      <th>0</th>\n      <td>46346</td>\n      <td>False</td>\n      <td>58</td>\n    </tr>\n    <tr>\n      <th>1</th>\n      <td>4391</td>\n      <td>False</td>\n      <td>55</td>\n    </tr>\n    <tr>\n      <th>2</th>\n      <td>27372</td>\n      <td>False</td>\n      <td>64</td>\n    </tr>\n    <tr>\n      <th>3</th>\n      <td>11989</td>\n      <td>False</td>\n      <td>44</td>\n    </tr>\n    <tr>\n      <th>4</th>\n      <td>60664</td>\n      <td>False</td>\n      <td>49</td>\n    </tr>\n  </tbody>\n</table>\n</div>"
     },
     "execution_count": 81,
     "metadata": {},
     "output_type": "execute_result"
    }
   ],
   "source": [
    "df1.head()"
   ],
   "metadata": {
    "collapsed": false,
    "ExecuteTime": {
     "end_time": "2024-02-29T23:55:54.994270800Z",
     "start_time": "2024-02-29T23:55:54.980768800Z"
    }
   }
  },
  {
   "cell_type": "code",
   "execution_count": 82,
   "outputs": [
    {
     "data": {
      "text/plain": "   client  success  platform        time\n0   40177     True     phone  1585412212\n1   61468     True     phone  1585425658\n2   35604    False     phone  1585459894\n3    9961     True     phone  1585400189\n4   10931     True  computer  1585468629",
      "text/html": "<div>\n<style scoped>\n    .dataframe tbody tr th:only-of-type {\n        vertical-align: middle;\n    }\n\n    .dataframe tbody tr th {\n        vertical-align: top;\n    }\n\n    .dataframe thead th {\n        text-align: right;\n    }\n</style>\n<table border=\"1\" class=\"dataframe\">\n  <thead>\n    <tr style=\"text-align: right;\">\n      <th></th>\n      <th>client</th>\n      <th>success</th>\n      <th>platform</th>\n      <th>time</th>\n    </tr>\n  </thead>\n  <tbody>\n    <tr>\n      <th>0</th>\n      <td>40177</td>\n      <td>True</td>\n      <td>phone</td>\n      <td>1585412212</td>\n    </tr>\n    <tr>\n      <th>1</th>\n      <td>61468</td>\n      <td>True</td>\n      <td>phone</td>\n      <td>1585425658</td>\n    </tr>\n    <tr>\n      <th>2</th>\n      <td>35604</td>\n      <td>False</td>\n      <td>phone</td>\n      <td>1585459894</td>\n    </tr>\n    <tr>\n      <th>3</th>\n      <td>9961</td>\n      <td>True</td>\n      <td>phone</td>\n      <td>1585400189</td>\n    </tr>\n    <tr>\n      <th>4</th>\n      <td>10931</td>\n      <td>True</td>\n      <td>computer</td>\n      <td>1585468629</td>\n    </tr>\n  </tbody>\n</table>\n</div>"
     },
     "execution_count": 82,
     "metadata": {},
     "output_type": "execute_result"
    }
   ],
   "source": [
    "df2.head()"
   ],
   "metadata": {
    "collapsed": false,
    "ExecuteTime": {
     "end_time": "2024-02-29T23:55:59.498927700Z",
     "start_time": "2024-02-29T23:55:59.487403600Z"
    }
   }
  },
  {
   "cell_type": "code",
   "execution_count": 7,
   "outputs": [
    {
     "data": {
      "text/plain": "(2954, 3)"
     },
     "execution_count": 7,
     "metadata": {},
     "output_type": "execute_result"
    }
   ],
   "source": [
    "df1.shape"
   ],
   "metadata": {
    "collapsed": false,
    "ExecuteTime": {
     "end_time": "2024-02-29T23:04:02.775642800Z",
     "start_time": "2024-02-29T23:04:02.765643600Z"
    }
   }
  },
  {
   "cell_type": "code",
   "execution_count": 8,
   "outputs": [
    {
     "data": {
      "text/plain": "(4500, 4)"
     },
     "execution_count": 8,
     "metadata": {},
     "output_type": "execute_result"
    }
   ],
   "source": [
    "df2.shape"
   ],
   "metadata": {
    "collapsed": false,
    "ExecuteTime": {
     "end_time": "2024-02-29T23:04:07.473284100Z",
     "start_time": "2024-02-29T23:04:07.465288300Z"
    }
   }
  },
  {
   "cell_type": "code",
   "execution_count": 9,
   "outputs": [
    {
     "name": "stdout",
     "output_type": "stream",
     "text": [
      "<class 'pandas.core.frame.DataFrame'>\n",
      "RangeIndex: 2954 entries, 0 to 2953\n",
      "Data columns (total 3 columns):\n",
      " #   Column   Non-Null Count  Dtype\n",
      "---  ------   --------------  -----\n",
      " 0   client   2954 non-null   int64\n",
      " 1   premium  2954 non-null   bool \n",
      " 2   age      2954 non-null   int64\n",
      "dtypes: bool(1), int64(2)\n",
      "memory usage: 49.2 KB\n"
     ]
    }
   ],
   "source": [
    "df1.info()"
   ],
   "metadata": {
    "collapsed": false,
    "ExecuteTime": {
     "end_time": "2024-02-29T23:04:21.321322100Z",
     "start_time": "2024-02-29T23:04:21.309255600Z"
    }
   }
  },
  {
   "cell_type": "code",
   "execution_count": 10,
   "outputs": [
    {
     "name": "stdout",
     "output_type": "stream",
     "text": [
      "<class 'pandas.core.frame.DataFrame'>\n",
      "RangeIndex: 4500 entries, 0 to 4499\n",
      "Data columns (total 4 columns):\n",
      " #   Column    Non-Null Count  Dtype \n",
      "---  ------    --------------  ----- \n",
      " 0   client    4500 non-null   int64 \n",
      " 1   success   4500 non-null   bool  \n",
      " 2   platform  4500 non-null   object\n",
      " 3   time      4500 non-null   int64 \n",
      "dtypes: bool(1), int64(2), object(1)\n",
      "memory usage: 110.0+ KB\n"
     ]
    }
   ],
   "source": [
    "df2.info()"
   ],
   "metadata": {
    "collapsed": false,
    "ExecuteTime": {
     "end_time": "2024-02-29T23:04:25.926187Z",
     "start_time": "2024-02-29T23:04:25.922686700Z"
    }
   }
  },
  {
   "cell_type": "markdown",
   "source": [
    "### Количество уникальных значений столбца platform"
   ],
   "metadata": {
    "collapsed": false
   }
  },
  {
   "cell_type": "code",
   "execution_count": 6,
   "outputs": [
    {
     "data": {
      "text/plain": "3"
     },
     "execution_count": 6,
     "metadata": {},
     "output_type": "execute_result"
    }
   ],
   "source": [
    "df2['platform'].nunique()"
   ],
   "metadata": {
    "collapsed": false,
    "ExecuteTime": {
     "end_time": "2024-02-29T23:03:40.121457600Z",
     "start_time": "2024-02-29T23:03:40.110455200Z"
    }
   }
  },
  {
   "cell_type": "markdown",
   "source": [
    "### Клиенты, совершившие наибольшее количество успешных операций"
   ],
   "metadata": {
    "collapsed": false
   }
  },
  {
   "cell_type": "code",
   "execution_count": 40,
   "outputs": [
    {
     "data": {
      "text/plain": "[12179, 61468, 52870, 61473, 92584, 82563, 78349, 36165, 28719]"
     },
     "execution_count": 40,
     "metadata": {},
     "output_type": "execute_result"
    }
   ],
   "source": [
    "df2_success = df2.query('success == True')\\\n",
    "    .groupby('client', as_index=False)\\\n",
    "    .agg({'success': 'count'})\\\n",
    "    .sort_values('success', ascending=False)\n",
    "df2_success.query('success == @df2_success.success.max()').client.tolist()"
   ],
   "metadata": {
    "collapsed": false,
    "ExecuteTime": {
     "end_time": "2024-02-29T23:18:29.414786500Z",
     "start_time": "2024-02-29T23:18:29.405338600Z"
    }
   }
  },
  {
   "cell_type": "markdown",
   "source": [
    "### Платформы и количество успешных операций"
   ],
   "metadata": {
    "collapsed": false
   }
  },
  {
   "cell_type": "code",
   "execution_count": 43,
   "outputs": [
    {
     "data": {
      "text/plain": "          success\nplatform         \ncomputer     1090\nphone        2019\ntablet        180",
      "text/html": "<div>\n<style scoped>\n    .dataframe tbody tr th:only-of-type {\n        vertical-align: middle;\n    }\n\n    .dataframe tbody tr th {\n        vertical-align: top;\n    }\n\n    .dataframe thead th {\n        text-align: right;\n    }\n</style>\n<table border=\"1\" class=\"dataframe\">\n  <thead>\n    <tr style=\"text-align: right;\">\n      <th></th>\n      <th>success</th>\n    </tr>\n    <tr>\n      <th>platform</th>\n      <th></th>\n    </tr>\n  </thead>\n  <tbody>\n    <tr>\n      <th>computer</th>\n      <td>1090</td>\n    </tr>\n    <tr>\n      <th>phone</th>\n      <td>2019</td>\n    </tr>\n    <tr>\n      <th>tablet</th>\n      <td>180</td>\n    </tr>\n  </tbody>\n</table>\n</div>"
     },
     "execution_count": 43,
     "metadata": {},
     "output_type": "execute_result"
    }
   ],
   "source": [
    "df2.query('success == True').groupby('platform').agg({'success': 'count'})"
   ],
   "metadata": {
    "collapsed": false,
    "ExecuteTime": {
     "end_time": "2024-02-29T23:20:27.794795400Z",
     "start_time": "2024-02-29T23:20:27.783295500Z"
    }
   }
  },
  {
   "cell_type": "markdown",
   "source": [
    "### Джойн таблиц"
   ],
   "metadata": {
    "collapsed": false
   }
  },
  {
   "cell_type": "code",
   "execution_count": 45,
   "outputs": [
    {
     "data": {
      "text/plain": "      client  premium  age  success  platform        time\n0      46346    False   58     True     phone  1585452839\n1       4391    False   55    False     phone  1585409861\n2      27372    False   64    False     phone  1585446018\n3      11989    False   44     True  computer  1585403698\n4      60664    False   49     True     phone  1585406918\n...      ...      ...  ...      ...       ...         ...\n3434   19411    False   29     True     phone  1585400902\n3435   61579    False   50     True     phone  1585436158\n3436   61221     True   64     True     phone  1585440218\n3437   29863    False   46     True    tablet  1585443437\n3438   78499    False   36    False     phone  1585425483\n\n[3439 rows x 6 columns]",
      "text/html": "<div>\n<style scoped>\n    .dataframe tbody tr th:only-of-type {\n        vertical-align: middle;\n    }\n\n    .dataframe tbody tr th {\n        vertical-align: top;\n    }\n\n    .dataframe thead th {\n        text-align: right;\n    }\n</style>\n<table border=\"1\" class=\"dataframe\">\n  <thead>\n    <tr style=\"text-align: right;\">\n      <th></th>\n      <th>client</th>\n      <th>premium</th>\n      <th>age</th>\n      <th>success</th>\n      <th>platform</th>\n      <th>time</th>\n    </tr>\n  </thead>\n  <tbody>\n    <tr>\n      <th>0</th>\n      <td>46346</td>\n      <td>False</td>\n      <td>58</td>\n      <td>True</td>\n      <td>phone</td>\n      <td>1585452839</td>\n    </tr>\n    <tr>\n      <th>1</th>\n      <td>4391</td>\n      <td>False</td>\n      <td>55</td>\n      <td>False</td>\n      <td>phone</td>\n      <td>1585409861</td>\n    </tr>\n    <tr>\n      <th>2</th>\n      <td>27372</td>\n      <td>False</td>\n      <td>64</td>\n      <td>False</td>\n      <td>phone</td>\n      <td>1585446018</td>\n    </tr>\n    <tr>\n      <th>3</th>\n      <td>11989</td>\n      <td>False</td>\n      <td>44</td>\n      <td>True</td>\n      <td>computer</td>\n      <td>1585403698</td>\n    </tr>\n    <tr>\n      <th>4</th>\n      <td>60664</td>\n      <td>False</td>\n      <td>49</td>\n      <td>True</td>\n      <td>phone</td>\n      <td>1585406918</td>\n    </tr>\n    <tr>\n      <th>...</th>\n      <td>...</td>\n      <td>...</td>\n      <td>...</td>\n      <td>...</td>\n      <td>...</td>\n      <td>...</td>\n    </tr>\n    <tr>\n      <th>3434</th>\n      <td>19411</td>\n      <td>False</td>\n      <td>29</td>\n      <td>True</td>\n      <td>phone</td>\n      <td>1585400902</td>\n    </tr>\n    <tr>\n      <th>3435</th>\n      <td>61579</td>\n      <td>False</td>\n      <td>50</td>\n      <td>True</td>\n      <td>phone</td>\n      <td>1585436158</td>\n    </tr>\n    <tr>\n      <th>3436</th>\n      <td>61221</td>\n      <td>True</td>\n      <td>64</td>\n      <td>True</td>\n      <td>phone</td>\n      <td>1585440218</td>\n    </tr>\n    <tr>\n      <th>3437</th>\n      <td>29863</td>\n      <td>False</td>\n      <td>46</td>\n      <td>True</td>\n      <td>tablet</td>\n      <td>1585443437</td>\n    </tr>\n    <tr>\n      <th>3438</th>\n      <td>78499</td>\n      <td>False</td>\n      <td>36</td>\n      <td>False</td>\n      <td>phone</td>\n      <td>1585425483</td>\n    </tr>\n  </tbody>\n</table>\n<p>3439 rows × 6 columns</p>\n</div>"
     },
     "execution_count": 45,
     "metadata": {},
     "output_type": "execute_result"
    }
   ],
   "source": [
    "df_merge = df1.merge(df2, on='client', how='inner')\n",
    "df_merge"
   ],
   "metadata": {
    "collapsed": false,
    "ExecuteTime": {
     "end_time": "2024-02-29T23:22:17.957330100Z",
     "start_time": "2024-02-29T23:22:17.942829500Z"
    }
   }
  },
  {
   "cell_type": "markdown",
   "source": [
    "### Наиболее популярная платформа среди премиумных клиентов"
   ],
   "metadata": {
    "collapsed": false
   }
  },
  {
   "cell_type": "code",
   "execution_count": 47,
   "outputs": [
    {
     "data": {
      "text/plain": "          success\nplatform         \ncomputer      108\nphone         177\ntablet         18",
      "text/html": "<div>\n<style scoped>\n    .dataframe tbody tr th:only-of-type {\n        vertical-align: middle;\n    }\n\n    .dataframe tbody tr th {\n        vertical-align: top;\n    }\n\n    .dataframe thead th {\n        text-align: right;\n    }\n</style>\n<table border=\"1\" class=\"dataframe\">\n  <thead>\n    <tr style=\"text-align: right;\">\n      <th></th>\n      <th>success</th>\n    </tr>\n    <tr>\n      <th>platform</th>\n      <th></th>\n    </tr>\n  </thead>\n  <tbody>\n    <tr>\n      <th>computer</th>\n      <td>108</td>\n    </tr>\n    <tr>\n      <th>phone</th>\n      <td>177</td>\n    </tr>\n    <tr>\n      <th>tablet</th>\n      <td>18</td>\n    </tr>\n  </tbody>\n</table>\n</div>"
     },
     "execution_count": 47,
     "metadata": {},
     "output_type": "execute_result"
    }
   ],
   "source": [
    "df_merge.query('success == True and premium == True').groupby('platform').agg({'success': 'count'})"
   ],
   "metadata": {
    "collapsed": false,
    "ExecuteTime": {
     "end_time": "2024-02-29T23:23:34.160953800Z",
     "start_time": "2024-02-29T23:23:34.149912900Z"
    }
   }
  },
  {
   "cell_type": "markdown",
   "source": [
    "### Визуализация распределения возраста клиентов от их типов"
   ],
   "metadata": {
    "collapsed": false
   }
  },
  {
   "cell_type": "code",
   "execution_count": 54,
   "outputs": [
    {
     "name": "stderr",
     "output_type": "stream",
     "text": [
      "C:\\Users\\egorn\\AppData\\Local\\Temp\\ipykernel_52812\\2748378094.py:1: UserWarning: \n",
      "\n",
      "`distplot` is a deprecated function and will be removed in seaborn v0.14.0.\n",
      "\n",
      "Please adapt your code to use either `displot` (a figure-level function with\n",
      "similar flexibility) or `histplot` (an axes-level function for histograms).\n",
      "\n",
      "For a guide to updating your code to use the new functions, please see\n",
      "https://gist.github.com/mwaskom/de44147ed2974457ad6372750bbe5751\n",
      "\n",
      "  sns.distplot(df_merge.query('premium == True').age)\n",
      "C:\\Users\\egorn\\AppData\\Local\\Temp\\ipykernel_52812\\2748378094.py:2: UserWarning: \n",
      "\n",
      "`distplot` is a deprecated function and will be removed in seaborn v0.14.0.\n",
      "\n",
      "Please adapt your code to use either `displot` (a figure-level function with\n",
      "similar flexibility) or `histplot` (an axes-level function for histograms).\n",
      "\n",
      "For a guide to updating your code to use the new functions, please see\n",
      "https://gist.github.com/mwaskom/de44147ed2974457ad6372750bbe5751\n",
      "\n",
      "  sns.distplot(df_merge.query('premium == False').age)\n"
     ]
    },
    {
     "data": {
      "text/plain": "<Axes: xlabel='age', ylabel='Density'>"
     },
     "execution_count": 54,
     "metadata": {},
     "output_type": "execute_result"
    },
    {
     "data": {
      "text/plain": "<Figure size 640x480 with 1 Axes>",
      "image/png": "[encoded data removed]"
     },
     "metadata": {},
     "output_type": "display_data"
    }
   ],
   "source": [
    "sns.distplot(df_merge.query('premium == True').age)\n",
    "sns.distplot(df_merge.query('premium == False').age)"
   ],
   "metadata": {
    "collapsed": false,
    "ExecuteTime": {
     "end_time": "2024-02-29T23:29:51.016008700Z",
     "start_time": "2024-02-29T23:29:50.805482600Z"
    }
   }
  },
  {
   "cell_type": "markdown",
   "source": [
    "### Визуализация распределения количества успешных операций от количества клиентов"
   ],
   "metadata": {
    "collapsed": false
   }
  },
  {
   "cell_type": "code",
   "execution_count": 67,
   "outputs": [
    {
     "data": {
      "text/plain": "<seaborn.axisgrid.FacetGrid at 0x281fd73c040>"
     },
     "execution_count": 67,
     "metadata": {},
     "output_type": "execute_result"
    },
    {
     "data": {
      "text/plain": "<Figure size 603.875x500 with 1 Axes>",
      "image/png": "[encoded data removed]"
     },
     "metadata": {},
     "output_type": "display_data"
    }
   ],
   "source": [
    "sns.displot(df_merge.query('success == True').groupby('client').agg({'success': 'sum'}), kind='kde')"
   ],
   "metadata": {
    "collapsed": false,
    "ExecuteTime": {
     "end_time": "2024-02-29T23:42:11.995361600Z",
     "start_time": "2024-02-29T23:42:11.714859100Z"
    }
   }
  },
  {
   "cell_type": "markdown",
   "source": [
    "### Визуализация распределения количества успешных операций на платформе computer от возраста клиентов"
   ],
   "metadata": {
    "collapsed": false
   }
  },
  {
   "cell_type": "code",
   "execution_count": 78,
   "outputs": [
    {
     "data": {
      "text/plain": "<Axes: xlabel='age', ylabel='success'>"
     },
     "execution_count": 78,
     "metadata": {},
     "output_type": "execute_result"
    },
    {
     "data": {
      "text/plain": "<Figure size 640x480 with 1 Axes>",
      "image/png": "[encoded data removed]"
     },
     "metadata": {},
     "output_type": "display_data"
    }
   ],
   "source": [
    "df_bar = df_merge.query('success == True and platform == \"computer\"').groupby('age').agg({'success': 'sum'}).reset_index()\n",
    "sns.barplot(x=df_bar.age, y=df_bar.success)"
   ],
   "metadata": {
    "collapsed": false,
    "ExecuteTime": {
     "end_time": "2024-02-29T23:52:44.889506400Z",
     "start_time": "2024-02-29T23:52:44.365506400Z"
    }
   }
  },
  {
   "cell_type": "code",
   "execution_count": null,
   "outputs": [],
   "source": [],
   "metadata": {
    "collapsed": false
   }
  }
 ],
 "metadata": {
  "kernelspec": {
   "display_name": "Python 3",
   "language": "python",
   "name": "python3"
  },
  "language_info": {
   "codemirror_mode": {
    "name": "ipython",
    "version": 2
   },
   "file_extension": ".py",
   "mimetype": "text/x-python",
   "name": "python",
   "nbconvert_exporter": "python",
   "pygments_lexer": "ipython2",
   "version": "2.7.6"
  }
 },
 "nbformat": 4,
 "nbformat_minor": 0
}
