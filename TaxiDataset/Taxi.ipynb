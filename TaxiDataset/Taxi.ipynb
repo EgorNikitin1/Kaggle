{
 "cells": [
  {
   "cell_type": "markdown",
   "source": [
    "# Taxi dataset"
   ],
   "metadata": {
    "collapsed": false
   }
  },
  {
   "cell_type": "code",
   "execution_count": 51,
   "metadata": {
    "collapsed": true,
    "ExecuteTime": {
     "end_time": "2024-02-29T22:56:04.095582300Z",
     "start_time": "2024-02-29T22:56:03.214697900Z"
    }
   },
   "outputs": [],
   "source": [
    "import pandas as pd\n",
    "import seaborn as sns"
   ]
  },
  {
   "cell_type": "markdown",
   "source": [
    "### Чтение данных из файла"
   ],
   "metadata": {
    "collapsed": false
   }
  },
  {
   "cell_type": "code",
   "execution_count": 40,
   "outputs": [],
   "source": [
    "df = pd.read_csv('taxi.csv')"
   ],
   "metadata": {
    "collapsed": false,
    "ExecuteTime": {
     "end_time": "2024-02-29T22:40:15.806955100Z",
     "start_time": "2024-02-29T22:40:15.755956100Z"
    }
   }
  },
  {
   "cell_type": "markdown",
   "source": [
    "### Вывод данных, размер и информация о таблице"
   ],
   "metadata": {
    "collapsed": false
   }
  },
  {
   "cell_type": "code",
   "execution_count": 41,
   "outputs": [
    {
     "data": {
      "text/plain": "             pickup_dt pickup_month    borough  pickups hday  spd   vsb  temp  \\\n0  2015-01-01 01:00:00          Jan      Bronx      152    Y  5.0  10.0  30.0   \n1  2015-01-01 01:00:00          Jan   Brooklyn     1519    Y  5.0  10.0  30.0   \n2  2015-01-01 01:00:00          Jan        EWR        0    Y  5.0  10.0  30.0   \n3  2015-01-01 01:00:00          Jan  Manhattan     5258    Y  5.0  10.0  30.0   \n4  2015-01-01 01:00:00          Jan     Queens      405    Y  5.0  10.0  30.0   \n\n   dewp     slp  pcp 01  pcp 06  pcp 24   sd  \n0   7.0  1023.5     0.0     0.0     0.0  0.0  \n1   7.0  1023.5     0.0     0.0     0.0  0.0  \n2   7.0  1023.5     0.0     0.0     0.0  0.0  \n3   7.0  1023.5     0.0     0.0     0.0  0.0  \n4   7.0  1023.5     0.0     0.0     0.0  0.0  ",
      "text/html": "<div>\n<style scoped>\n    .dataframe tbody tr th:only-of-type {\n        vertical-align: middle;\n    }\n\n    .dataframe tbody tr th {\n        vertical-align: top;\n    }\n\n    .dataframe thead th {\n        text-align: right;\n    }\n</style>\n<table border=\"1\" class=\"dataframe\">\n  <thead>\n    <tr style=\"text-align: right;\">\n      <th></th>\n      <th>pickup_dt</th>\n      <th>pickup_month</th>\n      <th>borough</th>\n      <th>pickups</th>\n      <th>hday</th>\n      <th>spd</th>\n      <th>vsb</th>\n      <th>temp</th>\n      <th>dewp</th>\n      <th>slp</th>\n      <th>pcp 01</th>\n      <th>pcp 06</th>\n      <th>pcp 24</th>\n      <th>sd</th>\n    </tr>\n  </thead>\n  <tbody>\n    <tr>\n      <th>0</th>\n      <td>2015-01-01 01:00:00</td>\n      <td>Jan</td>\n      <td>Bronx</td>\n      <td>152</td>\n      <td>Y</td>\n      <td>5.0</td>\n      <td>10.0</td>\n      <td>30.0</td>\n      <td>7.0</td>\n      <td>1023.5</td>\n      <td>0.0</td>\n      <td>0.0</td>\n      <td>0.0</td>\n      <td>0.0</td>\n    </tr>\n    <tr>\n      <th>1</th>\n      <td>2015-01-01 01:00:00</td>\n      <td>Jan</td>\n      <td>Brooklyn</td>\n      <td>1519</td>\n      <td>Y</td>\n      <td>5.0</td>\n      <td>10.0</td>\n      <td>30.0</td>\n      <td>7.0</td>\n      <td>1023.5</td>\n      <td>0.0</td>\n      <td>0.0</td>\n      <td>0.0</td>\n      <td>0.0</td>\n    </tr>\n    <tr>\n      <th>2</th>\n      <td>2015-01-01 01:00:00</td>\n      <td>Jan</td>\n      <td>EWR</td>\n      <td>0</td>\n      <td>Y</td>\n      <td>5.0</td>\n      <td>10.0</td>\n      <td>30.0</td>\n      <td>7.0</td>\n      <td>1023.5</td>\n      <td>0.0</td>\n      <td>0.0</td>\n      <td>0.0</td>\n      <td>0.0</td>\n    </tr>\n    <tr>\n      <th>3</th>\n      <td>2015-01-01 01:00:00</td>\n      <td>Jan</td>\n      <td>Manhattan</td>\n      <td>5258</td>\n      <td>Y</td>\n      <td>5.0</td>\n      <td>10.0</td>\n      <td>30.0</td>\n      <td>7.0</td>\n      <td>1023.5</td>\n      <td>0.0</td>\n      <td>0.0</td>\n      <td>0.0</td>\n      <td>0.0</td>\n    </tr>\n    <tr>\n      <th>4</th>\n      <td>2015-01-01 01:00:00</td>\n      <td>Jan</td>\n      <td>Queens</td>\n      <td>405</td>\n      <td>Y</td>\n      <td>5.0</td>\n      <td>10.0</td>\n      <td>30.0</td>\n      <td>7.0</td>\n      <td>1023.5</td>\n      <td>0.0</td>\n      <td>0.0</td>\n      <td>0.0</td>\n      <td>0.0</td>\n    </tr>\n  </tbody>\n</table>\n</div>"
     },
     "execution_count": 41,
     "metadata": {},
     "output_type": "execute_result"
    }
   ],
   "source": [
    "df.head()"
   ],
   "metadata": {
    "collapsed": false,
    "ExecuteTime": {
     "end_time": "2024-02-29T22:40:16.695421200Z",
     "start_time": "2024-02-29T22:40:16.673920500Z"
    }
   }
  },
  {
   "cell_type": "code",
   "execution_count": 3,
   "outputs": [
    {
     "data": {
      "text/plain": "(29101, 14)"
     },
     "execution_count": 3,
     "metadata": {},
     "output_type": "execute_result"
    }
   ],
   "source": [
    "df.shape"
   ],
   "metadata": {
    "collapsed": false,
    "ExecuteTime": {
     "end_time": "2024-02-29T22:12:28.454831400Z",
     "start_time": "2024-02-29T22:12:28.450331700Z"
    }
   }
  },
  {
   "cell_type": "code",
   "execution_count": 4,
   "outputs": [
    {
     "name": "stdout",
     "output_type": "stream",
     "text": [
      "<class 'pandas.core.frame.DataFrame'>\n",
      "RangeIndex: 29101 entries, 0 to 29100\n",
      "Data columns (total 14 columns):\n",
      " #   Column        Non-Null Count  Dtype  \n",
      "---  ------        --------------  -----  \n",
      " 0   pickup_dt     29101 non-null  object \n",
      " 1   pickup_month  29101 non-null  object \n",
      " 2   borough       26058 non-null  object \n",
      " 3   pickups       29101 non-null  int64  \n",
      " 4   hday          29101 non-null  object \n",
      " 5   spd           29101 non-null  float64\n",
      " 6   vsb           29101 non-null  float64\n",
      " 7   temp          29101 non-null  float64\n",
      " 8   dewp          29101 non-null  float64\n",
      " 9   slp           29101 non-null  float64\n",
      " 10  pcp 01        29101 non-null  float64\n",
      " 11  pcp 06        29101 non-null  float64\n",
      " 12  pcp 24        29101 non-null  float64\n",
      " 13  sd            29101 non-null  float64\n",
      "dtypes: float64(9), int64(1), object(4)\n",
      "memory usage: 3.1+ MB\n"
     ]
    }
   ],
   "source": [
    "df.info()"
   ],
   "metadata": {
    "collapsed": false,
    "ExecuteTime": {
     "end_time": "2024-02-29T22:12:32.629604400Z",
     "start_time": "2024-02-29T22:12:32.608607400Z"
    }
   }
  },
  {
   "cell_type": "markdown",
   "source": [
    "### Корректировка названия столбцов"
   ],
   "metadata": {
    "collapsed": false
   }
  },
  {
   "cell_type": "code",
   "execution_count": 5,
   "outputs": [
    {
     "data": {
      "text/plain": "                 pickup_dt pickup_month        borough  pickups hday  spd  \\\n0      2015-01-01 01:00:00          Jan          Bronx      152    Y  5.0   \n1      2015-01-01 01:00:00          Jan       Brooklyn     1519    Y  5.0   \n2      2015-01-01 01:00:00          Jan            EWR        0    Y  5.0   \n3      2015-01-01 01:00:00          Jan      Manhattan     5258    Y  5.0   \n4      2015-01-01 01:00:00          Jan         Queens      405    Y  5.0   \n...                    ...          ...            ...      ...  ...  ...   \n29096  2015-06-30 23:00:00          Jun            EWR        0    N  7.0   \n29097  2015-06-30 23:00:00          Jun      Manhattan     3828    N  7.0   \n29098  2015-06-30 23:00:00          Jun         Queens      580    N  7.0   \n29099  2015-06-30 23:00:00          Jun  Staten Island        0    N  7.0   \n29100  2015-06-30 23:00:00          Jun            NaN        3    N  7.0   \n\n        vsb  temp  dewp     slp  pcp_01  pcp_06  pcp_24   sd  \n0      10.0  30.0   7.0  1023.5     0.0     0.0     0.0  0.0  \n1      10.0  30.0   7.0  1023.5     0.0     0.0     0.0  0.0  \n2      10.0  30.0   7.0  1023.5     0.0     0.0     0.0  0.0  \n3      10.0  30.0   7.0  1023.5     0.0     0.0     0.0  0.0  \n4      10.0  30.0   7.0  1023.5     0.0     0.0     0.0  0.0  \n...     ...   ...   ...     ...     ...     ...     ...  ...  \n29096  10.0  75.0  65.0  1011.8     0.0     0.0     0.0  0.0  \n29097  10.0  75.0  65.0  1011.8     0.0     0.0     0.0  0.0  \n29098  10.0  75.0  65.0  1011.8     0.0     0.0     0.0  0.0  \n29099  10.0  75.0  65.0  1011.8     0.0     0.0     0.0  0.0  \n29100  10.0  75.0  65.0  1011.8     0.0     0.0     0.0  0.0  \n\n[29101 rows x 14 columns]",
      "text/html": "<div>\n<style scoped>\n    .dataframe tbody tr th:only-of-type {\n        vertical-align: middle;\n    }\n\n    .dataframe tbody tr th {\n        vertical-align: top;\n    }\n\n    .dataframe thead th {\n        text-align: right;\n    }\n</style>\n<table border=\"1\" class=\"dataframe\">\n  <thead>\n    <tr style=\"text-align: right;\">\n      <th></th>\n      <th>pickup_dt</th>\n      <th>pickup_month</th>\n      <th>borough</th>\n      <th>pickups</th>\n      <th>hday</th>\n      <th>spd</th>\n      <th>vsb</th>\n      <th>temp</th>\n      <th>dewp</th>\n      <th>slp</th>\n      <th>pcp_01</th>\n      <th>pcp_06</th>\n      <th>pcp_24</th>\n      <th>sd</th>\n    </tr>\n  </thead>\n  <tbody>\n    <tr>\n      <th>0</th>\n      <td>2015-01-01 01:00:00</td>\n      <td>Jan</td>\n      <td>Bronx</td>\n      <td>152</td>\n      <td>Y</td>\n      <td>5.0</td>\n      <td>10.0</td>\n      <td>30.0</td>\n      <td>7.0</td>\n      <td>1023.5</td>\n      <td>0.0</td>\n      <td>0.0</td>\n      <td>0.0</td>\n      <td>0.0</td>\n    </tr>\n    <tr>\n      <th>1</th>\n      <td>2015-01-01 01:00:00</td>\n      <td>Jan</td>\n      <td>Brooklyn</td>\n      <td>1519</td>\n      <td>Y</td>\n      <td>5.0</td>\n      <td>10.0</td>\n      <td>30.0</td>\n      <td>7.0</td>\n      <td>1023.5</td>\n      <td>0.0</td>\n      <td>0.0</td>\n      <td>0.0</td>\n      <td>0.0</td>\n    </tr>\n    <tr>\n      <th>2</th>\n      <td>2015-01-01 01:00:00</td>\n      <td>Jan</td>\n      <td>EWR</td>\n      <td>0</td>\n      <td>Y</td>\n      <td>5.0</td>\n      <td>10.0</td>\n      <td>30.0</td>\n      <td>7.0</td>\n      <td>1023.5</td>\n      <td>0.0</td>\n      <td>0.0</td>\n      <td>0.0</td>\n      <td>0.0</td>\n    </tr>\n    <tr>\n      <th>3</th>\n      <td>2015-01-01 01:00:00</td>\n      <td>Jan</td>\n      <td>Manhattan</td>\n      <td>5258</td>\n      <td>Y</td>\n      <td>5.0</td>\n      <td>10.0</td>\n      <td>30.0</td>\n      <td>7.0</td>\n      <td>1023.5</td>\n      <td>0.0</td>\n      <td>0.0</td>\n      <td>0.0</td>\n      <td>0.0</td>\n    </tr>\n    <tr>\n      <th>4</th>\n      <td>2015-01-01 01:00:00</td>\n      <td>Jan</td>\n      <td>Queens</td>\n      <td>405</td>\n      <td>Y</td>\n      <td>5.0</td>\n      <td>10.0</td>\n      <td>30.0</td>\n      <td>7.0</td>\n      <td>1023.5</td>\n      <td>0.0</td>\n      <td>0.0</td>\n      <td>0.0</td>\n      <td>0.0</td>\n    </tr>\n    <tr>\n      <th>...</th>\n      <td>...</td>\n      <td>...</td>\n      <td>...</td>\n      <td>...</td>\n      <td>...</td>\n      <td>...</td>\n      <td>...</td>\n      <td>...</td>\n      <td>...</td>\n      <td>...</td>\n      <td>...</td>\n      <td>...</td>\n      <td>...</td>\n      <td>...</td>\n    </tr>\n    <tr>\n      <th>29096</th>\n      <td>2015-06-30 23:00:00</td>\n      <td>Jun</td>\n      <td>EWR</td>\n      <td>0</td>\n      <td>N</td>\n      <td>7.0</td>\n      <td>10.0</td>\n      <td>75.0</td>\n      <td>65.0</td>\n      <td>1011.8</td>\n      <td>0.0</td>\n      <td>0.0</td>\n      <td>0.0</td>\n      <td>0.0</td>\n    </tr>\n    <tr>\n      <th>29097</th>\n      <td>2015-06-30 23:00:00</td>\n      <td>Jun</td>\n      <td>Manhattan</td>\n      <td>3828</td>\n      <td>N</td>\n      <td>7.0</td>\n      <td>10.0</td>\n      <td>75.0</td>\n      <td>65.0</td>\n      <td>1011.8</td>\n      <td>0.0</td>\n      <td>0.0</td>\n      <td>0.0</td>\n      <td>0.0</td>\n    </tr>\n    <tr>\n      <th>29098</th>\n      <td>2015-06-30 23:00:00</td>\n      <td>Jun</td>\n      <td>Queens</td>\n      <td>580</td>\n      <td>N</td>\n      <td>7.0</td>\n      <td>10.0</td>\n      <td>75.0</td>\n      <td>65.0</td>\n      <td>1011.8</td>\n      <td>0.0</td>\n      <td>0.0</td>\n      <td>0.0</td>\n      <td>0.0</td>\n    </tr>\n    <tr>\n      <th>29099</th>\n      <td>2015-06-30 23:00:00</td>\n      <td>Jun</td>\n      <td>Staten Island</td>\n      <td>0</td>\n      <td>N</td>\n      <td>7.0</td>\n      <td>10.0</td>\n      <td>75.0</td>\n      <td>65.0</td>\n      <td>1011.8</td>\n      <td>0.0</td>\n      <td>0.0</td>\n      <td>0.0</td>\n      <td>0.0</td>\n    </tr>\n    <tr>\n      <th>29100</th>\n      <td>2015-06-30 23:00:00</td>\n      <td>Jun</td>\n      <td>NaN</td>\n      <td>3</td>\n      <td>N</td>\n      <td>7.0</td>\n      <td>10.0</td>\n      <td>75.0</td>\n      <td>65.0</td>\n      <td>1011.8</td>\n      <td>0.0</td>\n      <td>0.0</td>\n      <td>0.0</td>\n      <td>0.0</td>\n    </tr>\n  </tbody>\n</table>\n<p>29101 rows × 14 columns</p>\n</div>"
     },
     "execution_count": 5,
     "metadata": {},
     "output_type": "execute_result"
    }
   ],
   "source": [
    "def correct_columns(name):\n",
    "    return name.replace(' ', '_')\n",
    "df.rename(columns=correct_columns)"
   ],
   "metadata": {
    "collapsed": false,
    "ExecuteTime": {
     "end_time": "2024-02-29T22:14:20.353395500Z",
     "start_time": "2024-02-29T22:14:20.310370700Z"
    }
   }
  },
  {
   "cell_type": "markdown",
   "source": [
    "### Сумма всех поездок"
   ],
   "metadata": {
    "collapsed": false
   }
  },
  {
   "cell_type": "code",
   "execution_count": 21,
   "outputs": [
    {
     "data": {
      "text/plain": "14265773"
     },
     "execution_count": 21,
     "metadata": {},
     "output_type": "execute_result"
    }
   ],
   "source": [
    "df['pickups'].sum()"
   ],
   "metadata": {
    "collapsed": false,
    "ExecuteTime": {
     "end_time": "2024-02-29T22:21:03.904349400Z",
     "start_time": "2024-02-29T22:21:03.882351800Z"
    }
   }
  },
  {
   "cell_type": "markdown",
   "source": [
    "### Сумма всех поездок по районам"
   ],
   "metadata": {
    "collapsed": false
   }
  },
  {
   "cell_type": "code",
   "execution_count": 20,
   "outputs": [
    {
     "data": {
      "text/plain": "                pickups\nborough                \nBronx            220047\nBrooklyn        2321035\nEWR                 105\nManhattan      10367841\nQueens          1343528\nStaten Island      6957",
      "text/html": "<div>\n<style scoped>\n    .dataframe tbody tr th:only-of-type {\n        vertical-align: middle;\n    }\n\n    .dataframe tbody tr th {\n        vertical-align: top;\n    }\n\n    .dataframe thead th {\n        text-align: right;\n    }\n</style>\n<table border=\"1\" class=\"dataframe\">\n  <thead>\n    <tr style=\"text-align: right;\">\n      <th></th>\n      <th>pickups</th>\n    </tr>\n    <tr>\n      <th>borough</th>\n      <th></th>\n    </tr>\n  </thead>\n  <tbody>\n    <tr>\n      <th>Bronx</th>\n      <td>220047</td>\n    </tr>\n    <tr>\n      <th>Brooklyn</th>\n      <td>2321035</td>\n    </tr>\n    <tr>\n      <th>EWR</th>\n      <td>105</td>\n    </tr>\n    <tr>\n      <th>Manhattan</th>\n      <td>10367841</td>\n    </tr>\n    <tr>\n      <th>Queens</th>\n      <td>1343528</td>\n    </tr>\n    <tr>\n      <th>Staten Island</th>\n      <td>6957</td>\n    </tr>\n  </tbody>\n</table>\n</div>"
     },
     "execution_count": 20,
     "metadata": {},
     "output_type": "execute_result"
    }
   ],
   "source": [
    "df.groupby('borough').agg({'pickups': 'sum'})"
   ],
   "metadata": {
    "collapsed": false,
    "ExecuteTime": {
     "end_time": "2024-02-29T22:20:50.390581200Z",
     "start_time": "2024-02-29T22:20:50.366387500Z"
    }
   }
  },
  {
   "cell_type": "markdown",
   "source": [
    "### Район с минимальным количеством поездок"
   ],
   "metadata": {
    "collapsed": false
   }
  },
  {
   "cell_type": "code",
   "execution_count": 29,
   "outputs": [
    {
     "data": {
      "text/plain": "pickups    EWR\ndtype: object"
     },
     "execution_count": 29,
     "metadata": {},
     "output_type": "execute_result"
    }
   ],
   "source": [
    "df.groupby('borough').agg({'pickups': 'sum'}).idxmin()"
   ],
   "metadata": {
    "collapsed": false,
    "ExecuteTime": {
     "end_time": "2024-02-29T22:25:57.941680500Z",
     "start_time": "2024-02-29T22:25:57.923660600Z"
    }
   }
  },
  {
   "cell_type": "markdown",
   "source": [
    "### Среднее количество поездок по районам в зависимости от дня недели"
   ],
   "metadata": {
    "collapsed": false
   }
  },
  {
   "cell_type": "code",
   "execution_count": 32,
   "outputs": [
    {
     "data": {
      "text/plain": "                        pickups\nborough       hday             \nBronx         N       50.771073\n              Y       48.065868\nBrooklyn      N      534.727969\n              Y      527.011976\nEWR           N        0.023467\n              Y        0.041916\nManhattan     N     2401.302921\n              Y     2035.928144\nQueens        N      308.899904\n              Y      320.730539\nStaten Island N        1.606082\n              Y        1.497006",
      "text/html": "<div>\n<style scoped>\n    .dataframe tbody tr th:only-of-type {\n        vertical-align: middle;\n    }\n\n    .dataframe tbody tr th {\n        vertical-align: top;\n    }\n\n    .dataframe thead th {\n        text-align: right;\n    }\n</style>\n<table border=\"1\" class=\"dataframe\">\n  <thead>\n    <tr style=\"text-align: right;\">\n      <th></th>\n      <th></th>\n      <th>pickups</th>\n    </tr>\n    <tr>\n      <th>borough</th>\n      <th>hday</th>\n      <th></th>\n    </tr>\n  </thead>\n  <tbody>\n    <tr>\n      <th rowspan=\"2\" valign=\"top\">Bronx</th>\n      <th>N</th>\n      <td>50.771073</td>\n    </tr>\n    <tr>\n      <th>Y</th>\n      <td>48.065868</td>\n    </tr>\n    <tr>\n      <th rowspan=\"2\" valign=\"top\">Brooklyn</th>\n      <th>N</th>\n      <td>534.727969</td>\n    </tr>\n    <tr>\n      <th>Y</th>\n      <td>527.011976</td>\n    </tr>\n    <tr>\n      <th rowspan=\"2\" valign=\"top\">EWR</th>\n      <th>N</th>\n      <td>0.023467</td>\n    </tr>\n    <tr>\n      <th>Y</th>\n      <td>0.041916</td>\n    </tr>\n    <tr>\n      <th rowspan=\"2\" valign=\"top\">Manhattan</th>\n      <th>N</th>\n      <td>2401.302921</td>\n    </tr>\n    <tr>\n      <th>Y</th>\n      <td>2035.928144</td>\n    </tr>\n    <tr>\n      <th rowspan=\"2\" valign=\"top\">Queens</th>\n      <th>N</th>\n      <td>308.899904</td>\n    </tr>\n    <tr>\n      <th>Y</th>\n      <td>320.730539</td>\n    </tr>\n    <tr>\n      <th rowspan=\"2\" valign=\"top\">Staten Island</th>\n      <th>N</th>\n      <td>1.606082</td>\n    </tr>\n    <tr>\n      <th>Y</th>\n      <td>1.497006</td>\n    </tr>\n  </tbody>\n</table>\n</div>"
     },
     "execution_count": 32,
     "metadata": {},
     "output_type": "execute_result"
    }
   ],
   "source": [
    "df.groupby(['borough', 'hday']).agg({'pickups': 'mean'})"
   ],
   "metadata": {
    "collapsed": false,
    "ExecuteTime": {
     "end_time": "2024-02-29T22:28:31.214392Z",
     "start_time": "2024-02-29T22:28:31.199899200Z"
    }
   }
  },
  {
   "cell_type": "markdown",
   "source": [
    "### Сумма поездок по районам по месяцам"
   ],
   "metadata": {
    "collapsed": false
   }
  },
  {
   "cell_type": "code",
   "execution_count": 37,
   "outputs": [
    {
     "data": {
      "text/plain": "   pickup_month        borough  pickups\n21          Jun      Manhattan  1995388\n33          May      Manhattan  1888800\n9           Feb      Manhattan  1718571\n27          Mar      Manhattan  1661261\n3           Apr      Manhattan  1648278\n15          Jan      Manhattan  1455543\n19          Jun       Brooklyn   482466\n31          May       Brooklyn   476087\n1           Apr       Brooklyn   378095\n25          Mar       Brooklyn   346726\n7           Feb       Brooklyn   328650\n13          Jan       Brooklyn   309011\n22          Jun         Queens   286311\n34          May         Queens   275893\n28          Mar         Queens   219561\n4           Apr         Queens   216857\n10          Feb         Queens   185695\n16          Jan         Queens   159211\n30          May          Bronx    53037\n18          Jun          Bronx    49006\n0           Apr          Bronx    34617\n24          Mar          Bronx    32232\n6           Feb          Bronx    28694\n12          Jan          Bronx    22461\n23          Jun  Staten Island     1673\n35          May  Staten Island     1517\n5           Apr  Staten Island     1068\n29          Mar  Staten Island      975\n11          Feb  Staten Island      903\n17          Jan  Staten Island      821\n20          Jun            EWR       29\n32          May            EWR       27\n26          Mar            EWR       14\n8           Feb            EWR       14\n14          Jan            EWR       11\n2           Apr            EWR       10",
      "text/html": "<div>\n<style scoped>\n    .dataframe tbody tr th:only-of-type {\n        vertical-align: middle;\n    }\n\n    .dataframe tbody tr th {\n        vertical-align: top;\n    }\n\n    .dataframe thead th {\n        text-align: right;\n    }\n</style>\n<table border=\"1\" class=\"dataframe\">\n  <thead>\n    <tr style=\"text-align: right;\">\n      <th></th>\n      <th>pickup_month</th>\n      <th>borough</th>\n      <th>pickups</th>\n    </tr>\n  </thead>\n  <tbody>\n    <tr>\n      <th>21</th>\n      <td>Jun</td>\n      <td>Manhattan</td>\n      <td>1995388</td>\n    </tr>\n    <tr>\n      <th>33</th>\n      <td>May</td>\n      <td>Manhattan</td>\n      <td>1888800</td>\n    </tr>\n    <tr>\n      <th>9</th>\n      <td>Feb</td>\n      <td>Manhattan</td>\n      <td>1718571</td>\n    </tr>\n    <tr>\n      <th>27</th>\n      <td>Mar</td>\n      <td>Manhattan</td>\n      <td>1661261</td>\n    </tr>\n    <tr>\n      <th>3</th>\n      <td>Apr</td>\n      <td>Manhattan</td>\n      <td>1648278</td>\n    </tr>\n    <tr>\n      <th>15</th>\n      <td>Jan</td>\n      <td>Manhattan</td>\n      <td>1455543</td>\n    </tr>\n    <tr>\n      <th>19</th>\n      <td>Jun</td>\n      <td>Brooklyn</td>\n      <td>482466</td>\n    </tr>\n    <tr>\n      <th>31</th>\n      <td>May</td>\n      <td>Brooklyn</td>\n      <td>476087</td>\n    </tr>\n    <tr>\n      <th>1</th>\n      <td>Apr</td>\n      <td>Brooklyn</td>\n      <td>378095</td>\n    </tr>\n    <tr>\n      <th>25</th>\n      <td>Mar</td>\n      <td>Brooklyn</td>\n      <td>346726</td>\n    </tr>\n    <tr>\n      <th>7</th>\n      <td>Feb</td>\n      <td>Brooklyn</td>\n      <td>328650</td>\n    </tr>\n    <tr>\n      <th>13</th>\n      <td>Jan</td>\n      <td>Brooklyn</td>\n      <td>309011</td>\n    </tr>\n    <tr>\n      <th>22</th>\n      <td>Jun</td>\n      <td>Queens</td>\n      <td>286311</td>\n    </tr>\n    <tr>\n      <th>34</th>\n      <td>May</td>\n      <td>Queens</td>\n      <td>275893</td>\n    </tr>\n    <tr>\n      <th>28</th>\n      <td>Mar</td>\n      <td>Queens</td>\n      <td>219561</td>\n    </tr>\n    <tr>\n      <th>4</th>\n      <td>Apr</td>\n      <td>Queens</td>\n      <td>216857</td>\n    </tr>\n    <tr>\n      <th>10</th>\n      <td>Feb</td>\n      <td>Queens</td>\n      <td>185695</td>\n    </tr>\n    <tr>\n      <th>16</th>\n      <td>Jan</td>\n      <td>Queens</td>\n      <td>159211</td>\n    </tr>\n    <tr>\n      <th>30</th>\n      <td>May</td>\n      <td>Bronx</td>\n      <td>53037</td>\n    </tr>\n    <tr>\n      <th>18</th>\n      <td>Jun</td>\n      <td>Bronx</td>\n      <td>49006</td>\n    </tr>\n    <tr>\n      <th>0</th>\n      <td>Apr</td>\n      <td>Bronx</td>\n      <td>34617</td>\n    </tr>\n    <tr>\n      <th>24</th>\n      <td>Mar</td>\n      <td>Bronx</td>\n      <td>32232</td>\n    </tr>\n    <tr>\n      <th>6</th>\n      <td>Feb</td>\n      <td>Bronx</td>\n      <td>28694</td>\n    </tr>\n    <tr>\n      <th>12</th>\n      <td>Jan</td>\n      <td>Bronx</td>\n      <td>22461</td>\n    </tr>\n    <tr>\n      <th>23</th>\n      <td>Jun</td>\n      <td>Staten Island</td>\n      <td>1673</td>\n    </tr>\n    <tr>\n      <th>35</th>\n      <td>May</td>\n      <td>Staten Island</td>\n      <td>1517</td>\n    </tr>\n    <tr>\n      <th>5</th>\n      <td>Apr</td>\n      <td>Staten Island</td>\n      <td>1068</td>\n    </tr>\n    <tr>\n      <th>29</th>\n      <td>Mar</td>\n      <td>Staten Island</td>\n      <td>975</td>\n    </tr>\n    <tr>\n      <th>11</th>\n      <td>Feb</td>\n      <td>Staten Island</td>\n      <td>903</td>\n    </tr>\n    <tr>\n      <th>17</th>\n      <td>Jan</td>\n      <td>Staten Island</td>\n      <td>821</td>\n    </tr>\n    <tr>\n      <th>20</th>\n      <td>Jun</td>\n      <td>EWR</td>\n      <td>29</td>\n    </tr>\n    <tr>\n      <th>32</th>\n      <td>May</td>\n      <td>EWR</td>\n      <td>27</td>\n    </tr>\n    <tr>\n      <th>26</th>\n      <td>Mar</td>\n      <td>EWR</td>\n      <td>14</td>\n    </tr>\n    <tr>\n      <th>8</th>\n      <td>Feb</td>\n      <td>EWR</td>\n      <td>14</td>\n    </tr>\n    <tr>\n      <th>14</th>\n      <td>Jan</td>\n      <td>EWR</td>\n      <td>11</td>\n    </tr>\n    <tr>\n      <th>2</th>\n      <td>Apr</td>\n      <td>EWR</td>\n      <td>10</td>\n    </tr>\n  </tbody>\n</table>\n</div>"
     },
     "execution_count": 37,
     "metadata": {},
     "output_type": "execute_result"
    }
   ],
   "source": [
    "df.groupby(['pickup_month', 'borough'], as_index=False).agg({'pickups': 'sum'}).sort_values('pickups', ascending=False)"
   ],
   "metadata": {
    "collapsed": false,
    "ExecuteTime": {
     "end_time": "2024-02-29T22:35:14.874957100Z",
     "start_time": "2024-02-29T22:35:14.851932800Z"
    }
   }
  },
  {
   "cell_type": "markdown",
   "source": [
    "### Перевод температуры из Фаренгейтов в градусы Цельсия"
   ],
   "metadata": {
    "collapsed": false
   }
  },
  {
   "cell_type": "code",
   "execution_count": 39,
   "outputs": [
    {
     "data": {
      "text/plain": "0        -1.111111\n1        -1.111111\n2        -1.111111\n3        -1.111111\n4        -1.111111\n           ...    \n29096    23.888889\n29097    23.888889\n29098    23.888889\n29099    23.888889\n29100    23.888889\nName: temp_C, Length: 29101, dtype: float64"
     },
     "execution_count": 39,
     "metadata": {},
     "output_type": "execute_result"
    }
   ],
   "source": [
    "def temp_to_celcius(dataframe):\n",
    "    return (dataframe - 32) * 5/9\n",
    "df['temp_C'] = temp_to_celcius(df['temp'])\n",
    "df['temp_C']"
   ],
   "metadata": {
    "collapsed": false,
    "ExecuteTime": {
     "end_time": "2024-02-29T22:38:20.625699500Z",
     "start_time": "2024-02-29T22:38:20.617201700Z"
    }
   }
  },
  {
   "cell_type": "markdown",
   "source": [
    "### Визуализация поездок по месяцам"
   ],
   "metadata": {
    "collapsed": false
   }
  },
  {
   "cell_type": "code",
   "execution_count": 55,
   "outputs": [
    {
     "data": {
      "text/plain": "<Axes: xlabel='pickup_month', ylabel='pickups'>"
     },
     "execution_count": 55,
     "metadata": {},
     "output_type": "execute_result"
    },
    {
     "data": {
      "text/plain": "<Figure size 640x480 with 1 Axes>",
      "image/png": "[encoded data removed]"
     },
     "metadata": {},
     "output_type": "display_data"
    }
   ],
   "source": [
    "sns.barplot(x='pickup_month', y='pickups', data=df.groupby('pickup_month').agg({'pickups': 'sum'}).reset_index())"
   ],
   "metadata": {
    "collapsed": false,
    "ExecuteTime": {
     "end_time": "2024-02-29T22:59:28.334781800Z",
     "start_time": "2024-02-29T22:59:28.174258800Z"
    }
   }
  },
  {
   "cell_type": "code",
   "execution_count": null,
   "outputs": [],
   "source": [],
   "metadata": {
    "collapsed": false
   }
  }
 ],
 "metadata": {
  "kernelspec": {
   "display_name": "Python 3",
   "language": "python",
   "name": "python3"
  },
  "language_info": {
   "codemirror_mode": {
    "name": "ipython",
    "version": 2
   },
   "file_extension": ".py",
   "mimetype": "text/x-python",
   "name": "python",
   "nbconvert_exporter": "python",
   "pygments_lexer": "ipython2",
   "version": "2.7.6"
  }
 },
 "nbformat": 4,
 "nbformat_minor": 0
}
