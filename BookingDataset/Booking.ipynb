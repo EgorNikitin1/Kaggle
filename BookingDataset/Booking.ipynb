{
 "cells": [
  {
   "cell_type": "markdown",
   "source": [
    "# Booking dataset"
   ],
   "metadata": {
    "collapsed": false
   }
  },
  {
   "cell_type": "code",
   "execution_count": 1,
   "metadata": {
    "collapsed": true,
    "ExecuteTime": {
     "end_time": "2024-02-29T15:28:26.839085Z",
     "start_time": "2024-02-29T15:28:25.331423500Z"
    }
   },
   "outputs": [],
   "source": [
    "import pandas as pd"
   ]
  },
  {
   "cell_type": "markdown",
   "source": [
    "### Чтение данных из файла"
   ],
   "metadata": {
    "collapsed": false
   }
  },
  {
   "cell_type": "code",
   "execution_count": 3,
   "outputs": [],
   "source": [
    "df = pd.read_csv('booking.csv', sep=';')"
   ],
   "metadata": {
    "collapsed": false,
    "ExecuteTime": {
     "end_time": "2024-02-29T15:29:00.180139600Z",
     "start_time": "2024-02-29T15:28:59.945139500Z"
    }
   }
  },
  {
   "cell_type": "markdown",
   "source": [
    "### Вывод данных, размер и информация о таблице"
   ],
   "metadata": {
    "collapsed": false
   }
  },
  {
   "cell_type": "code",
   "execution_count": 10,
   "outputs": [
    {
     "data": {
      "text/plain": "          Hotel  Is Canceled  Lead Time arrival full date  Arrival Date Year  \\\n0  Resort Hotel            0        342        2015-07-01               2015   \n1  Resort Hotel            0        737        2015-07-01               2015   \n2  Resort Hotel            0          7        2015-07-01               2015   \n3  Resort Hotel            0         13        2015-07-01               2015   \n4  Resort Hotel            0         14        2015-07-01               2015   \n\n  Arrival Date Month  Arrival Date Week Number  Arrival Date Day of Month  \\\n0               July                        27                          1   \n1               July                        27                          1   \n2               July                        27                          1   \n3               July                        27                          1   \n4               July                        27                          1   \n\n   Stays in Weekend nights  Stays in week nights  ...  Adults  Children  \\\n0                        0                     0  ...       2       0.0   \n1                        0                     0  ...       2       0.0   \n2                        0                     1  ...       1       0.0   \n3                        0                     1  ...       1       0.0   \n4                        0                     2  ...       2       0.0   \n\n   Babies  Meal Country Reserved Room Type Assigned room type customer type  \\\n0       0    BB     PRT                  C                  C     Transient   \n1       0    BB     PRT                  C                  C     Transient   \n2       0    BB     GBR                  A                  C     Transient   \n3       0    BB     GBR                  A                  A     Transient   \n4       0    BB     GBR                  A                  A     Transient   \n\n  Reservation Status Reservation status_date  \n0          Check-Out              2015-07-01  \n1          Check-Out              2015-07-01  \n2          Check-Out              2015-07-02  \n3          Check-Out              2015-07-02  \n4          Check-Out              2015-07-03  \n\n[5 rows x 21 columns]",
      "text/html": "<div>\n<style scoped>\n    .dataframe tbody tr th:only-of-type {\n        vertical-align: middle;\n    }\n\n    .dataframe tbody tr th {\n        vertical-align: top;\n    }\n\n    .dataframe thead th {\n        text-align: right;\n    }\n</style>\n<table border=\"1\" class=\"dataframe\">\n  <thead>\n    <tr style=\"text-align: right;\">\n      <th></th>\n      <th>Hotel</th>\n      <th>Is Canceled</th>\n      <th>Lead Time</th>\n      <th>arrival full date</th>\n      <th>Arrival Date Year</th>\n      <th>Arrival Date Month</th>\n      <th>Arrival Date Week Number</th>\n      <th>Arrival Date Day of Month</th>\n      <th>Stays in Weekend nights</th>\n      <th>Stays in week nights</th>\n      <th>...</th>\n      <th>Adults</th>\n      <th>Children</th>\n      <th>Babies</th>\n      <th>Meal</th>\n      <th>Country</th>\n      <th>Reserved Room Type</th>\n      <th>Assigned room type</th>\n      <th>customer type</th>\n      <th>Reservation Status</th>\n      <th>Reservation status_date</th>\n    </tr>\n  </thead>\n  <tbody>\n    <tr>\n      <th>0</th>\n      <td>Resort Hotel</td>\n      <td>0</td>\n      <td>342</td>\n      <td>2015-07-01</td>\n      <td>2015</td>\n      <td>July</td>\n      <td>27</td>\n      <td>1</td>\n      <td>0</td>\n      <td>0</td>\n      <td>...</td>\n      <td>2</td>\n      <td>0.0</td>\n      <td>0</td>\n      <td>BB</td>\n      <td>PRT</td>\n      <td>C</td>\n      <td>C</td>\n      <td>Transient</td>\n      <td>Check-Out</td>\n      <td>2015-07-01</td>\n    </tr>\n    <tr>\n      <th>1</th>\n      <td>Resort Hotel</td>\n      <td>0</td>\n      <td>737</td>\n      <td>2015-07-01</td>\n      <td>2015</td>\n      <td>July</td>\n      <td>27</td>\n      <td>1</td>\n      <td>0</td>\n      <td>0</td>\n      <td>...</td>\n      <td>2</td>\n      <td>0.0</td>\n      <td>0</td>\n      <td>BB</td>\n      <td>PRT</td>\n      <td>C</td>\n      <td>C</td>\n      <td>Transient</td>\n      <td>Check-Out</td>\n      <td>2015-07-01</td>\n    </tr>\n    <tr>\n      <th>2</th>\n      <td>Resort Hotel</td>\n      <td>0</td>\n      <td>7</td>\n      <td>2015-07-01</td>\n      <td>2015</td>\n      <td>July</td>\n      <td>27</td>\n      <td>1</td>\n      <td>0</td>\n      <td>1</td>\n      <td>...</td>\n      <td>1</td>\n      <td>0.0</td>\n      <td>0</td>\n      <td>BB</td>\n      <td>GBR</td>\n      <td>A</td>\n      <td>C</td>\n      <td>Transient</td>\n      <td>Check-Out</td>\n      <td>2015-07-02</td>\n    </tr>\n    <tr>\n      <th>3</th>\n      <td>Resort Hotel</td>\n      <td>0</td>\n      <td>13</td>\n      <td>2015-07-01</td>\n      <td>2015</td>\n      <td>July</td>\n      <td>27</td>\n      <td>1</td>\n      <td>0</td>\n      <td>1</td>\n      <td>...</td>\n      <td>1</td>\n      <td>0.0</td>\n      <td>0</td>\n      <td>BB</td>\n      <td>GBR</td>\n      <td>A</td>\n      <td>A</td>\n      <td>Transient</td>\n      <td>Check-Out</td>\n      <td>2015-07-02</td>\n    </tr>\n    <tr>\n      <th>4</th>\n      <td>Resort Hotel</td>\n      <td>0</td>\n      <td>14</td>\n      <td>2015-07-01</td>\n      <td>2015</td>\n      <td>July</td>\n      <td>27</td>\n      <td>1</td>\n      <td>0</td>\n      <td>2</td>\n      <td>...</td>\n      <td>2</td>\n      <td>0.0</td>\n      <td>0</td>\n      <td>BB</td>\n      <td>GBR</td>\n      <td>A</td>\n      <td>A</td>\n      <td>Transient</td>\n      <td>Check-Out</td>\n      <td>2015-07-03</td>\n    </tr>\n  </tbody>\n</table>\n<p>5 rows × 21 columns</p>\n</div>"
     },
     "execution_count": 10,
     "metadata": {},
     "output_type": "execute_result"
    }
   ],
   "source": [
    "df.head()"
   ],
   "metadata": {
    "collapsed": false,
    "ExecuteTime": {
     "end_time": "2024-02-29T15:32:11.949363500Z",
     "start_time": "2024-02-29T15:32:11.922860100Z"
    }
   }
  },
  {
   "cell_type": "code",
   "execution_count": 11,
   "outputs": [
    {
     "data": {
      "text/plain": "(119390, 21)"
     },
     "execution_count": 11,
     "metadata": {},
     "output_type": "execute_result"
    }
   ],
   "source": [
    "df.shape"
   ],
   "metadata": {
    "collapsed": false,
    "ExecuteTime": {
     "end_time": "2024-02-29T15:32:17.448160800Z",
     "start_time": "2024-02-29T15:32:17.443660800Z"
    }
   }
  },
  {
   "cell_type": "code",
   "execution_count": 13,
   "outputs": [
    {
     "name": "stdout",
     "output_type": "stream",
     "text": [
      "<class 'pandas.core.frame.DataFrame'>\n",
      "RangeIndex: 119390 entries, 0 to 119389\n",
      "Data columns (total 21 columns):\n",
      " #   Column                     Non-Null Count   Dtype  \n",
      "---  ------                     --------------   -----  \n",
      " 0   Hotel                      119390 non-null  object \n",
      " 1   Is Canceled                119390 non-null  int64  \n",
      " 2   Lead Time                  119390 non-null  int64  \n",
      " 3   arrival full date          119390 non-null  object \n",
      " 4   Arrival Date Year          119390 non-null  int64  \n",
      " 5   Arrival Date Month         119390 non-null  object \n",
      " 6   Arrival Date Week Number   119390 non-null  int64  \n",
      " 7   Arrival Date Day of Month  119390 non-null  int64  \n",
      " 8   Stays in Weekend nights    119390 non-null  int64  \n",
      " 9   Stays in week nights       119390 non-null  int64  \n",
      " 10  stays total nights         119390 non-null  int64  \n",
      " 11  Adults                     119390 non-null  int64  \n",
      " 12  Children                   119386 non-null  float64\n",
      " 13  Babies                     119390 non-null  int64  \n",
      " 14  Meal                       119390 non-null  object \n",
      " 15  Country                    118902 non-null  object \n",
      " 16  Reserved Room Type         119390 non-null  object \n",
      " 17  Assigned room type         119390 non-null  object \n",
      " 18  customer type              119390 non-null  object \n",
      " 19  Reservation Status         119390 non-null  object \n",
      " 20  Reservation status_date    119390 non-null  object \n",
      "dtypes: float64(1), int64(10), object(10)\n",
      "memory usage: 19.1+ MB\n"
     ]
    }
   ],
   "source": [
    "df.info()"
   ],
   "metadata": {
    "collapsed": false,
    "ExecuteTime": {
     "end_time": "2024-02-29T15:32:39.513478500Z",
     "start_time": "2024-02-29T15:32:39.471978900Z"
    }
   }
  },
  {
   "cell_type": "markdown",
   "source": [
    "### Корректировка названия столбцов"
   ],
   "metadata": {
    "collapsed": false
   }
  },
  {
   "cell_type": "code",
   "execution_count": 16,
   "outputs": [
    {
     "data": {
      "text/plain": "          hotel  is_canceled  lead_time arrival_full_date  arrival_date_year  \\\n0  Resort Hotel            0        342        2015-07-01               2015   \n1  Resort Hotel            0        737        2015-07-01               2015   \n2  Resort Hotel            0          7        2015-07-01               2015   \n3  Resort Hotel            0         13        2015-07-01               2015   \n4  Resort Hotel            0         14        2015-07-01               2015   \n\n  arrival_date_month  arrival_date_week_number  arrival_date_day_of_month  \\\n0               July                        27                          1   \n1               July                        27                          1   \n2               July                        27                          1   \n3               July                        27                          1   \n4               July                        27                          1   \n\n   stays_in_weekend_nights  stays_in_week_nights  ...  adults  children  \\\n0                        0                     0  ...       2       0.0   \n1                        0                     0  ...       2       0.0   \n2                        0                     1  ...       1       0.0   \n3                        0                     1  ...       1       0.0   \n4                        0                     2  ...       2       0.0   \n\n   babies  meal country reserved_room_type assigned_room_type customer_type  \\\n0       0    BB     PRT                  C                  C     Transient   \n1       0    BB     PRT                  C                  C     Transient   \n2       0    BB     GBR                  A                  C     Transient   \n3       0    BB     GBR                  A                  A     Transient   \n4       0    BB     GBR                  A                  A     Transient   \n\n  reservation_status reservation_status_date  \n0          Check-Out              2015-07-01  \n1          Check-Out              2015-07-01  \n2          Check-Out              2015-07-02  \n3          Check-Out              2015-07-02  \n4          Check-Out              2015-07-03  \n\n[5 rows x 21 columns]",
      "text/html": "<div>\n<style scoped>\n    .dataframe tbody tr th:only-of-type {\n        vertical-align: middle;\n    }\n\n    .dataframe tbody tr th {\n        vertical-align: top;\n    }\n\n    .dataframe thead th {\n        text-align: right;\n    }\n</style>\n<table border=\"1\" class=\"dataframe\">\n  <thead>\n    <tr style=\"text-align: right;\">\n      <th></th>\n      <th>hotel</th>\n      <th>is_canceled</th>\n      <th>lead_time</th>\n      <th>arrival_full_date</th>\n      <th>arrival_date_year</th>\n      <th>arrival_date_month</th>\n      <th>arrival_date_week_number</th>\n      <th>arrival_date_day_of_month</th>\n      <th>stays_in_weekend_nights</th>\n      <th>stays_in_week_nights</th>\n      <th>...</th>\n      <th>adults</th>\n      <th>children</th>\n      <th>babies</th>\n      <th>meal</th>\n      <th>country</th>\n      <th>reserved_room_type</th>\n      <th>assigned_room_type</th>\n      <th>customer_type</th>\n      <th>reservation_status</th>\n      <th>reservation_status_date</th>\n    </tr>\n  </thead>\n  <tbody>\n    <tr>\n      <th>0</th>\n      <td>Resort Hotel</td>\n      <td>0</td>\n      <td>342</td>\n      <td>2015-07-01</td>\n      <td>2015</td>\n      <td>July</td>\n      <td>27</td>\n      <td>1</td>\n      <td>0</td>\n      <td>0</td>\n      <td>...</td>\n      <td>2</td>\n      <td>0.0</td>\n      <td>0</td>\n      <td>BB</td>\n      <td>PRT</td>\n      <td>C</td>\n      <td>C</td>\n      <td>Transient</td>\n      <td>Check-Out</td>\n      <td>2015-07-01</td>\n    </tr>\n    <tr>\n      <th>1</th>\n      <td>Resort Hotel</td>\n      <td>0</td>\n      <td>737</td>\n      <td>2015-07-01</td>\n      <td>2015</td>\n      <td>July</td>\n      <td>27</td>\n      <td>1</td>\n      <td>0</td>\n      <td>0</td>\n      <td>...</td>\n      <td>2</td>\n      <td>0.0</td>\n      <td>0</td>\n      <td>BB</td>\n      <td>PRT</td>\n      <td>C</td>\n      <td>C</td>\n      <td>Transient</td>\n      <td>Check-Out</td>\n      <td>2015-07-01</td>\n    </tr>\n    <tr>\n      <th>2</th>\n      <td>Resort Hotel</td>\n      <td>0</td>\n      <td>7</td>\n      <td>2015-07-01</td>\n      <td>2015</td>\n      <td>July</td>\n      <td>27</td>\n      <td>1</td>\n      <td>0</td>\n      <td>1</td>\n      <td>...</td>\n      <td>1</td>\n      <td>0.0</td>\n      <td>0</td>\n      <td>BB</td>\n      <td>GBR</td>\n      <td>A</td>\n      <td>C</td>\n      <td>Transient</td>\n      <td>Check-Out</td>\n      <td>2015-07-02</td>\n    </tr>\n    <tr>\n      <th>3</th>\n      <td>Resort Hotel</td>\n      <td>0</td>\n      <td>13</td>\n      <td>2015-07-01</td>\n      <td>2015</td>\n      <td>July</td>\n      <td>27</td>\n      <td>1</td>\n      <td>0</td>\n      <td>1</td>\n      <td>...</td>\n      <td>1</td>\n      <td>0.0</td>\n      <td>0</td>\n      <td>BB</td>\n      <td>GBR</td>\n      <td>A</td>\n      <td>A</td>\n      <td>Transient</td>\n      <td>Check-Out</td>\n      <td>2015-07-02</td>\n    </tr>\n    <tr>\n      <th>4</th>\n      <td>Resort Hotel</td>\n      <td>0</td>\n      <td>14</td>\n      <td>2015-07-01</td>\n      <td>2015</td>\n      <td>July</td>\n      <td>27</td>\n      <td>1</td>\n      <td>0</td>\n      <td>2</td>\n      <td>...</td>\n      <td>2</td>\n      <td>0.0</td>\n      <td>0</td>\n      <td>BB</td>\n      <td>GBR</td>\n      <td>A</td>\n      <td>A</td>\n      <td>Transient</td>\n      <td>Check-Out</td>\n      <td>2015-07-03</td>\n    </tr>\n  </tbody>\n</table>\n<p>5 rows × 21 columns</p>\n</div>"
     },
     "execution_count": 16,
     "metadata": {},
     "output_type": "execute_result"
    }
   ],
   "source": [
    "def correct_name(name):\n",
    "    return name.replace(' ', '_').lower()\n",
    "df = df.rename(columns=correct_name)\n",
    "df.head()"
   ],
   "metadata": {
    "collapsed": false,
    "ExecuteTime": {
     "end_time": "2024-02-29T15:40:02.384736500Z",
     "start_time": "2024-02-29T15:40:02.359236800Z"
    }
   }
  },
  {
   "cell_type": "markdown",
   "source": [
    "### Топ 5 стран по наименьшему количеству отмены бронирования"
   ],
   "metadata": {
    "collapsed": false
   }
  },
  {
   "cell_type": "code",
   "execution_count": 28,
   "outputs": [
    {
     "data": {
      "text/plain": "country\nPRT    21071\nGBR     9676\nFRA     8481\nESP     6391\nDEU     6069\nName: count, dtype: int64"
     },
     "execution_count": 28,
     "metadata": {},
     "output_type": "execute_result"
    }
   ],
   "source": [
    "df[df['is_canceled'] == 0].country.value_counts()[:5]"
   ],
   "metadata": {
    "collapsed": false,
    "ExecuteTime": {
     "end_time": "2024-02-29T15:46:35.371145100Z",
     "start_time": "2024-02-29T15:46:35.340125300Z"
    }
   }
  },
  {
   "cell_type": "markdown",
   "source": [
    "### Среднее количество ночей в отелях"
   ],
   "metadata": {
    "collapsed": false
   }
  },
  {
   "cell_type": "code",
   "execution_count": 32,
   "outputs": [
    {
     "data": {
      "text/plain": "              stays_total_nights\nhotel                           \nCity Hotel                  2.98\nResort Hotel                4.32",
      "text/html": "<div>\n<style scoped>\n    .dataframe tbody tr th:only-of-type {\n        vertical-align: middle;\n    }\n\n    .dataframe tbody tr th {\n        vertical-align: top;\n    }\n\n    .dataframe thead th {\n        text-align: right;\n    }\n</style>\n<table border=\"1\" class=\"dataframe\">\n  <thead>\n    <tr style=\"text-align: right;\">\n      <th></th>\n      <th>stays_total_nights</th>\n    </tr>\n    <tr>\n      <th>hotel</th>\n      <th></th>\n    </tr>\n  </thead>\n  <tbody>\n    <tr>\n      <th>City Hotel</th>\n      <td>2.98</td>\n    </tr>\n    <tr>\n      <th>Resort Hotel</th>\n      <td>4.32</td>\n    </tr>\n  </tbody>\n</table>\n</div>"
     },
     "execution_count": 32,
     "metadata": {},
     "output_type": "execute_result"
    }
   ],
   "source": [
    "df.groupby('hotel').agg({'stays_total_nights': 'mean'}).round(2)"
   ],
   "metadata": {
    "collapsed": false,
    "ExecuteTime": {
     "end_time": "2024-02-29T15:59:03.614925800Z",
     "start_time": "2024-02-29T15:59:03.581426600Z"
    }
   }
  },
  {
   "cell_type": "markdown",
   "source": [
    "### Количество бронирований в которых отличаются забронированные номера от полученных"
   ],
   "metadata": {
    "collapsed": false
   }
  },
  {
   "cell_type": "code",
   "execution_count": 38,
   "outputs": [
    {
     "data": {
      "text/plain": "14917"
     },
     "execution_count": 38,
     "metadata": {},
     "output_type": "execute_result"
    }
   ],
   "source": [
    "df.query('assigned_room_type != reserved_room_type').shape[0]"
   ],
   "metadata": {
    "collapsed": false,
    "ExecuteTime": {
     "end_time": "2024-02-29T16:08:15.109397800Z",
     "start_time": "2024-02-29T16:08:15.083897400Z"
    }
   }
  },
  {
   "cell_type": "markdown",
   "source": [
    "### Самый популярный месяц для бронирования за 2016 и 2017"
   ],
   "metadata": {
    "collapsed": false
   }
  },
  {
   "cell_type": "code",
   "execution_count": 41,
   "outputs": [
    {
     "data": {
      "text/plain": "arrival_date_month\nOctober      6203\nMay          5478\nApril        5428\nSeptember    5394\nJune         5292\nAugust       5063\nMarch        4824\nJuly         4572\nNovember     4454\nFebruary     3891\nDecember     3860\nJanuary      2248\nName: count, dtype: int64"
     },
     "execution_count": 41,
     "metadata": {},
     "output_type": "execute_result"
    }
   ],
   "source": [
    "df.query('arrival_date_year == 2016').arrival_date_month.value_counts()"
   ],
   "metadata": {
    "collapsed": false,
    "ExecuteTime": {
     "end_time": "2024-02-29T16:12:44.924897Z",
     "start_time": "2024-02-29T16:12:44.900901700Z"
    }
   }
  },
  {
   "cell_type": "code",
   "execution_count": 42,
   "outputs": [
    {
     "data": {
      "text/plain": "arrival_date_month\nMay         6313\nApril       5661\nJune        5647\nJuly        5313\nMarch       4970\nAugust      4925\nFebruary    4177\nJanuary     3681\nName: count, dtype: int64"
     },
     "execution_count": 42,
     "metadata": {},
     "output_type": "execute_result"
    }
   ],
   "source": [
    "df.query('arrival_date_year == 2017').arrival_date_month.value_counts()"
   ],
   "metadata": {
    "collapsed": false,
    "ExecuteTime": {
     "end_time": "2024-02-29T16:13:04.426895400Z",
     "start_time": "2024-02-29T16:13:04.399424500Z"
    }
   }
  },
  {
   "cell_type": "markdown",
   "source": [
    "### Месяц в котором отменялось бронирование чаще всего по годам"
   ],
   "metadata": {
    "collapsed": false
   }
  },
  {
   "cell_type": "code",
   "execution_count": 49,
   "outputs": [
    {
     "data": {
      "text/plain": "arrival_date_year  arrival_date_month\n2015               September             1543\n                   October               1321\n                   August                1232\n                   July                   939\n                   December               668\n                   November               301\n2016               October               1947\n                   June                  1720\n                   September             1567\n                   April                 1539\n                   May                   1436\n                   November              1360\n                   August                1247\n                   March                 1108\n                   December              1072\n                   July                  1043\n                   February               930\n                   January                438\n2017               May                   2217\n                   April                 1926\n                   June                  1808\n                   July                  1324\n                   March                 1278\n                   August                1123\n                   January               1044\n                   February               971\nName: count, dtype: int64"
     },
     "execution_count": 49,
     "metadata": {},
     "output_type": "execute_result"
    }
   ],
   "source": [
    "df.query('hotel == \"City Hotel\" and is_canceled == 1').groupby('arrival_date_year').arrival_date_month.value_counts()"
   ],
   "metadata": {
    "collapsed": false,
    "ExecuteTime": {
     "end_time": "2024-02-29T16:21:47.089395900Z",
     "start_time": "2024-02-29T16:21:47.055897100Z"
    }
   }
  },
  {
   "cell_type": "markdown",
   "source": [
    "### Среднее значение столбцов"
   ],
   "metadata": {
    "collapsed": false
   }
  },
  {
   "cell_type": "code",
   "execution_count": 65,
   "outputs": [
    {
     "data": {
      "text/plain": "              adults       children         babies\ncount  119390.000000  119386.000000  119390.000000\nmean        1.856403       0.103890       0.007949\nstd         0.579261       0.398561       0.097436\nmin         0.000000       0.000000       0.000000\n25%         2.000000       0.000000       0.000000\n50%         2.000000       0.000000       0.000000\n75%         2.000000       0.000000       0.000000\nmax        55.000000      10.000000      10.000000",
      "text/html": "<div>\n<style scoped>\n    .dataframe tbody tr th:only-of-type {\n        vertical-align: middle;\n    }\n\n    .dataframe tbody tr th {\n        vertical-align: top;\n    }\n\n    .dataframe thead th {\n        text-align: right;\n    }\n</style>\n<table border=\"1\" class=\"dataframe\">\n  <thead>\n    <tr style=\"text-align: right;\">\n      <th></th>\n      <th>adults</th>\n      <th>children</th>\n      <th>babies</th>\n    </tr>\n  </thead>\n  <tbody>\n    <tr>\n      <th>count</th>\n      <td>119390.000000</td>\n      <td>119386.000000</td>\n      <td>119390.000000</td>\n    </tr>\n    <tr>\n      <th>mean</th>\n      <td>1.856403</td>\n      <td>0.103890</td>\n      <td>0.007949</td>\n    </tr>\n    <tr>\n      <th>std</th>\n      <td>0.579261</td>\n      <td>0.398561</td>\n      <td>0.097436</td>\n    </tr>\n    <tr>\n      <th>min</th>\n      <td>0.000000</td>\n      <td>0.000000</td>\n      <td>0.000000</td>\n    </tr>\n    <tr>\n      <th>25%</th>\n      <td>2.000000</td>\n      <td>0.000000</td>\n      <td>0.000000</td>\n    </tr>\n    <tr>\n      <th>50%</th>\n      <td>2.000000</td>\n      <td>0.000000</td>\n      <td>0.000000</td>\n    </tr>\n    <tr>\n      <th>75%</th>\n      <td>2.000000</td>\n      <td>0.000000</td>\n      <td>0.000000</td>\n    </tr>\n    <tr>\n      <th>max</th>\n      <td>55.000000</td>\n      <td>10.000000</td>\n      <td>10.000000</td>\n    </tr>\n  </tbody>\n</table>\n</div>"
     },
     "execution_count": 65,
     "metadata": {},
     "output_type": "execute_result"
    }
   ],
   "source": [
    "df[['adults', 'children', 'babies']].describe()"
   ],
   "metadata": {
    "collapsed": false,
    "ExecuteTime": {
     "end_time": "2024-02-29T16:49:45.698406700Z",
     "start_time": "2024-02-29T16:49:45.665411700Z"
    }
   }
  },
  {
   "cell_type": "markdown",
   "source": [
    "### Среднее количество всех детей по отелям"
   ],
   "metadata": {
    "collapsed": false
   }
  },
  {
   "cell_type": "code",
   "execution_count": 61,
   "outputs": [
    {
     "data": {
      "text/plain": "              total_kids\nhotel                   \nCity Hotel          0.10\nResort Hotel        0.14",
      "text/html": "<div>\n<style scoped>\n    .dataframe tbody tr th:only-of-type {\n        vertical-align: middle;\n    }\n\n    .dataframe tbody tr th {\n        vertical-align: top;\n    }\n\n    .dataframe thead th {\n        text-align: right;\n    }\n</style>\n<table border=\"1\" class=\"dataframe\">\n  <thead>\n    <tr style=\"text-align: right;\">\n      <th></th>\n      <th>total_kids</th>\n    </tr>\n    <tr>\n      <th>hotel</th>\n      <th></th>\n    </tr>\n  </thead>\n  <tbody>\n    <tr>\n      <th>City Hotel</th>\n      <td>0.10</td>\n    </tr>\n    <tr>\n      <th>Resort Hotel</th>\n      <td>0.14</td>\n    </tr>\n  </tbody>\n</table>\n</div>"
     },
     "execution_count": 61,
     "metadata": {},
     "output_type": "execute_result"
    }
   ],
   "source": [
    "df['total_kids'] = df['children'] + df['babies']\n",
    "df.groupby('hotel').agg({'total_kids': 'mean'}).round(2)"
   ],
   "metadata": {
    "collapsed": false,
    "ExecuteTime": {
     "end_time": "2024-02-29T16:46:34.087297200Z",
     "start_time": "2024-02-29T16:46:34.065798600Z"
    }
   }
  },
  {
   "cell_type": "markdown",
   "source": [
    "### Коэффициент оттока клиентов в зависимости от наличия детей"
   ],
   "metadata": {
    "collapsed": false
   }
  },
  {
   "cell_type": "code",
   "execution_count": 88,
   "outputs": [
    {
     "data": {
      "text/plain": "37.22"
     },
     "execution_count": 88,
     "metadata": {},
     "output_type": "execute_result"
    }
   ],
   "source": [
    "df['has_kids'] = df['total_kids'] > 0\n",
    "no_kids_churn = df.query('is_canceled == 1 and has_kids == False').shape[0] / df.query('has_kids == False').shape[0] * 100\n",
    "no_kids_churn = round(no_kids_churn, 2)\n",
    "no_kids_churn"
   ],
   "metadata": {
    "collapsed": false,
    "ExecuteTime": {
     "end_time": "2024-02-29T17:10:50.376937600Z",
     "start_time": "2024-02-29T17:10:50.335439600Z"
    }
   }
  },
  {
   "cell_type": "code",
   "execution_count": 89,
   "outputs": [
    {
     "data": {
      "text/plain": "34.92"
     },
     "execution_count": 89,
     "metadata": {},
     "output_type": "execute_result"
    }
   ],
   "source": [
    "df['has_kids'] = df['total_kids'] > 0\n",
    "has_kids_churn = df.query('is_canceled == 1 and has_kids == True').shape[0] / df.query('has_kids == True').shape[0] * 100\n",
    "has_kids_churn = round(has_kids_churn, 2)\n",
    "has_kids_churn"
   ],
   "metadata": {
    "collapsed": false,
    "ExecuteTime": {
     "end_time": "2024-02-29T17:11:19.763683700Z",
     "start_time": "2024-02-29T17:11:19.744646300Z"
    }
   }
  },
  {
   "cell_type": "code",
   "execution_count": null,
   "outputs": [],
   "source": [],
   "metadata": {
    "collapsed": false
   }
  }
 ],
 "metadata": {
  "kernelspec": {
   "display_name": "Python 3",
   "language": "python",
   "name": "python3"
  },
  "language_info": {
   "codemirror_mode": {
    "name": "ipython",
    "version": 2
   },
   "file_extension": ".py",
   "mimetype": "text/x-python",
   "name": "python",
   "nbconvert_exporter": "python",
   "pygments_lexer": "ipython2",
   "version": "2.7.6"
  }
 },
 "nbformat": 4,
 "nbformat_minor": 0
}
